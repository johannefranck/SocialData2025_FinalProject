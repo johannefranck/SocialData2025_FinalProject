{
 "cells": [
  {
   "cell_type": "code",
   "execution_count": 70,
   "metadata": {},
   "outputs": [],
   "source": [
    "import os\n",
    "import json\n",
    "from functools import partial\n",
    "\n",
    "import pandas as pd\n",
    "import numpy as np\n",
    "import geopandas as gpd\n",
    "import matplotlib.pyplot as plt\n",
    "from matplotlib.colors import to_hex\n",
    "from shapely.geometry import shape\n",
    "import folium\n",
    "from folium import FeatureGroup\n",
    "from folium.plugins import TimestampedGeoJson\n",
    "import ipywidgets as widgets\n",
    "from IPython.display import display, clear_output\n",
    "\n",
    "pd.set_option('future.no_silent_downcasting', True)"
   ]
  },
  {
   "cell_type": "markdown",
   "metadata": {},
   "source": [
    "# Election data"
   ]
  },
  {
   "cell_type": "markdown",
   "metadata": {},
   "source": [
    "## Get Geography Data"
   ]
  },
  {
   "cell_type": "code",
   "execution_count": 71,
   "metadata": {},
   "outputs": [],
   "source": [
    "# Load the data\n",
    "df_geo = pd.read_csv('Data/raw/Geografi.csv', sep=';', decimal=',', na_values='-')\n",
    "df_geo.columns = df_geo.columns.str.replace(' ', '', regex=True)\n",
    "\n",
    "# Filter the data to only keep Copnhagen and its surroundings\n",
    "df_geo_cph = df_geo.query(\"Storkredsnavn=='Københavns Storkreds'\").drop_duplicates()\n",
    "df_geo_cph['KredsNr'] = df_geo_cph['KredsNr'].astype(int)\n",
    "\n",
    "# Keep only the necessary columns\n",
    "df_geo_cph = df_geo_cph[['KredsNr', 'Kredsnavn','KommuneNr','Kommunenavn']]\n",
    "\n",
    "# Replace Utterslev with Bispebjerg\n",
    "df_geo_cph['Kredsnavn'] = df_geo_cph['Kredsnavn'].replace({'6. Utterslev':'6. Bispebjerg'})"
   ]
  },
  {
   "cell_type": "code",
   "execution_count": 3,
   "metadata": {},
   "outputs": [],
   "source": [
    "kreds_split = df_geo_cph['Kredsnavn'].drop_duplicates().str.split('.', n=1, expand=True)\n",
    "kreds_split.columns = ['ID', 'Name']\n",
    "kreds_split['ID'] = kreds_split['ID'].astype(int)\n",
    "kreds_split['Name'] = kreds_split['Name'].str.strip()  # Remove leading/trailing spaces\n",
    "kreds_map = dict(zip(kreds_split['ID'], kreds_split['Name']))\n",
    "kreds_name_map = {v: k for k, v in kreds_map.items()}"
   ]
  },
  {
   "cell_type": "markdown",
   "metadata": {},
   "source": [
    "## Get Election Data"
   ]
  },
  {
   "cell_type": "code",
   "execution_count": 4,
   "metadata": {},
   "outputs": [],
   "source": [
    "# Load the election data\n",
    "df_elec_data = pd.read_csv('Data/raw/Valgdata.csv', sep=';' , decimal=',', na_values='-')\n",
    "df_elec_data.columns = df_elec_data.columns.str.replace(' ', '', regex=True)\n",
    "\n",
    "# Filter the election data to only keep the relevant KredsNr\n",
    "df_elec_cph = df_elec_data[df_elec_data['KredsNr'].isin([str(k) for k in kreds_map.keys()])]\n",
    "df_elec_cph.loc[:, 'KredsNr'] = df_elec_cph['KredsNr'].astype(int)"
   ]
  },
  {
   "cell_type": "markdown",
   "metadata": {},
   "source": [
    "#### Format into long format"
   ]
  },
  {
   "cell_type": "code",
   "execution_count": 5,
   "metadata": {},
   "outputs": [],
   "source": [
    "# Select vote cols (start with \"FV\")\n",
    "vote_columns = [col for col in df_elec_cph.columns if col.startswith(\"FV\")]\n",
    "\n",
    "# Melt the dataframe to long format\n",
    "df_elec_cph_long = df_elec_cph.melt(\n",
    "    id_vars=['KredsNr'],\n",
    "    value_vars=vote_columns,\n",
    "    var_name='YearParty',\n",
    "    value_name='Votes'\n",
    ")\n",
    "\n",
    "# Split the 'YearParty' column into 'Year' and 'Party'\n",
    "df_elec_cph_long[['Year', 'Partyname']] = df_elec_cph_long['YearParty'].str.extract(r'FV(\\d{4})-(.+)')\n",
    "\n",
    "# Drop columns and reorder\n",
    "df_elec_cph_long = df_elec_cph_long.drop(columns='YearParty')\n",
    "df_elec_cph_long = df_elec_cph_long[['KredsNr', 'Year', 'Partyname', 'Votes']]\n",
    "\n",
    "# Drop nan if the whole row is nan\n",
    "df_elec_cph_long = df_elec_cph_long.dropna(how='all')\n",
    "\n",
    "# Replace NaN values in Votes with 0\n",
    "df_elec_cph_long['Votes'] = df_elec_cph_long['Votes'].fillna(0)\n",
    "\n",
    "# Convert 'Year' and KredsNr to integer\n",
    "df_elec_cph_long['Year'] = df_elec_cph_long['Year'].astype(int)\n",
    "df_elec_cph_long['KredsNr'] = df_elec_cph_long['KredsNr'].astype(int)"
   ]
  },
  {
   "cell_type": "code",
   "execution_count": 6,
   "metadata": {},
   "outputs": [],
   "source": [
    "parties = ['A.Socialdemokratiet','B.DetRadikaleVenstre', 'C.DetKonservativeFolkeparti','D.Centrum-Demokraterne', 'F.SF-SocialistiskFolkeparti',\n",
    "           'I.LiberalAlliance', 'K.Kristendemokraterne', 'O.DanskFolkeparti','M.Minoritetspartiet', 'V.Venstre,DanmarksLiberaleParti',\n",
    "           'Y.NyAlliance', 'Ø.Enhedslisten-DeRød-Grønne','Q.FrieGrønne,DanmarksNyeVenstrefløjsparti','Å.Alternativet',   'P.StramKurs', \n",
    "           'Æ.Danmarksdemokraterne-IngerStøjberg', 'E.KlausRiskærPedersen']\n",
    "\n",
    "blocks = {\n",
    "    \"left\": ['A.Socialdemokratiet',\n",
    "             'F.SF-SocialistiskFolkeparti',\n",
    "             'Ø.Enhedslisten-DeRød-Grønne',\n",
    "             'Q.FrieGrønne,DanmarksNyeVenstrefløjsparti',\n",
    "             'Å.Alternativet',\n",
    "             'B.DetRadikaleVenstre',\n",
    "             'D.Centrum-Demokraterne',\n",
    "             'M.Minoritetspartiet'],\n",
    "    \"right\": ['C.DetKonservativeFolkeparti',\n",
    "              'V.Venstre,DanmarksLiberaleParti',\n",
    "              'I.LiberalAlliance',\n",
    "              'O.DanskFolkeparti',\n",
    "              'Æ.Danmarksdemokraterne-IngerStøjberg',\n",
    "              'P.StramKurs',\n",
    "              'K.Kristendemokraterne',\n",
    "              'Y.NyAlliance',\n",
    "              'E.KlausRiskærPedersen']}"
   ]
  },
  {
   "cell_type": "code",
   "execution_count": 7,
   "metadata": {},
   "outputs": [],
   "source": [
    "df_elec_cph_long_filtered = df_elec_cph_long[df_elec_cph_long['Partyname'].isin(parties)].reset_index(drop=True)"
   ]
  },
  {
   "cell_type": "code",
   "execution_count": 8,
   "metadata": {},
   "outputs": [],
   "source": [
    "df_elec_cph_long_filtered['block'] = df_elec_cph_long_filtered['Partyname'].apply(\n",
    "    lambda x: 'left' if x in blocks['left'] else ('right' if x in blocks['right'] else 'other')\n",
    ")"
   ]
  },
  {
   "cell_type": "code",
   "execution_count": null,
   "metadata": {},
   "outputs": [],
   "source": [
    "df_block_freq = df_elec_cph_long_filtered.groupby(['Year', 'block', 'KredsNr']).agg({'Votes': 'sum'})/df_elec_cph_long_filtered.groupby(['Year', 'KredsNr']).agg({'Votes': 'sum'})*100\n",
    "df_block_freq = df_block_freq.reset_index().rename(columns={'Votes': 'Votes (%)'}).round(2)"
   ]
  },
  {
   "cell_type": "code",
   "execution_count": 66,
   "metadata": {},
   "outputs": [],
   "source": [
    "def blend_red_blue(pct_right):\n",
    "    pct_right = min(max(pct_right, 0), 1)  # Clamp\n",
    "    r = int((1 - pct_right) * 255)\n",
    "    g = 0\n",
    "    b = int(pct_right * 255)\n",
    "    return f\"#{r:02x}{g:02x}{b:02x}\"\n",
    "\n",
    "pivot = df_block_freq.pivot_table(\n",
    "    index=[\"Year\", \"KredsNr\"],\n",
    "    columns=\"block\",\n",
    "    values=\"Votes (%)\",\n",
    "    fill_value=0\n",
    ").reset_index()\n",
    "\n",
    "pivot[\"pct_left\"] = pivot[\"left\"] / (pivot[\"right\"] + pivot[\"left\"])\n",
    "pivot[\"pct_right\"] = pivot[\"right\"] / (pivot[\"right\"] + pivot[\"left\"])\n",
    "\n",
    "geojson_folder = \"Data/CopenhagenGeoData\"\n",
    "\n",
    "m = folium.Map(location=[55.6761, 12.5683], zoom_start=12, tiles=\"cartodbpositron\")\n",
    "\n",
    "for year in sorted(pivot[\"Year\"].unique()):\n",
    "    fg = FeatureGroup(name=str(year))\n",
    "\n",
    "    df_year = pivot[pivot[\"Year\"] == year]\n",
    "    \n",
    "    for _, row in df_year.iterrows():\n",
    "        kreds_nr = row[\"KredsNr\"]\n",
    "        kreds_name = kreds_map.get(kreds_nr)\n",
    "        if not kreds_name:\n",
    "            continue\n",
    "\n",
    "        pct_right = row[\"pct_right\"]\n",
    "        pct_left = row[\"pct_left\"]\n",
    "        fill_color = blend_red_blue(pct_right)\n",
    "\n",
    "        geojson_path = os.path.join(geojson_folder, f\"{kreds_name}.json\")\n",
    "        if not os.path.exists(geojson_path):\n",
    "            continue\n",
    "\n",
    "        with open(geojson_path, \"r\", encoding=\"utf-8\") as f:\n",
    "            geojson = json.load(f)\n",
    "            geom = geojson[\"geometry\"] \n",
    "\n",
    "        folium.GeoJson(\n",
    "            data={\n",
    "                \"type\": \"Feature\",\n",
    "                \"geometry\": geom,\n",
    "                \"properties\": {\n",
    "                    \"popup\": f\"{kreds_name} – {round(pct_left * 100)}% left\"\n",
    "                }\n",
    "            },\n",
    "            name=f\"{kreds_name}_{year}\",\n",
    "            style_function=lambda x, c=fill_color: {\n",
    "                \"fillColor\": c,\n",
    "                \"color\": \"black\",\n",
    "                \"weight\": 1,\n",
    "                \"fillOpacity\": 1,\n",
    "            },\n",
    "            tooltip=folium.GeoJsonTooltip(fields=[\"popup\"])\n",
    "        ).add_to(fg)\n",
    "\n",
    "    fg.add_to(m)\n",
    "\n",
    "folium.LayerControl().add_to(m)\n",
    "m.save(\"CopenhagenElectionMap_layers.html\")"
   ]
  },
  {
   "cell_type": "code",
   "execution_count": 67,
   "metadata": {},
   "outputs": [],
   "source": [
    "def blend_red_blue(pct_right):\n",
    "    pct_right = min(max(pct_right, 0), 1)  # Clamp\n",
    "    r = int((1 - pct_right) * 255)\n",
    "    g = 0\n",
    "    b = int(pct_right * 255)\n",
    "    return f\"#{r:02x}{g:02x}{b:02x}\"\n",
    "\n",
    "# Your processed data\n",
    "pivot = df_block_freq.pivot_table(\n",
    "    index=[\"Year\", \"KredsNr\"],\n",
    "    columns=\"block\",\n",
    "    values=\"Votes (%)\",\n",
    "    fill_value=0\n",
    ").reset_index()\n",
    "\n",
    "pivot[\"pct_left\"] = pivot[\"left\"] / (pivot[\"right\"] + pivot[\"left\"])\n",
    "pivot[\"pct_right\"] = pivot[\"right\"] / (pivot[\"right\"] + pivot[\"left\"])\n",
    "\n",
    "# Set up slicer (dropdown)\n",
    "year_selector = widgets.Dropdown(\n",
    "    options=sorted(pivot[\"Year\"].unique()),\n",
    "    description=\"Year:\",\n",
    "    style={\"description_width\": \"initial\"},\n",
    "    layout=widgets.Layout(width=\"300px\"))\n",
    "\n",
    "output = widgets.Output()\n",
    "\n",
    "def generate_map(year):\n",
    "    m = folium.Map(location=[55.6761, 12.5683], zoom_start=12, tiles=\"cartodbpositron\")\n",
    "    df_year = pivot[pivot[\"Year\"] == year]\n",
    "\n",
    "    for _, row in df_year.iterrows():\n",
    "        kreds_nr = row[\"KredsNr\"]\n",
    "        kreds_name = kreds_map.get(kreds_nr)\n",
    "        if not kreds_name:\n",
    "            continue\n",
    "\n",
    "        pct_right = row[\"pct_right\"]\n",
    "        pct_left = row[\"pct_left\"]\n",
    "        fill_color = blend_red_blue(pct_right)\n",
    "\n",
    "        geojson_path = os.path.join(geojson_folder, f\"{kreds_name}.json\")\n",
    "        if not os.path.exists(geojson_path):\n",
    "            continue\n",
    "\n",
    "        with open(geojson_path, \"r\", encoding=\"utf-8\") as f:\n",
    "            geojson = json.load(f)\n",
    "            geom = geojson[\"geometry\"]\n",
    "\n",
    "        folium.GeoJson(\n",
    "            data={\n",
    "                \"type\": \"Feature\",\n",
    "                \"geometry\": geom,\n",
    "                \"properties\": {\n",
    "                    \"popup\": f\"{kreds_name} – {round(pct_left * 100)}% left\"\n",
    "                }\n",
    "            },\n",
    "            style_function=lambda x, c=fill_color: {\n",
    "                \"fillColor\": c,\n",
    "                \"color\": \"black\",\n",
    "                \"weight\": 1,\n",
    "                \"fillOpacity\": 1,\n",
    "            },\n",
    "            tooltip=folium.GeoJsonTooltip(fields=[\"popup\"])\n",
    "        ).add_to(m)\n",
    "\n",
    "    return m\n",
    "\n",
    "def update_map(change):\n",
    "    with output:\n",
    "        clear_output(wait=True)\n",
    "        selected_year = change[\"new\"]\n",
    "        m = generate_map(selected_year)\n",
    "        display(m)\n",
    "\n",
    "# Link the dropdown to the map update\n",
    "year_selector.observe(update_map, names=\"value\")\n",
    "\n",
    "# # Show the widgets and map initially\n",
    "# display(year_selector)\n",
    "# with output:\n",
    "#     display(generate_map(year_selector.value))\n",
    "# display(output)\n",
    "\n",
    "# Save the map to an HTML file\n",
    "output_map = generate_map(year_selector.value)\n",
    "output_map.save(\"CopenhagenElectionMap_layers_slicer.html\")\n"
   ]
  },
  {
   "cell_type": "code",
   "execution_count": 72,
   "metadata": {},
   "outputs": [],
   "source": [
    "# Path to your GeoJSON folder\n",
    "geojson_folder = \"Data/CopenhagenGeoData\"\n",
    "\n",
    "# Create the base map centered on Copenhagen\n",
    "copenhagen_map = folium.Map(location=[55.6761, 12.5683], zoom_start=12)\n",
    "\n",
    "\n",
    "colors = [\n",
    "    \"#1f77b4\", \"#ff7f0e\", \"#2ca02c\", \"#d62728\",\n",
    "    \"#9467bd\", \"#8c564b\", \"#e377c2\", \"#7f7f7f\",\n",
    "    \"#bcbd22\", \"#17becf\", \"#aec7e8\", \"#ffbb78\"\n",
    "]\n",
    "\n",
    "def style_function(feature, col):\n",
    "    return {\n",
    "        'fillColor': col,\n",
    "        'color': 'black',\n",
    "        'weight': 2,\n",
    "        'fillOpacity': 0.6,\n",
    "    }\n",
    "\n",
    "# Add each GeoJSON file to the map\n",
    "for i, filename in enumerate(os.listdir(geojson_folder)):\n",
    "    if filename.endswith(\".json\"):\n",
    "        path = os.path.join(geojson_folder, filename)\n",
    "        \n",
    "        with open(path, 'r', encoding='utf-8') as f:\n",
    "            geojson_data = json.load(f)\n",
    "        \n",
    "        district_name = os.path.splitext(filename)[0]\n",
    "        \n",
    "        color = colors[i % len(colors)]  # cycle through colors\n",
    "        \n",
    "        folium.GeoJson(\n",
    "            geojson_data,\n",
    "            name=district_name,\n",
    "            style_function=partial(style_function, col=color),\n",
    "            tooltip=district_name\n",
    "        ).add_to(copenhagen_map)\n",
    "        \n",
    "        # Extract centroid from 'geometry'\n",
    "        geom = shape(geojson_data[\"geometry\"])\n",
    "        centroid = geom.centroid\n",
    "\n",
    "        # Place district name at centroid\n",
    "        folium.Marker(\n",
    "            location=[centroid.y, centroid.x],\n",
    "            icon=folium.DivIcon(\n",
    "                html=f\"\"\"\n",
    "                <div style=\"\n",
    "                    font-size:10pt;\n",
    "                    font-weight:bold;\n",
    "                    text-align:center;\n",
    "                    transform: translate(-50%, -50%);\n",
    "                    white-space: nowrap;\n",
    "                \">\n",
    "                    {district_name}\n",
    "                </div>\n",
    "                \"\"\"\n",
    "            )\n",
    "        ).add_to(copenhagen_map)\n",
    "        \n",
    "\n",
    "# Add layer control\n",
    "folium.LayerControl().add_to(copenhagen_map)\n",
    "# To save to file\n",
    "copenhagen_map.save(\"copenhagen_districts_map.html\")\n"
   ]
  },
  {
   "cell_type": "markdown",
   "metadata": {},
   "source": [
    "## Get meta data for the parties"
   ]
  },
  {
   "cell_type": "code",
   "execution_count": null,
   "metadata": {},
   "outputs": [],
   "source": [
    "# Load the parties metadata\n",
    "df_parties_meta = pd.read_csv('ElectionData_DS/Partier.csv', sep=';')\n",
    "df_parties_meta.columns = df_parties_meta.columns.str.replace(' ', '', regex=True)"
   ]
  },
  {
   "cell_type": "code",
   "execution_count": 11,
   "metadata": {},
   "outputs": [
    {
     "data": {
      "application/vnd.microsoft.datawrangler.viewer.v0+json": {
       "columns": [
        {
         "name": "index",
         "rawType": "int64",
         "type": "integer"
        },
        {
         "name": "Partinavn",
         "rawType": "object",
         "type": "string"
        },
        {
         "name": "Kortpartinavn",
         "rawType": "object",
         "type": "string"
        },
        {
         "name": "Parti",
         "rawType": "object",
         "type": "string"
        },
        {
         "name": "Nummer",
         "rawType": "int64",
         "type": "integer"
        }
       ],
       "conversionMethod": "pd.DataFrame",
       "ref": "ace22113-5e45-4242-8d46-51ba03ee92d1",
       "rows": [
        [
         "0",
         "Stemmeberettigede",
         "Berret",
         "BE",
         "-5"
        ],
        [
         "1",
         "Afgivne stemmer",
         "Total",
         "TO",
         "-4"
        ],
        [
         "2",
         "Blanke stemmer",
         "Blanke",
         "UB",
         "-3"
        ],
        [
         "3",
         "Andre ugyldige stemmer",
         "Ugyldige",
         "UA",
         "-2"
        ],
        [
         "4",
         "Gyldige stemmer",
         "Gyldige",
         "GY",
         "-1"
        ]
       ],
       "shape": {
        "columns": 4,
        "rows": 5
       }
      },
      "text/html": [
       "<div>\n",
       "<style scoped>\n",
       "    .dataframe tbody tr th:only-of-type {\n",
       "        vertical-align: middle;\n",
       "    }\n",
       "\n",
       "    .dataframe tbody tr th {\n",
       "        vertical-align: top;\n",
       "    }\n",
       "\n",
       "    .dataframe thead th {\n",
       "        text-align: right;\n",
       "    }\n",
       "</style>\n",
       "<table border=\"1\" class=\"dataframe\">\n",
       "  <thead>\n",
       "    <tr style=\"text-align: right;\">\n",
       "      <th></th>\n",
       "      <th>Partinavn</th>\n",
       "      <th>Kortpartinavn</th>\n",
       "      <th>Parti</th>\n",
       "      <th>Nummer</th>\n",
       "    </tr>\n",
       "  </thead>\n",
       "  <tbody>\n",
       "    <tr>\n",
       "      <th>0</th>\n",
       "      <td>Stemmeberettigede</td>\n",
       "      <td>Berret</td>\n",
       "      <td>BE</td>\n",
       "      <td>-5</td>\n",
       "    </tr>\n",
       "    <tr>\n",
       "      <th>1</th>\n",
       "      <td>Afgivne stemmer</td>\n",
       "      <td>Total</td>\n",
       "      <td>TO</td>\n",
       "      <td>-4</td>\n",
       "    </tr>\n",
       "    <tr>\n",
       "      <th>2</th>\n",
       "      <td>Blanke stemmer</td>\n",
       "      <td>Blanke</td>\n",
       "      <td>UB</td>\n",
       "      <td>-3</td>\n",
       "    </tr>\n",
       "    <tr>\n",
       "      <th>3</th>\n",
       "      <td>Andre ugyldige stemmer</td>\n",
       "      <td>Ugyldige</td>\n",
       "      <td>UA</td>\n",
       "      <td>-2</td>\n",
       "    </tr>\n",
       "    <tr>\n",
       "      <th>4</th>\n",
       "      <td>Gyldige stemmer</td>\n",
       "      <td>Gyldige</td>\n",
       "      <td>GY</td>\n",
       "      <td>-1</td>\n",
       "    </tr>\n",
       "  </tbody>\n",
       "</table>\n",
       "</div>"
      ],
      "text/plain": [
       "                Partinavn Kortpartinavn Parti  Nummer\n",
       "0       Stemmeberettigede        Berret    BE      -5\n",
       "1         Afgivne stemmer         Total    TO      -4\n",
       "2          Blanke stemmer        Blanke    UB      -3\n",
       "3  Andre ugyldige stemmer      Ugyldige    UA      -2\n",
       "4         Gyldige stemmer       Gyldige    GY      -1"
      ]
     },
     "execution_count": 11,
     "metadata": {},
     "output_type": "execute_result"
    }
   ],
   "source": [
    "df_parties_meta.head(5)"
   ]
  },
  {
   "cell_type": "code",
   "execution_count": 12,
   "metadata": {},
   "outputs": [],
   "source": [
    "# Merge the election data with the parties metadata\n",
    "df_elec_cph_long = pd.merge(\n",
    "    df_elec_cph_long,\n",
    "    df_parties_meta[['Partinavn', 'Kortpartinavn', 'Parti']],\n",
    "    on='Partinavn',\n",
    "    how='left'\n",
    ")"
   ]
  },
  {
   "cell_type": "code",
   "execution_count": 13,
   "metadata": {},
   "outputs": [],
   "source": [
    "# Merge with the geography data\n",
    "df_elec_cph_long = pd.merge(\n",
    "    df_elec_cph_long,\n",
    "    df_geo_cph[['KredsNr', 'Kredsnavn', 'Kommunenavn']],\n",
    "    on='KredsNr',\n",
    "    how='left'\n",
    ")"
   ]
  },
  {
   "cell_type": "code",
   "execution_count": 76,
   "metadata": {},
   "outputs": [
    {
     "data": {
      "text/plain": [
       "Year\n",
       "2005    12\n",
       "2007    12\n",
       "2011    12\n",
       "2015    12\n",
       "2019    12\n",
       "2022    12\n",
       "Name: KredsNr, dtype: int64"
      ]
     },
     "execution_count": 76,
     "metadata": {},
     "output_type": "execute_result"
    }
   ],
   "source": [
    "df_elec_cph_long.groupby('Year')['KredsNr'].nunique()"
   ]
  },
  {
   "cell_type": "markdown",
   "metadata": {},
   "source": [
    "# Population Data"
   ]
  },
  {
   "cell_type": "code",
   "execution_count": 27,
   "metadata": {},
   "outputs": [],
   "source": [
    "# Load the population data\n",
    "df_population = pd.read_csv(\"ElectionData_DS/Befolkning.csv\", sep=';', low_memory=False, decimal=',')\n",
    "df_population.columns = df_population.columns.str.replace(' ', '', regex=True)\n",
    "\n",
    "# Filter the population data to only keep the relevant KredsNr\n",
    "df_population['KredsNr'] = df_population['KredsNr'].astype(str)\n",
    "df_population_cph = df_population[df_population['KredsNr'].isin(KredsNr_list)]"
   ]
  },
  {
   "cell_type": "code",
   "execution_count": null,
   "metadata": {},
   "outputs": [],
   "source": [
    "# Drop columns with all NaN values\n",
    "df_population_cph = df_population_cph.replace(\"-\", np.nan)\n",
    "df_population_cph = df_population_cph.dropna(axis=1, how='all')\n",
    "df_population_cph.fillna(0, inplace=True)\n",
    "df_population_cph = df_population_cph.apply(pd.to_numeric, errors='coerce')"
   ]
  },
  {
   "cell_type": "markdown",
   "metadata": {},
   "source": [
    "## Get demographics data"
   ]
  },
  {
   "cell_type": "code",
   "execution_count": 41,
   "metadata": {},
   "outputs": [],
   "source": [
    "demographics_cols = [\n",
    "    col for col in df_population_cph.columns\n",
    "    if col.startswith(\"FV\") and \"Antalpersoneropgjortefter\" in col\n",
    "]\n",
    "\n",
    "# Melt the DataFrame\n",
    "df_pop_demographics = df_population_cph.melt(\n",
    "    id_vars=['Gruppe', 'KredsNr'],\n",
    "    value_vars=demographics_cols,\n",
    "    var_name='RawColumn',\n",
    "    value_name='Count'\n",
    ")\n",
    "\n",
    "# Extract the fields using regex\n",
    "# Pattern: FV<year>-Antalpersoner..._<Gender><Age>_<CitizenshipCode>.<CitizenshipName>\n",
    "df_pop_demographics[['Year', 'GenderAge', 'Citizenship']] = df_pop_demographics['RawColumn'].str.extract(\n",
    "    r'FV(\\d{4})-Antalpersoner.*?_(\\w+\\d+-?\\d*år)_(?:\\d+\\.)?(.+)$'\n",
    ")\n",
    "\n",
    "# Separate Gender and Age\n",
    "df_pop_demographics[['Gender', 'Age']] = df_pop_demographics['GenderAge'].str.extract(r'(\\D+)(\\d+-?\\d*år)')\n",
    "\n",
    "# Reorder and clean\n",
    "df_pop_demographics = df_pop_demographics.drop(columns=['RawColumn', 'GenderAge'])\n",
    "df_pop_demographics = df_pop_demographics[['Gruppe', 'KredsNr','Year', 'Gender', 'Age', 'Citizenship', 'Count']]"
   ]
  },
  {
   "cell_type": "markdown",
   "metadata": {},
   "source": [
    "## Get the housing size data"
   ]
  },
  {
   "cell_type": "code",
   "execution_count": 20,
   "metadata": {},
   "outputs": [],
   "source": [
    "hoursing_size_columns = [\n",
    "    col for col in df_population_cph.columns\n",
    "    if col.startswith(\"FV\") and \"boligstørrelse\" in col\n",
    "]\n",
    "\n",
    "# Melt to long format\n",
    "df_house_size = df_population_cph.melt(\n",
    "    id_vars=['Gruppe', 'KredsNr'],\n",
    "    value_vars=hoursing_size_columns,\n",
    "    var_name='RawColumn',\n",
    "    value_name='Count'\n",
    ")\n",
    "\n",
    "# Extract year, aggregate level, and size category\n",
    "df_house_size[['Year', 'AggregateLevel', 'HourseSize']] = df_house_size['RawColumn'].str.extract(\n",
    "    r'FV(\\d{4})-Boligerogpersonerefterboligstørrelse_\\d+\\.(?:Antal)?(boliger|personer)_(.+)'\n",
    ")\n",
    "\n",
    "df_house_size['AggregateLevel'] = df_house_size['AggregateLevel'].map({\n",
    "    'boliger': 'Units',\n",
    "    'personer': 'Residents'\n",
    "})\n",
    "\n",
    "# Reorder columns\n",
    "df_house_size = df_house_size[[\n",
    "    'Gruppe', 'KredsNr', 'Year', 'AggregateLevel', 'HourseSize', 'Count'\n",
    "]]\n"
   ]
  },
  {
   "cell_type": "code",
   "execution_count": 22,
   "metadata": {},
   "outputs": [
    {
     "data": {
      "application/vnd.microsoft.datawrangler.viewer.v0+json": {
       "columns": [
        {
         "name": "index",
         "rawType": "int64",
         "type": "integer"
        },
        {
         "name": "Gruppe",
         "rawType": "int64",
         "type": "integer"
        },
        {
         "name": "KredsNr",
         "rawType": "object",
         "type": "string"
        },
        {
         "name": "Year",
         "rawType": "object",
         "type": "string"
        },
        {
         "name": "AggregateLevel",
         "rawType": "object",
         "type": "string"
        },
        {
         "name": "HourseSize",
         "rawType": "object",
         "type": "string"
        },
        {
         "name": "Count",
         "rawType": "object",
         "type": "string"
        }
       ],
       "conversionMethod": "pd.DataFrame",
       "ref": "d7c01d63-2a8e-4d24-b8f0-101c86b87e9c",
       "rows": [
        [
         "0",
         "101002",
         "1",
         "2015",
         "Units",
         "0-39m2",
         "1884"
        ],
        [
         "1",
         "101009",
         "2",
         "2015",
         "Units",
         "0-39m2",
         "2509"
        ],
        [
         "2",
         "101011",
         "3",
         "2015",
         "Units",
         "0-39m2",
         "1305"
        ]
       ],
       "shape": {
        "columns": 6,
        "rows": 3
       }
      },
      "text/html": [
       "<div>\n",
       "<style scoped>\n",
       "    .dataframe tbody tr th:only-of-type {\n",
       "        vertical-align: middle;\n",
       "    }\n",
       "\n",
       "    .dataframe tbody tr th {\n",
       "        vertical-align: top;\n",
       "    }\n",
       "\n",
       "    .dataframe thead th {\n",
       "        text-align: right;\n",
       "    }\n",
       "</style>\n",
       "<table border=\"1\" class=\"dataframe\">\n",
       "  <thead>\n",
       "    <tr style=\"text-align: right;\">\n",
       "      <th></th>\n",
       "      <th>Gruppe</th>\n",
       "      <th>KredsNr</th>\n",
       "      <th>Year</th>\n",
       "      <th>AggregateLevel</th>\n",
       "      <th>HourseSize</th>\n",
       "      <th>Count</th>\n",
       "    </tr>\n",
       "  </thead>\n",
       "  <tbody>\n",
       "    <tr>\n",
       "      <th>0</th>\n",
       "      <td>101002</td>\n",
       "      <td>1</td>\n",
       "      <td>2015</td>\n",
       "      <td>Units</td>\n",
       "      <td>0-39m2</td>\n",
       "      <td>1884</td>\n",
       "    </tr>\n",
       "    <tr>\n",
       "      <th>1</th>\n",
       "      <td>101009</td>\n",
       "      <td>2</td>\n",
       "      <td>2015</td>\n",
       "      <td>Units</td>\n",
       "      <td>0-39m2</td>\n",
       "      <td>2509</td>\n",
       "    </tr>\n",
       "    <tr>\n",
       "      <th>2</th>\n",
       "      <td>101011</td>\n",
       "      <td>3</td>\n",
       "      <td>2015</td>\n",
       "      <td>Units</td>\n",
       "      <td>0-39m2</td>\n",
       "      <td>1305</td>\n",
       "    </tr>\n",
       "  </tbody>\n",
       "</table>\n",
       "</div>"
      ],
      "text/plain": [
       "   Gruppe KredsNr  Year AggregateLevel HourseSize Count\n",
       "0  101002       1  2015          Units     0-39m2  1884\n",
       "1  101009       2  2015          Units     0-39m2  2509\n",
       "2  101011       3  2015          Units     0-39m2  1305"
      ]
     },
     "execution_count": 22,
     "metadata": {},
     "output_type": "execute_result"
    }
   ],
   "source": [
    "df_house_size.head(3)"
   ]
  },
  {
   "cell_type": "markdown",
   "metadata": {},
   "source": [
    "## Get the housing type data"
   ]
  },
  {
   "cell_type": "code",
   "execution_count": 23,
   "metadata": {},
   "outputs": [],
   "source": [
    "# Identify relevant boligtype columns\n",
    "housing_type_cols = [\n",
    "    col for col in df_population_cph.columns\n",
    "    if col.startswith(\"FV\") and \"Boligtype\" in col\n",
    "]\n",
    "\n",
    "# Melt the DataFrame\n",
    "df_housing_type = df_population_cph.melt(\n",
    "    id_vars=['Gruppe', 'KredsNr'],\n",
    "    value_vars=housing_type_cols,\n",
    "    var_name='RawColumn',\n",
    "    value_name='Count'\n",
    ")\n",
    "\n",
    "# Extract: year, aggregate level (boliger/personer), housing type\n",
    "df_housing_type[['Year', 'AggregateLevel', 'HousingType']] = df_housing_type['RawColumn'].str.extract(\n",
    "    r'FV(\\d{4})-Boligtype_Antal_(boliger|personer)_\\d+\\.(.+)'\n",
    ")\n",
    "\n",
    "df_housing_type['AggregateLevel'] = df_housing_type['AggregateLevel'].map({\n",
    "    'boliger': 'Units',\n",
    "    'personer': 'Residents'\n",
    "})\n",
    "\n",
    "# Reorder columns if you want\n",
    "df_housing_type = df_housing_type[[\n",
    "    'Gruppe', 'KredsNr', 'Year', 'AggregateLevel', 'HousingType', 'Count'\n",
    "]]\n"
   ]
  },
  {
   "cell_type": "code",
   "execution_count": 24,
   "metadata": {},
   "outputs": [
    {
     "data": {
      "application/vnd.microsoft.datawrangler.viewer.v0+json": {
       "columns": [
        {
         "name": "index",
         "rawType": "int64",
         "type": "integer"
        },
        {
         "name": "Gruppe",
         "rawType": "int64",
         "type": "integer"
        },
        {
         "name": "KredsNr",
         "rawType": "object",
         "type": "string"
        },
        {
         "name": "Year",
         "rawType": "object",
         "type": "string"
        },
        {
         "name": "AggregateLevel",
         "rawType": "object",
         "type": "string"
        },
        {
         "name": "HousingType",
         "rawType": "object",
         "type": "string"
        },
        {
         "name": "Count",
         "rawType": "object",
         "type": "string"
        }
       ],
       "conversionMethod": "pd.DataFrame",
       "ref": "16fdae0a-49a1-4ab2-843d-edf020817939",
       "rows": [
        [
         "0",
         "101002",
         "1",
         "2015",
         "Units",
         "Stuehuseogparcelhuse",
         "263"
        ],
        [
         "1",
         "101009",
         "2",
         "2015",
         "Units",
         "Stuehuseogparcelhuse",
         "2489"
        ],
        [
         "2",
         "101011",
         "3",
         "2015",
         "Units",
         "Stuehuseogparcelhuse",
         "163"
        ]
       ],
       "shape": {
        "columns": 6,
        "rows": 3
       }
      },
      "text/html": [
       "<div>\n",
       "<style scoped>\n",
       "    .dataframe tbody tr th:only-of-type {\n",
       "        vertical-align: middle;\n",
       "    }\n",
       "\n",
       "    .dataframe tbody tr th {\n",
       "        vertical-align: top;\n",
       "    }\n",
       "\n",
       "    .dataframe thead th {\n",
       "        text-align: right;\n",
       "    }\n",
       "</style>\n",
       "<table border=\"1\" class=\"dataframe\">\n",
       "  <thead>\n",
       "    <tr style=\"text-align: right;\">\n",
       "      <th></th>\n",
       "      <th>Gruppe</th>\n",
       "      <th>KredsNr</th>\n",
       "      <th>Year</th>\n",
       "      <th>AggregateLevel</th>\n",
       "      <th>HousingType</th>\n",
       "      <th>Count</th>\n",
       "    </tr>\n",
       "  </thead>\n",
       "  <tbody>\n",
       "    <tr>\n",
       "      <th>0</th>\n",
       "      <td>101002</td>\n",
       "      <td>1</td>\n",
       "      <td>2015</td>\n",
       "      <td>Units</td>\n",
       "      <td>Stuehuseogparcelhuse</td>\n",
       "      <td>263</td>\n",
       "    </tr>\n",
       "    <tr>\n",
       "      <th>1</th>\n",
       "      <td>101009</td>\n",
       "      <td>2</td>\n",
       "      <td>2015</td>\n",
       "      <td>Units</td>\n",
       "      <td>Stuehuseogparcelhuse</td>\n",
       "      <td>2489</td>\n",
       "    </tr>\n",
       "    <tr>\n",
       "      <th>2</th>\n",
       "      <td>101011</td>\n",
       "      <td>3</td>\n",
       "      <td>2015</td>\n",
       "      <td>Units</td>\n",
       "      <td>Stuehuseogparcelhuse</td>\n",
       "      <td>163</td>\n",
       "    </tr>\n",
       "  </tbody>\n",
       "</table>\n",
       "</div>"
      ],
      "text/plain": [
       "   Gruppe KredsNr  Year AggregateLevel           HousingType Count\n",
       "0  101002       1  2015          Units  Stuehuseogparcelhuse   263\n",
       "1  101009       2  2015          Units  Stuehuseogparcelhuse  2489\n",
       "2  101011       3  2015          Units  Stuehuseogparcelhuse   163"
      ]
     },
     "execution_count": 24,
     "metadata": {},
     "output_type": "execute_result"
    }
   ],
   "source": [
    "df_housing_type.head(3)"
   ]
  },
  {
   "cell_type": "markdown",
   "metadata": {},
   "source": [
    "## Get Ownership data"
   ]
  },
  {
   "cell_type": "code",
   "execution_count": 26,
   "metadata": {},
   "outputs": [],
   "source": [
    "# Identify relevant boligtype columns\n",
    "ownership_cols = [\n",
    "    col for col in df_population_cph.columns\n",
    "    if col.startswith(\"FV\") and \"Ejerforhold\" in col\n",
    "]\n",
    "\n",
    "# Melt the DataFrame\n",
    "df_ownership_type = df_population_cph.melt(\n",
    "    id_vars=['Gruppe', 'KredsNr'],\n",
    "    value_vars=ownership_cols,\n",
    "    var_name='RawColumn',\n",
    "    value_name='Count'\n",
    ")\n",
    "\n",
    "# Extract: year, aggregate level (boliger/personer), housing type\n",
    "df_ownership_type[['Year', 'AggregateLevel', 'OwnershipType']] = df_ownership_type['RawColumn'].str.extract(\n",
    "    r'FV(\\d{4})-Ejerforhold_Antal_(boliger|personer)_\\d+\\.(.+)'\n",
    ")\n",
    "\n",
    "df_ownership_type['AggregateLevel'] = df_ownership_type['AggregateLevel'].map({\n",
    "    'boliger': 'Units',\n",
    "    'personer': 'Residents'\n",
    "})\n",
    "\n",
    "# Reorder columns if you want\n",
    "df_ownership_type = df_ownership_type[[\n",
    "    'Gruppe', 'KredsNr', 'Year', 'AggregateLevel', 'OwnershipType', 'Count'\n",
    "]]\n"
   ]
  },
  {
   "cell_type": "code",
   "execution_count": 27,
   "metadata": {},
   "outputs": [
    {
     "data": {
      "application/vnd.microsoft.datawrangler.viewer.v0+json": {
       "columns": [
        {
         "name": "index",
         "rawType": "int64",
         "type": "integer"
        },
        {
         "name": "Gruppe",
         "rawType": "int64",
         "type": "integer"
        },
        {
         "name": "KredsNr",
         "rawType": "object",
         "type": "string"
        },
        {
         "name": "Year",
         "rawType": "object",
         "type": "string"
        },
        {
         "name": "AggregateLevel",
         "rawType": "object",
         "type": "string"
        },
        {
         "name": "OwnershipType",
         "rawType": "object",
         "type": "string"
        },
        {
         "name": "Count",
         "rawType": "object",
         "type": "string"
        }
       ],
       "conversionMethod": "pd.DataFrame",
       "ref": "03ce8144-b3fe-4b0f-ba1f-3aa25d207c3e",
       "rows": [
        [
         "0",
         "101002",
         "1",
         "2015",
         "Units",
         "Ejerbolig",
         "6238"
        ],
        [
         "1",
         "101009",
         "2",
         "2015",
         "Units",
         "Ejerbolig",
         "6891"
        ],
        [
         "2",
         "101011",
         "3",
         "2015",
         "Units",
         "Ejerbolig",
         "4840"
        ]
       ],
       "shape": {
        "columns": 6,
        "rows": 3
       }
      },
      "text/html": [
       "<div>\n",
       "<style scoped>\n",
       "    .dataframe tbody tr th:only-of-type {\n",
       "        vertical-align: middle;\n",
       "    }\n",
       "\n",
       "    .dataframe tbody tr th {\n",
       "        vertical-align: top;\n",
       "    }\n",
       "\n",
       "    .dataframe thead th {\n",
       "        text-align: right;\n",
       "    }\n",
       "</style>\n",
       "<table border=\"1\" class=\"dataframe\">\n",
       "  <thead>\n",
       "    <tr style=\"text-align: right;\">\n",
       "      <th></th>\n",
       "      <th>Gruppe</th>\n",
       "      <th>KredsNr</th>\n",
       "      <th>Year</th>\n",
       "      <th>AggregateLevel</th>\n",
       "      <th>OwnershipType</th>\n",
       "      <th>Count</th>\n",
       "    </tr>\n",
       "  </thead>\n",
       "  <tbody>\n",
       "    <tr>\n",
       "      <th>0</th>\n",
       "      <td>101002</td>\n",
       "      <td>1</td>\n",
       "      <td>2015</td>\n",
       "      <td>Units</td>\n",
       "      <td>Ejerbolig</td>\n",
       "      <td>6238</td>\n",
       "    </tr>\n",
       "    <tr>\n",
       "      <th>1</th>\n",
       "      <td>101009</td>\n",
       "      <td>2</td>\n",
       "      <td>2015</td>\n",
       "      <td>Units</td>\n",
       "      <td>Ejerbolig</td>\n",
       "      <td>6891</td>\n",
       "    </tr>\n",
       "    <tr>\n",
       "      <th>2</th>\n",
       "      <td>101011</td>\n",
       "      <td>3</td>\n",
       "      <td>2015</td>\n",
       "      <td>Units</td>\n",
       "      <td>Ejerbolig</td>\n",
       "      <td>4840</td>\n",
       "    </tr>\n",
       "  </tbody>\n",
       "</table>\n",
       "</div>"
      ],
      "text/plain": [
       "   Gruppe KredsNr  Year AggregateLevel OwnershipType Count\n",
       "0  101002       1  2015          Units     Ejerbolig  6238\n",
       "1  101009       2  2015          Units     Ejerbolig  6891\n",
       "2  101011       3  2015          Units     Ejerbolig  4840"
      ]
     },
     "execution_count": 27,
     "metadata": {},
     "output_type": "execute_result"
    }
   ],
   "source": [
    "df_ownership_type.head(3)"
   ]
  },
  {
   "cell_type": "markdown",
   "metadata": {},
   "source": [
    "## Get Income data"
   ]
  },
  {
   "cell_type": "code",
   "execution_count": 29,
   "metadata": {},
   "outputs": [],
   "source": [
    "# Step 1: Filter relevant income columns\n",
    "income_cols = [\n",
    "    col for col in df_population_cph.columns\n",
    "    if col.startswith(\"FV\") and \"Husstandsindkomsterfordeltpåafstemningsområder\" in col\n",
    "]\n",
    "\n",
    "# Step 2: Melt\n",
    "df_income = df_population_cph.melt(\n",
    "    id_vars=['Gruppe', 'KredsNr'],\n",
    "    value_vars=income_cols,\n",
    "    var_name='RawColumn',\n",
    "    value_name='Value'\n",
    ")\n",
    "\n",
    "# Step 3: Extract Year + IncomeMetric\n",
    "df_income[['Year', 'IncomeMetric']] = df_income['RawColumn'].str.extract(\n",
    "    r'FV(\\d{4})-Husstandsindkomsterfordeltpåafstemningsområder_(.+)'\n",
    ")\n",
    "\n",
    "# Step 4: Clean up\n",
    "df_income = df_income.drop(columns='RawColumn')\n",
    "df_income = df_income[[\n",
    "    'Gruppe', 'KredsNr', 'Year', 'IncomeMetric', 'Value'\n",
    "]]\n"
   ]
  },
  {
   "cell_type": "code",
   "execution_count": 30,
   "metadata": {},
   "outputs": [
    {
     "data": {
      "application/vnd.microsoft.datawrangler.viewer.v0+json": {
       "columns": [
        {
         "name": "index",
         "rawType": "int64",
         "type": "integer"
        },
        {
         "name": "Gruppe",
         "rawType": "int64",
         "type": "integer"
        },
        {
         "name": "KredsNr",
         "rawType": "object",
         "type": "string"
        },
        {
         "name": "Year",
         "rawType": "object",
         "type": "string"
        },
        {
         "name": "IncomeMetric",
         "rawType": "object",
         "type": "string"
        },
        {
         "name": "Value",
         "rawType": "object",
         "type": "string"
        }
       ],
       "conversionMethod": "pd.DataFrame",
       "ref": "039f8463-8bd8-43a0-a427-7239ae11487b",
       "rows": [
        [
         "0",
         "101002",
         "1",
         "2015",
         "100.000-149.999kr",
         "1717"
        ],
        [
         "1",
         "101009",
         "2",
         "2015",
         "100.000-149.999kr",
         "1600"
        ],
        [
         "2",
         "101011",
         "3",
         "2015",
         "100.000-149.999kr",
         "1074"
        ]
       ],
       "shape": {
        "columns": 5,
        "rows": 3
       }
      },
      "text/html": [
       "<div>\n",
       "<style scoped>\n",
       "    .dataframe tbody tr th:only-of-type {\n",
       "        vertical-align: middle;\n",
       "    }\n",
       "\n",
       "    .dataframe tbody tr th {\n",
       "        vertical-align: top;\n",
       "    }\n",
       "\n",
       "    .dataframe thead th {\n",
       "        text-align: right;\n",
       "    }\n",
       "</style>\n",
       "<table border=\"1\" class=\"dataframe\">\n",
       "  <thead>\n",
       "    <tr style=\"text-align: right;\">\n",
       "      <th></th>\n",
       "      <th>Gruppe</th>\n",
       "      <th>KredsNr</th>\n",
       "      <th>Year</th>\n",
       "      <th>IncomeMetric</th>\n",
       "      <th>Value</th>\n",
       "    </tr>\n",
       "  </thead>\n",
       "  <tbody>\n",
       "    <tr>\n",
       "      <th>0</th>\n",
       "      <td>101002</td>\n",
       "      <td>1</td>\n",
       "      <td>2015</td>\n",
       "      <td>100.000-149.999kr</td>\n",
       "      <td>1717</td>\n",
       "    </tr>\n",
       "    <tr>\n",
       "      <th>1</th>\n",
       "      <td>101009</td>\n",
       "      <td>2</td>\n",
       "      <td>2015</td>\n",
       "      <td>100.000-149.999kr</td>\n",
       "      <td>1600</td>\n",
       "    </tr>\n",
       "    <tr>\n",
       "      <th>2</th>\n",
       "      <td>101011</td>\n",
       "      <td>3</td>\n",
       "      <td>2015</td>\n",
       "      <td>100.000-149.999kr</td>\n",
       "      <td>1074</td>\n",
       "    </tr>\n",
       "  </tbody>\n",
       "</table>\n",
       "</div>"
      ],
      "text/plain": [
       "   Gruppe KredsNr  Year       IncomeMetric Value\n",
       "0  101002       1  2015  100.000-149.999kr  1717\n",
       "1  101009       2  2015  100.000-149.999kr  1600\n",
       "2  101011       3  2015  100.000-149.999kr  1074"
      ]
     },
     "execution_count": 30,
     "metadata": {},
     "output_type": "execute_result"
    }
   ],
   "source": [
    "df_income.head(3)"
   ]
  },
  {
   "cell_type": "markdown",
   "metadata": {},
   "source": [
    "## Get Education data"
   ]
  },
  {
   "cell_type": "code",
   "execution_count": 31,
   "metadata": {},
   "outputs": [],
   "source": [
    "educ_columns = [\n",
    "    col for col in df_population_cph.columns\n",
    "    if col.startswith(\"FV\") and \"Højstfuldførteerhvervsuddannelseogaldersgrupper\" in col\n",
    "]\n",
    "\n",
    "# Melt the DataFrame\n",
    "df_pop_educ = df_population_cph.melt(\n",
    "    id_vars=['Gruppe', 'KredsNr'],\n",
    "    value_vars=educ_columns,\n",
    "    var_name='RawColumn',\n",
    "    value_name='Count'\n",
    ")\n",
    "\n",
    "# Extract the fields using regex\n",
    "# Pattern: FV<year>-Højstfuldførteer..._<Age>_<EducationLevel>\n",
    "df_pop_educ[['Year', 'Age', 'EducationLevel']] = df_pop_educ['RawColumn'].str.extract(\n",
    "    r'FV(\\d{4})-Højstfuldførteerhvervsuddannelseogaldersgrupper_(\\d{1,3}-?\\d*år)(?:_(?:\\d+\\.)?(.+))?$'\n",
    ")\n",
    "\n",
    "# Remove 'år' from age\n",
    "df_pop_educ['Age'] = df_pop_educ['Age'].str.replace('år', '', regex=False)\n",
    "\n",
    "# Reorder and clean\n",
    "df_pop_educ = df_pop_educ.drop(columns=['RawColumn'])\n",
    "df_pop_educ = df_pop_educ[['Gruppe', 'KredsNr', 'Year', 'Age', 'EducationLevel', 'Count']]\n",
    "\n",
    "# hvordan skal vi håndtere de manglende værdier i 'EducationLevel'?\n",
    "# df_pop_educ['EducationLevel'] = df_pop_educ['EducationLevel'].fillna('Uoplyst')\n",
    "# så skal vi summe count for Uoplyst og nan "
   ]
  },
  {
   "cell_type": "code",
   "execution_count": 32,
   "metadata": {},
   "outputs": [
    {
     "data": {
      "application/vnd.microsoft.datawrangler.viewer.v0+json": {
       "columns": [
        {
         "name": "index",
         "rawType": "int64",
         "type": "integer"
        },
        {
         "name": "Gruppe",
         "rawType": "int64",
         "type": "integer"
        },
        {
         "name": "KredsNr",
         "rawType": "object",
         "type": "string"
        },
        {
         "name": "Year",
         "rawType": "object",
         "type": "string"
        },
        {
         "name": "Age",
         "rawType": "object",
         "type": "string"
        },
        {
         "name": "EducationLevel",
         "rawType": "object",
         "type": "string"
        },
        {
         "name": "Count",
         "rawType": "object",
         "type": "string"
        }
       ],
       "conversionMethod": "pd.DataFrame",
       "ref": "bc795f46-d6fe-4a67-85e4-92bf0574c5de",
       "rows": [
        [
         "0",
         "101002",
         "1",
         "2015",
         "18-19",
         "Grundskole",
         "854"
        ],
        [
         "1",
         "101009",
         "2",
         "2015",
         "18-19",
         "Grundskole",
         "763"
        ],
        [
         "2",
         "101011",
         "3",
         "2015",
         "18-19",
         "Grundskole",
         "635"
        ]
       ],
       "shape": {
        "columns": 6,
        "rows": 3
       }
      },
      "text/html": [
       "<div>\n",
       "<style scoped>\n",
       "    .dataframe tbody tr th:only-of-type {\n",
       "        vertical-align: middle;\n",
       "    }\n",
       "\n",
       "    .dataframe tbody tr th {\n",
       "        vertical-align: top;\n",
       "    }\n",
       "\n",
       "    .dataframe thead th {\n",
       "        text-align: right;\n",
       "    }\n",
       "</style>\n",
       "<table border=\"1\" class=\"dataframe\">\n",
       "  <thead>\n",
       "    <tr style=\"text-align: right;\">\n",
       "      <th></th>\n",
       "      <th>Gruppe</th>\n",
       "      <th>KredsNr</th>\n",
       "      <th>Year</th>\n",
       "      <th>Age</th>\n",
       "      <th>EducationLevel</th>\n",
       "      <th>Count</th>\n",
       "    </tr>\n",
       "  </thead>\n",
       "  <tbody>\n",
       "    <tr>\n",
       "      <th>0</th>\n",
       "      <td>101002</td>\n",
       "      <td>1</td>\n",
       "      <td>2015</td>\n",
       "      <td>18-19</td>\n",
       "      <td>Grundskole</td>\n",
       "      <td>854</td>\n",
       "    </tr>\n",
       "    <tr>\n",
       "      <th>1</th>\n",
       "      <td>101009</td>\n",
       "      <td>2</td>\n",
       "      <td>2015</td>\n",
       "      <td>18-19</td>\n",
       "      <td>Grundskole</td>\n",
       "      <td>763</td>\n",
       "    </tr>\n",
       "    <tr>\n",
       "      <th>2</th>\n",
       "      <td>101011</td>\n",
       "      <td>3</td>\n",
       "      <td>2015</td>\n",
       "      <td>18-19</td>\n",
       "      <td>Grundskole</td>\n",
       "      <td>635</td>\n",
       "    </tr>\n",
       "  </tbody>\n",
       "</table>\n",
       "</div>"
      ],
      "text/plain": [
       "   Gruppe KredsNr  Year    Age EducationLevel Count\n",
       "0  101002       1  2015  18-19     Grundskole   854\n",
       "1  101009       2  2015  18-19     Grundskole   763\n",
       "2  101011       3  2015  18-19     Grundskole   635"
      ]
     },
     "execution_count": 32,
     "metadata": {},
     "output_type": "execute_result"
    }
   ],
   "source": [
    "df_pop_educ.head(3)"
   ]
  },
  {
   "cell_type": "markdown",
   "metadata": {},
   "source": [
    "## Get Socio Economic data"
   ]
  },
  {
   "cell_type": "code",
   "execution_count": 33,
   "metadata": {},
   "outputs": [],
   "source": [
    "# Select relevant columns for socio-economic status and industries\n",
    "socioeconomic_cols = [\n",
    "    col for col in df_population_cph.columns\n",
    "    if col.startswith(\"FV\") and \"Socio-økonomiskstatusogbrancherfordeltpåafstemningsområder\" in col\n",
    "]\n",
    "\n",
    "# Melt to long format\n",
    "df_socio = df_population_cph.melt(\n",
    "    id_vars=['Gruppe', 'KredsNr'],\n",
    "    value_vars=socioeconomic_cols,\n",
    "    var_name='RawColumn',\n",
    "    value_name='Count'\n",
    ")\n",
    "\n",
    "# Extract Year, Employment Group, and Industry\n",
    "df_socio[['Year', 'EmploymentGroup', 'Industry']] = df_socio['RawColumn'].str.extract(\n",
    "    r'FV(\\d{4})-Socio-økonomiskstatusogbrancherfordeltpåafstemningsområder_\\d+\\.(.+?)_(.+)'\n",
    ")\n",
    "\n",
    "# Clean up columns\n",
    "df_socio = df_socio.drop(columns=['RawColumn'])\n",
    "df_socio = df_socio[['Gruppe', 'KredsNr', 'Year', 'EmploymentGroup', 'Industry', 'Count']]\n"
   ]
  },
  {
   "cell_type": "code",
   "execution_count": 34,
   "metadata": {},
   "outputs": [
    {
     "data": {
      "application/vnd.microsoft.datawrangler.viewer.v0+json": {
       "columns": [
        {
         "name": "index",
         "rawType": "int64",
         "type": "integer"
        },
        {
         "name": "Gruppe",
         "rawType": "int64",
         "type": "integer"
        },
        {
         "name": "KredsNr",
         "rawType": "object",
         "type": "string"
        },
        {
         "name": "Year",
         "rawType": "object",
         "type": "string"
        },
        {
         "name": "EmploymentGroup",
         "rawType": "object",
         "type": "string"
        },
        {
         "name": "Industry",
         "rawType": "object",
         "type": "string"
        },
        {
         "name": "Count",
         "rawType": "object",
         "type": "string"
        }
       ],
       "conversionMethod": "pd.DataFrame",
       "ref": "96603575-142e-41fe-93d7-7ebc39ee2d7b",
       "rows": [
        [
         "0",
         "101002",
         "1",
         "2015",
         "Selvstændigogmedhj.",
         "Byggeoganlæg",
         "135"
        ],
        [
         "1",
         "101009",
         "2",
         "2015",
         "Selvstændigogmedhj.",
         "Byggeoganlæg",
         "107"
        ],
        [
         "2",
         "101011",
         "3",
         "2015",
         "Selvstændigogmedhj.",
         "Byggeoganlæg",
         "77"
        ]
       ],
       "shape": {
        "columns": 6,
        "rows": 3
       }
      },
      "text/html": [
       "<div>\n",
       "<style scoped>\n",
       "    .dataframe tbody tr th:only-of-type {\n",
       "        vertical-align: middle;\n",
       "    }\n",
       "\n",
       "    .dataframe tbody tr th {\n",
       "        vertical-align: top;\n",
       "    }\n",
       "\n",
       "    .dataframe thead th {\n",
       "        text-align: right;\n",
       "    }\n",
       "</style>\n",
       "<table border=\"1\" class=\"dataframe\">\n",
       "  <thead>\n",
       "    <tr style=\"text-align: right;\">\n",
       "      <th></th>\n",
       "      <th>Gruppe</th>\n",
       "      <th>KredsNr</th>\n",
       "      <th>Year</th>\n",
       "      <th>EmploymentGroup</th>\n",
       "      <th>Industry</th>\n",
       "      <th>Count</th>\n",
       "    </tr>\n",
       "  </thead>\n",
       "  <tbody>\n",
       "    <tr>\n",
       "      <th>0</th>\n",
       "      <td>101002</td>\n",
       "      <td>1</td>\n",
       "      <td>2015</td>\n",
       "      <td>Selvstændigogmedhj.</td>\n",
       "      <td>Byggeoganlæg</td>\n",
       "      <td>135</td>\n",
       "    </tr>\n",
       "    <tr>\n",
       "      <th>1</th>\n",
       "      <td>101009</td>\n",
       "      <td>2</td>\n",
       "      <td>2015</td>\n",
       "      <td>Selvstændigogmedhj.</td>\n",
       "      <td>Byggeoganlæg</td>\n",
       "      <td>107</td>\n",
       "    </tr>\n",
       "    <tr>\n",
       "      <th>2</th>\n",
       "      <td>101011</td>\n",
       "      <td>3</td>\n",
       "      <td>2015</td>\n",
       "      <td>Selvstændigogmedhj.</td>\n",
       "      <td>Byggeoganlæg</td>\n",
       "      <td>77</td>\n",
       "    </tr>\n",
       "  </tbody>\n",
       "</table>\n",
       "</div>"
      ],
      "text/plain": [
       "   Gruppe KredsNr  Year      EmploymentGroup      Industry Count\n",
       "0  101002       1  2015  Selvstændigogmedhj.  Byggeoganlæg   135\n",
       "1  101009       2  2015  Selvstændigogmedhj.  Byggeoganlæg   107\n",
       "2  101011       3  2015  Selvstændigogmedhj.  Byggeoganlæg    77"
      ]
     },
     "execution_count": 34,
     "metadata": {},
     "output_type": "execute_result"
    }
   ],
   "source": [
    "df_socio.head(3)"
   ]
  },
  {
   "cell_type": "markdown",
   "metadata": {},
   "source": [
    "## Get support data"
   ]
  },
  {
   "cell_type": "code",
   "execution_count": 36,
   "metadata": {},
   "outputs": [],
   "source": [
    "support_cols = [\n",
    "    col for col in df_population_cph.columns\n",
    "    if col.startswith(\"FV\") and \"Personerefterforsørgelsestype\" in col\n",
    "]\n",
    "\n",
    "# Melt the DataFrame\n",
    "df_support = df_population_cph.melt(\n",
    "    id_vars=['Gruppe', 'KredsNr'],\n",
    "    value_vars=support_cols,\n",
    "    var_name='RawColumn',\n",
    "    value_name='Count'\n",
    ")\n",
    "\n",
    "# Extract Year and SupportType\n",
    "df_support[['Year', 'SupportType']] = df_support['RawColumn'].str.extract(\n",
    "    r'FV(\\d{4})-Personerefterforsørgelsestype_\\d+\\.(.+)'\n",
    ")\n",
    "\n",
    "# Clean up\n",
    "df_support = df_support.drop(columns='RawColumn')\n",
    "df_support = df_support[['Gruppe', 'KredsNr', 'Year', 'SupportType', 'Count']]\n"
   ]
  },
  {
   "cell_type": "code",
   "execution_count": 37,
   "metadata": {},
   "outputs": [
    {
     "data": {
      "application/vnd.microsoft.datawrangler.viewer.v0+json": {
       "columns": [
        {
         "name": "index",
         "rawType": "int64",
         "type": "integer"
        },
        {
         "name": "Gruppe",
         "rawType": "int64",
         "type": "integer"
        },
        {
         "name": "KredsNr",
         "rawType": "object",
         "type": "string"
        },
        {
         "name": "Year",
         "rawType": "object",
         "type": "string"
        },
        {
         "name": "SupportType",
         "rawType": "object",
         "type": "string"
        },
        {
         "name": "Count",
         "rawType": "object",
         "type": "string"
        }
       ],
       "conversionMethod": "pd.DataFrame",
       "ref": "1f139222-1f0e-435b-a1b7-6e03ca56480c",
       "rows": [
        [
         "0",
         "101002",
         "1",
         "2015",
         "Arbejdsløshedsdagpenge",
         "4618"
        ],
        [
         "1",
         "101009",
         "2",
         "2015",
         "Arbejdsløshedsdagpenge",
         "4029"
        ],
        [
         "2",
         "101011",
         "3",
         "2015",
         "Arbejdsløshedsdagpenge",
         "2966"
        ]
       ],
       "shape": {
        "columns": 5,
        "rows": 3
       }
      },
      "text/html": [
       "<div>\n",
       "<style scoped>\n",
       "    .dataframe tbody tr th:only-of-type {\n",
       "        vertical-align: middle;\n",
       "    }\n",
       "\n",
       "    .dataframe tbody tr th {\n",
       "        vertical-align: top;\n",
       "    }\n",
       "\n",
       "    .dataframe thead th {\n",
       "        text-align: right;\n",
       "    }\n",
       "</style>\n",
       "<table border=\"1\" class=\"dataframe\">\n",
       "  <thead>\n",
       "    <tr style=\"text-align: right;\">\n",
       "      <th></th>\n",
       "      <th>Gruppe</th>\n",
       "      <th>KredsNr</th>\n",
       "      <th>Year</th>\n",
       "      <th>SupportType</th>\n",
       "      <th>Count</th>\n",
       "    </tr>\n",
       "  </thead>\n",
       "  <tbody>\n",
       "    <tr>\n",
       "      <th>0</th>\n",
       "      <td>101002</td>\n",
       "      <td>1</td>\n",
       "      <td>2015</td>\n",
       "      <td>Arbejdsløshedsdagpenge</td>\n",
       "      <td>4618</td>\n",
       "    </tr>\n",
       "    <tr>\n",
       "      <th>1</th>\n",
       "      <td>101009</td>\n",
       "      <td>2</td>\n",
       "      <td>2015</td>\n",
       "      <td>Arbejdsløshedsdagpenge</td>\n",
       "      <td>4029</td>\n",
       "    </tr>\n",
       "    <tr>\n",
       "      <th>2</th>\n",
       "      <td>101011</td>\n",
       "      <td>3</td>\n",
       "      <td>2015</td>\n",
       "      <td>Arbejdsløshedsdagpenge</td>\n",
       "      <td>2966</td>\n",
       "    </tr>\n",
       "  </tbody>\n",
       "</table>\n",
       "</div>"
      ],
      "text/plain": [
       "   Gruppe KredsNr  Year             SupportType Count\n",
       "0  101002       1  2015  Arbejdsløshedsdagpenge  4618\n",
       "1  101009       2  2015  Arbejdsløshedsdagpenge  4029\n",
       "2  101011       3  2015  Arbejdsløshedsdagpenge  2966"
      ]
     },
     "execution_count": 37,
     "metadata": {},
     "output_type": "execute_result"
    }
   ],
   "source": [
    "df_support.head(3)"
   ]
  },
  {
   "cell_type": "markdown",
   "metadata": {},
   "source": [
    "## Get origin data"
   ]
  },
  {
   "cell_type": "code",
   "execution_count": 38,
   "metadata": {},
   "outputs": [],
   "source": [
    "# Filter relevant columns\n",
    "origin_cols = [\n",
    "    col for col in df_population_cph.columns\n",
    "    if \"Indvandrereogefterkommerefordeltefteroprindelsesland\" in col\n",
    "]\n",
    "\n",
    "# Melt to long format\n",
    "df_origin_long = df_population_cph.melt(\n",
    "    id_vars=['Gruppe', 'KredsNr'],\n",
    "    value_vars=origin_cols,\n",
    "    var_name='RawColumn',\n",
    "    value_name='Count'\n",
    ")\n",
    "\n",
    "# Extract year, gender, age, origin\n",
    "df_origin_long[['Year', 'GenderAge', 'Origin']] = df_origin_long['RawColumn'].str.extract(\n",
    "    r'FV(\\d{4})-Indvandrereogefterkommerefordeltefteroprindelsesland_(\\D+\\d+-?\\d*år)_(?:\\d+\\.)?(.+)$'\n",
    ")\n",
    "\n",
    "# Split gender and age\n",
    "df_origin_long[['Gender', 'Age']] = df_origin_long['GenderAge'].str.extract(r'(\\D+)(\\d+-?\\d*år)')\n",
    "\n",
    "# Clean up\n",
    "df_origin_long = df_origin_long.drop(columns=['RawColumn', 'GenderAge'])\n",
    "df_origin_long['Age'] = df_origin_long['Age'].str.replace('år', '', regex=False)\n"
   ]
  },
  {
   "cell_type": "code",
   "execution_count": 39,
   "metadata": {},
   "outputs": [
    {
     "data": {
      "application/vnd.microsoft.datawrangler.viewer.v0+json": {
       "columns": [
        {
         "name": "index",
         "rawType": "int64",
         "type": "integer"
        },
        {
         "name": "Gruppe",
         "rawType": "int64",
         "type": "integer"
        },
        {
         "name": "KredsNr",
         "rawType": "object",
         "type": "string"
        },
        {
         "name": "Count",
         "rawType": "object",
         "type": "string"
        },
        {
         "name": "Year",
         "rawType": "object",
         "type": "string"
        },
        {
         "name": "Origin",
         "rawType": "object",
         "type": "string"
        },
        {
         "name": "Gender",
         "rawType": "object",
         "type": "string"
        },
        {
         "name": "Age",
         "rawType": "object",
         "type": "string"
        }
       ],
       "conversionMethod": "pd.DataFrame",
       "ref": "cb8caca2-0fb2-4c8f-ade6-19dd805fbe7e",
       "rows": [
        [
         "0",
         "101002",
         "1",
         "20",
         "2015",
         "Nordiskelande",
         "Kvinder",
         "0-4"
        ],
        [
         "1",
         "101009",
         "2",
         "36",
         "2015",
         "Nordiskelande",
         "Kvinder",
         "0-4"
        ],
        [
         "2",
         "101011",
         "3",
         "22",
         "2015",
         "Nordiskelande",
         "Kvinder",
         "0-4"
        ]
       ],
       "shape": {
        "columns": 7,
        "rows": 3
       }
      },
      "text/html": [
       "<div>\n",
       "<style scoped>\n",
       "    .dataframe tbody tr th:only-of-type {\n",
       "        vertical-align: middle;\n",
       "    }\n",
       "\n",
       "    .dataframe tbody tr th {\n",
       "        vertical-align: top;\n",
       "    }\n",
       "\n",
       "    .dataframe thead th {\n",
       "        text-align: right;\n",
       "    }\n",
       "</style>\n",
       "<table border=\"1\" class=\"dataframe\">\n",
       "  <thead>\n",
       "    <tr style=\"text-align: right;\">\n",
       "      <th></th>\n",
       "      <th>Gruppe</th>\n",
       "      <th>KredsNr</th>\n",
       "      <th>Count</th>\n",
       "      <th>Year</th>\n",
       "      <th>Origin</th>\n",
       "      <th>Gender</th>\n",
       "      <th>Age</th>\n",
       "    </tr>\n",
       "  </thead>\n",
       "  <tbody>\n",
       "    <tr>\n",
       "      <th>0</th>\n",
       "      <td>101002</td>\n",
       "      <td>1</td>\n",
       "      <td>20</td>\n",
       "      <td>2015</td>\n",
       "      <td>Nordiskelande</td>\n",
       "      <td>Kvinder</td>\n",
       "      <td>0-4</td>\n",
       "    </tr>\n",
       "    <tr>\n",
       "      <th>1</th>\n",
       "      <td>101009</td>\n",
       "      <td>2</td>\n",
       "      <td>36</td>\n",
       "      <td>2015</td>\n",
       "      <td>Nordiskelande</td>\n",
       "      <td>Kvinder</td>\n",
       "      <td>0-4</td>\n",
       "    </tr>\n",
       "    <tr>\n",
       "      <th>2</th>\n",
       "      <td>101011</td>\n",
       "      <td>3</td>\n",
       "      <td>22</td>\n",
       "      <td>2015</td>\n",
       "      <td>Nordiskelande</td>\n",
       "      <td>Kvinder</td>\n",
       "      <td>0-4</td>\n",
       "    </tr>\n",
       "  </tbody>\n",
       "</table>\n",
       "</div>"
      ],
      "text/plain": [
       "   Gruppe KredsNr Count  Year         Origin   Gender  Age\n",
       "0  101002       1    20  2015  Nordiskelande  Kvinder  0-4\n",
       "1  101009       2    36  2015  Nordiskelande  Kvinder  0-4\n",
       "2  101011       3    22  2015  Nordiskelande  Kvinder  0-4"
      ]
     },
     "execution_count": 39,
     "metadata": {},
     "output_type": "execute_result"
    }
   ],
   "source": [
    "df_origin_long.head(3)"
   ]
  }
 ],
 "metadata": {
  "kernelspec": {
   "display_name": "env_ds",
   "language": "python",
   "name": "python3"
  },
  "language_info": {
   "codemirror_mode": {
    "name": "ipython",
    "version": 3
   },
   "file_extension": ".py",
   "mimetype": "text/x-python",
   "name": "python",
   "nbconvert_exporter": "python",
   "pygments_lexer": "ipython3",
   "version": "3.11.8"
  }
 },
 "nbformat": 4,
 "nbformat_minor": 2
}
