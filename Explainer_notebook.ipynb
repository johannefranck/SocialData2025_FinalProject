{
 "cells": [
  {
   "cell_type": "markdown",
   "id": "017892d6",
   "metadata": {},
   "source": [
    "# The Explainer Notebook\n",
    "\n",
    "<h1 align=\"center\">20 Years of Change: Voting Trends in Copenhagen’s National Elections</h1>\n",
    "\n",
    "<div align=\"center\">\n",
    "\n",
    "Jasmin Thari (s204155), Johanne Franck (s204088) & Smilla Due (s204153)\n",
    "\n",
    "</div>\n"
   ]
  },
  {
   "cell_type": "markdown",
   "id": "47adaf09",
   "metadata": {},
   "source": [
    "### Structure of this Notebook\n",
    "\n",
    "This notebook consists of eight parts: [Motivation](#1), [Basic Statistics](#2), [Data Analysis](#3), [Genre](#4), [Visualizations](#5), [Discussion](#6), [Contributions](#7), and [References](#8).\n",
    "\n",
    "In the first part, **Motivation**, we describe the project's goals and provide an overview of the dataset used.\n",
    "\n",
    "In the second part, **Basic Statistics**, we give an overview of the dataset and its collection process. This section also includes a detailed explanation of the data cleaning procedures. Additionally, we present key dataset statistics and plots from our initial exploratory data analysis.\n",
    "\n",
    "In the third part, **Data Analysis**, we conduct our analysis; where we describe and visualize the insights derived from the data.\n",
    "\n",
    "In the fourth part, **Genre**, we explain the genre chosen for our data story and the specific tools used to tell our data story.\n",
    "\n",
    "In the fifth part, **Visualizations**, we explain the visualizations choosen to support our data story. We explain the purpose of each visualization and how it contributes to the overall narrative.\n",
    "\n",
    "In the sixth part, **Discussion**, we discuss our findings and the limitations of our analysis and data.\n",
    "\n",
    "Finally, in the **Contributions** section, we detail the roles and responsibilities of each group member in the project.\n",
    "\n",
    "\n",
    "### Table of Contents\n",
    "1. [Motivation](#1)  \n",
    "2. [Basic Statistics](#2)  \n",
    "3. [Data Analysis](#3)  \n",
    "4. [Genre](#4)  \n",
    "5. [Visualizations](#5)  \n",
    "6. [Discussion](#6)  \n",
    "7. [Contributions](#7)  \n",
    "8. [References](#8)\n",
    "\n",
    "---\n"
   ]
  },
  {
   "cell_type": "markdown",
   "id": "022a981c",
   "metadata": {},
   "source": [
    "<a id=\"1\"></a>\n",
    "## 1.  Motivation\n",
    "\n",
    "> 🎵 *Why does it matter? Why do we care?* \\\n",
    "> 🎵 *To see the past, the trends laid bare* \\\n",
    "> 🎵 *How has our capital city evolved?*\\\n",
    "> 🎵 *What values stayed, what problems solved?* \n",
    "\n",
    "### 1.1 Motivation and Goal\n",
    "\n",
    "Smilla \n",
    "\n",
    "Skriv blandt andet hvorfor vi har valgt to decades\n",
    "\n",
    "\n",
    "### 1.2 Data\n",
    "\n",
    "The data used in this study was obtained from **Den Danske Valgdatabase** [1], powered by *Danmarks Statistik*. This comprehensive database contains election data from Denmark spanning back to 1979. It includes data from various types of elections, including National parliamentary elections (*folketingsvalg*).\n",
    "<!-- \n",
    "- National parliamentary elections (*folketingsvalg*)  \n",
    "- European Parliament elections (*europaparlamentsvalg*)  \n",
    "- Referendums (*folkeafstemninger*)  \n",
    "- Municipal and regional elections (*kommunalvalg* and *regionsrådsvalg*)  \n",
    "- Parliamentary elections in Greenland and the Faroe Islands  -->\n",
    "\n",
    "For this study, we focus on national elections within the **Copenhagen area (Københavns Storkreds)**, covering two decades and a total of six elections. This includes the elections held in the years:\n",
    "\n",
    "<p align=\"center\"><strong>2005 - 2007 - 2011 - 2015 - 2019 - 2022</strong></p>\n",
    "\n",
    "\n",
    "The extracted election data includes:\n",
    "\n",
    "- Total number of votes cast  \n",
    "- Number of votes per political party across constituencies  \n",
    "\n",
    "We filtered the dataset to include only constituencies within the Copenhagen area. These constituencies are:\n",
    "\n",
    "* Indre Bykredsen\n",
    "* Østerbrokredsen  \n",
    "* Vesterbrokredsen  \n",
    "* Nørrebrokredsen  \n",
    "* Bispebjergkredsen  \n",
    "* Brønshøjkredsen  \n",
    "* Valbykredsen  \n",
    "* Falkonerkredsen  \n",
    "* Slotskredsen  \n",
    "* Sundbyvesterkredsen  \n",
    "* Sundbyøsterkredsen  \n",
    "* Tårnbykredsen  \n",
    "\n",
    "In addition to election data, **demographic and socioeconomic data** about the population of Copenhagen is also extracted. This data helps us understand voting patterns in the context of population characteristics. The additional data include:\n",
    "\n",
    "- **Demographic**: Gender, age, ethnicity and education level\n",
    "- **Socioeconomic**: Income support, income and living area size  \n",
    "\n",
    "As Danmarks Statistik only conducts a new population inventory every five years, we will not have a new population inventory for each election. The most recent population inventory was conducted in 2024, and the previous inventories were conducted in 2019, 2014, 2009, and 2004. This means that the elections we are analyzing are connected to four different population inventories.\n",
    "\n",
    "Danmarks Statistik match each election to the closest population inventory available at the time. This means:\n",
    "\n",
    "- The 2005 and 2007 use the 2004 inventory\n",
    "- The 2011 election use the 2009 inventory\n",
    "- The 2015 election use the 2014 inventory\n",
    "- The 2019 and 2022 elections use the 2019 inventory\n",
    "\n",
    "As a result, the six elections in our study are connected to four different population inventories, which serve as the population reference points for our analysis.\n",
    "\n",
    "In total, this resulted in **four `.csv` files**, which will be imported, cleaned, and explained in detail in the following sections. \n",
    "\n",
    "To map the geographical areas of Copenhagen, we needed to collect additional data, which we obtained from **Dataforsyningen** [2]. From there, we downloaded a `GeoJSON` file for each constituency in Copenhagen."
   ]
  },
  {
   "cell_type": "markdown",
   "id": "cb027631",
   "metadata": {},
   "source": [
    "**Libaries**\n",
    "\n",
    "The libraries used for this project are presented and imported below."
   ]
  },
  {
   "cell_type": "code",
   "execution_count": 90,
   "id": "60fadfc0",
   "metadata": {},
   "outputs": [],
   "source": [
    "import os\n",
    "import json\n",
    "\n",
    "import pandas as pd\n",
    "import numpy as np\n",
    "\n",
    "import matplotlib.pyplot as plt\n",
    "import seaborn as sns\n",
    "\n",
    "import plotly.express as px\n",
    "import plotly.graph_objects as go\n",
    "import plotly.io as pio\n",
    "\n",
    "import folium\n",
    "import branca.colormap as cm  \n",
    "from branca.element import MacroElement, Template\n",
    "\n",
    "from IPython.display import display, clear_output, HTML, IFrame\n",
    "\n",
    "# Set the default plotly renderer\n",
    "pio.renderers.default = 'iframe'\n",
    "\n",
    "# Pandas settings\n",
    "pd.set_option('future.no_silent_downcasting', True)\n",
    "\n",
    "# Import our plotting functions\n",
    "from plot_functions import *"
   ]
  },
  {
   "cell_type": "code",
   "execution_count": 66,
   "id": "84313622",
   "metadata": {},
   "outputs": [],
   "source": [
    "theme_colors = ['#FDFAE1', '#241B5F', '#FFB400', '#4A4DE9', '#FF5A00', '#FF6273', '#FF95A1', '#F3DCC6'] \n",
    "\n",
    "expanded_theme_colors = ['#241B5F', '#6A66B2','#FFB400', '#FFE299','#4A4DE9', '#A7AAFF', '#FF5A00', '#FF9D5C', '#FF6273', '#FFAAB2', '#FF95A1', '#FFD4DA', '#F3DCC6', '#EBD2BB']\n",
    "\n",
    "wing_colors = {'Left': '#d52729', 'Right': '#00739b'}\n",
    "\n",
    "# Consistent ordering for the constituencies\n",
    "const_order = [\"Indre By\", \"Østerbro\", \"Vesterbro\", \"Nørrebro\", \"Bispebjerg\", \"Brønshøj\", \"Valby\", \"Falkoner\", \"Slots\", \"Sundbyvester\", \"Sundbyøster\", \"Tårnby\"]\n",
    "\n",
    "const_colors = {\n",
    "  'Indre By':     '#241B5F',\n",
    "  'Østerbro':     '#46237A',\n",
    "  'Vesterbro':    '#4A4DE9',\n",
    "  'Nørrebro':     '#ABD2FA',\n",
    "  'Bispebjerg':   '#FFB400',\n",
    "  'Brønshøj':      '#FFC800',\n",
    "  'Valby':        '#FFE5B4',\n",
    "  'Falkoner':     '#FF5A00',\n",
    "  'Slots':         '#FF8427',\n",
    "  'Sundbyvester': '#D64161',\n",
    "  'Sundbyøster':  '#FF6273',\n",
    "  'Tårnby':       '#FF95A1', \n",
    "  'Copenhagen (Avg.)':   '#696969'}\n",
    "\n",
    "party_colors = {\n",
    "    'A.Socialdemokratiet'                        : '#c9002c',  \n",
    "    'V.Venstre,DanmarksLiberaleParti'            : '#0066a1', \n",
    "    'B.DetRadikaleVenstre'                       : '#EC008C',  \n",
    "    'Ø.Enhedslisten-DeRød-Grønne'                : '#159F6B',  \n",
    "    'F.SF-SocialistiskFolkeparti'                : '#C52E26',  \n",
    "    'C.DetKonservativeFolkeparti'                : '#00583C',  \n",
    "    'O.DanskFolkeparti'                          : '#F6D40D',  \n",
    "    'D.Centrum-Demokraterne'                     : '#812A7C',  \n",
    "    'E.KlausRiskærPedersen'                      : '#F6D40D',  \n",
    "    'I.LiberalAlliance'                          : '#0C2840',  \n",
    "    'K.Kristendemokraterne'                      : '#646EAD',  \n",
    "    'M.Minoritetspartiet'                        : '#F6D40D',  \n",
    "    'Q.FrieGrønne,DanmarksNyeVenstrefløjsparti'  : '#E6F24B',  \n",
    "    'Å.Alternativet'                             : '#77F24B', \n",
    "    'Æ.Danmarksdemokraterne-IngerStøjberg'       : '#143C75',  \n",
    "    'D.NyeBorgerlige'                            : '#214E58',  \n",
    "    'M.Moderaterne'                              : '#7A2E8E'}"
   ]
  },
  {
   "cell_type": "markdown",
   "id": "7c6079e9",
   "metadata": {},
   "source": [
    "<a id=\"2\"></a>\n",
    "## 2.  Basic Statistics\n",
    "\n",
    "This section is divided into two parts: **2.1 Data Cleaning** and **2.2 Explorative Analysis**. In the first part, we load the data, clean it, and provide explanations of the cleaning process. In the second part, we present some basic statistics and visualizations of the data."
   ]
  },
  {
   "cell_type": "markdown",
   "id": "d64e797a",
   "metadata": {},
   "source": [
    "### 2.1 Data Cleaning\n",
    "\n",
    "In this section, we load and clean the data. Overall, we work with three different datasets:\n",
    "\n",
    "1. **Geographical data**: Contains geographic information at the constituency level. We use this dataset to filter the other datasets so that only constituencies within the Copenhagen area are included. \n",
    "\n",
    "2. **Election data**: Contains the number of votes received by each political party in each constituency, for each election year.\n",
    "\n",
    "3. **Sociodemographic data**: Contains information about the population at the constituency level. This data is used to analyze voting patterns in relation to various population characteristics. To make the analysis more manageable, we divide this dataset into the following subsets:\n",
    "   - **Demographic data**: Includes information such as *gender*, *age*, and *citizenship*.\n",
    "   - **Origin**: Includes data on *immigrants and descendants*. \n",
    "   - **Education data**: Covers *educational level*.\n",
    "   - **Income support**: Includes data on *income support* level.\n",
    "   - **Income data**: Contains information on *income* per household.\n",
    "   - **Housing size**: Contains data on *the size of house*.\n",
    "\n",
    "Both the election data and population data are initially in **wide format**, meaning each row represents a constituency and each column represents a variable. We convert the datasets into **long format** using the `melt` function. In long format, each row represents a single observation (e.g., a specific value for a variable in a constituency and year), making it easier to filter, group, and analyze the data."
   ]
  },
  {
   "cell_type": "markdown",
   "id": "d75b2d9e",
   "metadata": {},
   "source": [
    "##### 2.1.1 Geographical data\n",
    "The first dataset we will import is the **geographical data**. This dataset contains information about the geographical areas in Copenhagen, including the names of the constituencies and their corresponding constituency label (danish \"Kredsnr.\"). This dataset is essential for linking the election data and population data to the geographical areas in Copenhagen.\n",
    "\n",
    "The first step is to filter the dataset to only include the constituencies in the Copenhagen constituency. \n",
    "\n",
    "Next, we create a mapping between the constituency names and their corresponding constituency label. This mapping will be used throughout the notebook. "
   ]
  },
  {
   "cell_type": "code",
   "execution_count": 67,
   "id": "235ffc1a",
   "metadata": {},
   "outputs": [
    {
     "name": "stdout",
     "output_type": "stream",
     "text": [
      "Geography data shape: (13, 4)\n"
     ]
    }
   ],
   "source": [
    "# Load the data\n",
    "df_geo = pd.read_csv('Data/raw/Geografi.csv', sep=';', decimal=',', na_values='-')\n",
    "df_geo.columns = df_geo.columns.str.replace(' ', '', regex=True)\n",
    "\n",
    "# Filter the data to only keep Copenhagen Constituencies \n",
    "df_geo_cph = df_geo.query(\"Storkredsnavn=='Københavns Storkreds'\").drop_duplicates()\n",
    "df_geo_cph['KredsNr'] = df_geo_cph['KredsNr'].astype(int)\n",
    "\n",
    "# Keep only the necessary columns\n",
    "df_geo_cph = df_geo_cph[['KredsNr', 'Kredsnavn','KommuneNr','Kommunenavn']]\n",
    "\n",
    "# Replace Utterslev with Bispebjerg\n",
    "df_geo_cph['Kredsnavn'] = df_geo_cph['Kredsnavn'].replace({'6. Utterslev':'6. Bispebjerg'})\n",
    "\n",
    "# Drop duplicates\n",
    "df_geo_cph = df_geo_cph.drop_duplicates(subset=['KredsNr', 'Kredsnavn','KommuneNr','Kommunenavn'])\n",
    "\n",
    "print(\"Geography data shape:\", df_geo_cph.shape)"
   ]
  },
  {
   "cell_type": "code",
   "execution_count": 68,
   "id": "3a8b0e99",
   "metadata": {},
   "outputs": [],
   "source": [
    "# Split the 'Kredsnavn' column into two parts: ID and Name\n",
    "constituency_split = df_geo_cph['Kredsnavn'].drop_duplicates().str.split('.', n=1, expand=True)\n",
    "constituency_split.columns = ['ConstituencyID', 'ConstituencyName']\n",
    "\n",
    "# Convert ID column to integers and strip whitespace from the names\n",
    "constituency_split['ConstituencyID'] = constituency_split['ConstituencyID'].astype(int)\n",
    "constituency_split['ConstituencyName'] = constituency_split['ConstituencyName'].str.strip()\n",
    "\n",
    "# Create a mapping from ID to Name\n",
    "constituency_id_to_name = dict(zip(constituency_split['ConstituencyID'], constituency_split['ConstituencyName']))\n",
    "# Add the extra key\n",
    "constituency_id_to_name[0] = \"Copenhagen (Avg.)\"\n",
    "# Create a reverse mapping from Name to ID\n",
    "constituency_name_to_id = {name: id_ for id_, name in constituency_id_to_name.items()}"
   ]
  },
  {
   "cell_type": "markdown",
   "id": "be30491a",
   "metadata": {},
   "source": [
    "##### 2.1.2 Election data\n",
    "The second dataset we will import is the **election data**. This dataset is structured in wide format, where each row correspond to a constituency and each column corresponds to a political party per year, resulting in 172 columns. As this is a very inconvenient format, we will reshape the dataset to long format. \n",
    "\n",
    "First, we will filter the data to only include the constituencies in the Copenhagen constituency using the defined map. Next, we will reshape the dataset to long format, where each row corresponds to a constituency-year-party combination."
   ]
  },
  {
   "cell_type": "code",
   "execution_count": 69,
   "id": "837e8aed",
   "metadata": {},
   "outputs": [
    {
     "name": "stdout",
     "output_type": "stream",
     "text": [
      "Election data shape: (12, 172)\n"
     ]
    }
   ],
   "source": [
    "# Load the election data\n",
    "df_election = pd.read_csv('Data/raw/Valgdata.csv', sep=';' , decimal=',', na_values='-')\n",
    "df_election.columns = df_election.columns.str.replace(' ', '', regex=True)\n",
    "\n",
    "# Filter the election data to only keep the relevant constituencies\n",
    "df_elec_cph = df_election[df_election['KredsNr'].isin([str(k) for k in constituency_id_to_name.keys()])]\n",
    "df_elec_cph.loc[:, 'KredsNr'] = df_elec_cph['KredsNr'].astype(int)\n",
    "\n",
    "print(\"Election data shape:\", df_elec_cph.shape)"
   ]
  },
  {
   "cell_type": "code",
   "execution_count": 70,
   "id": "c0ab3c82",
   "metadata": {},
   "outputs": [
    {
     "name": "stdout",
     "output_type": "stream",
     "text": [
      "Election data long format shape: (2016, 4)\n"
     ]
    }
   ],
   "source": [
    "# Select vote cols (start with \"FV\")\n",
    "vote_columns = [col for col in df_elec_cph.columns if col.startswith(\"FV\")]\n",
    "\n",
    "# Melt the dataframe to long format\n",
    "df_elec_cph_long = df_elec_cph.melt(\n",
    "    id_vars=['KredsNr'],\n",
    "    value_vars=vote_columns,\n",
    "    var_name='YearParty',\n",
    "    value_name='Votes')\n",
    "\n",
    "# Split the 'YearParty' column into 'Year' and 'Party'\n",
    "df_elec_cph_long[['Year', 'Partyname']] = df_elec_cph_long['YearParty'].str.extract(r'FV(\\d{4})-(.+)')\n",
    "\n",
    "# Drop columns and reorder\n",
    "df_elec_cph_long = df_elec_cph_long.drop(columns='YearParty')\n",
    "df_elec_cph_long = df_elec_cph_long[['KredsNr', 'Year', 'Partyname', 'Votes']]\n",
    "\n",
    "# Replace NaN values in Votes with 0\n",
    "df_elec_cph_long['Votes'] = df_elec_cph_long['Votes'].fillna(0)\n",
    "\n",
    "# Convert 'Year' and KredsNr to integer\n",
    "df_elec_cph_long['Year'] = df_elec_cph_long['Year'].astype(int)\n",
    "df_elec_cph_long['KredsNr'] = df_elec_cph_long['KredsNr'].astype(int)\n",
    "\n",
    "print(\"Election data long format shape:\", df_elec_cph_long.shape)"
   ]
  },
  {
   "cell_type": "markdown",
   "id": "4fdda869",
   "metadata": {},
   "source": [
    "In the column `party_name`, we have the all parties represented in the elections - besides that we also have the total number of votes cast, blank votes, the number of invalid votes and eligible voters. However, for our analysis, we are interested in the political parties, and we also want to divide the votes into *left* and *right* wing. Therefore, we will create a new column `Wing` that indicates whether the party part of the left- or right-wing bloc.\n",
    "\n",
    "Most Danish parties have clear ideological leanings and are easy to group, while some define themselves as centrist and are more difficult to place. For instance, Centrum Demokraterne (CD), a centrist party that broke away from Socialdemokratiet in 1973 is more difficult to place. While they collaborated with both political blocs during their time in Parliament, we’ve chosen to place them in the right-wing category. This decision reflects their ideological origins and the general rightward tilt of their policies (*Source: [danmarkshistorien.dk](https://danmarkshistorien.lex.dk/Centrum-Demokraterne_1973-2008)*). Another tricky case is Moderaterne (M), a relatively new party founded in 2021 by former Prime Minister Lars Løkke Rasmussen. Although their first time in government (in 2022) involved a centrist coalition, we’ve chosen to classify them as right-leaning, based on their political stance and liberal-centrist identity, which places them closer to the center-right in Denmark’s political spectrum (*Source: [moderaterne.dk](https://moderaterne.dk/moderaterne-mener/)*)."
   ]
  },
  {
   "cell_type": "code",
   "execution_count": 71,
   "id": "9654cfee",
   "metadata": {},
   "outputs": [],
   "source": [
    "party_code_mapping = {\n",
    "    (2019, 'D.Centrum-Demokraterne'): 'D.NyeBorgerlige', # error in the data\n",
    "    (2022, 'D.Centrum-Demokraterne'): 'D.NyeBorgerlige', # error in the data\n",
    "    (2022, 'M.Minoritetspartiet'): 'M.Moderaterne', # error in the data\n",
    "    (2007, 'Y.NyAlliance'): 'I.LiberalAlliance'} # same party, different name\n",
    "\n",
    "parties = ['A.Socialdemokratiet','B.DetRadikaleVenstre', 'C.DetKonservativeFolkeparti','D.Centrum-Demokraterne', 'D.NyeBorgerlige', 'E.KlausRiskærPedersen',\n",
    "           'F.SF-SocialistiskFolkeparti','I.LiberalAlliance', 'K.Kristendemokraterne', 'M.Minoritetspartiet', 'M.Moderaterne', 'O.DanskFolkeparti', 'P.StramKurs', \n",
    "           'Q.FrieGrønne,DanmarksNyeVenstrefløjsparti', 'V.Venstre,DanmarksLiberaleParti', 'Y.NyAlliance',\n",
    "           'Æ.Danmarksdemokraterne-IngerStøjberg','Ø.Enhedslisten-DeRød-Grønne','Å.Alternativet']\n",
    "\n",
    "wing = {\n",
    "    \"Left\": ['A.Socialdemokratiet',\n",
    "             'F.SF-SocialistiskFolkeparti',\n",
    "             'Ø.Enhedslisten-DeRød-Grønne',\n",
    "             'Q.FrieGrønne,DanmarksNyeVenstrefløjsparti',\n",
    "             'Å.Alternativet',\n",
    "             'B.DetRadikaleVenstre',\n",
    "             'M.Minoritetspartiet'],\n",
    "    \"Right\": ['C.DetKonservativeFolkeparti',\n",
    "              'V.Venstre,DanmarksLiberaleParti',\n",
    "              'I.LiberalAlliance',\n",
    "              'O.DanskFolkeparti',\n",
    "              'Æ.Danmarksdemokraterne-IngerStøjberg',\n",
    "              'P.StramKurs',\n",
    "              'D.Centrum-Demokraterne',\n",
    "              'K.Kristendemokraterne',\n",
    "              'Y.NyAlliance',\n",
    "              'E.KlausRiskærPedersen', \n",
    "              'D.NyeBorgerlige',\n",
    "              'M.Moderaterne']}"
   ]
  },
  {
   "cell_type": "code",
   "execution_count": 72,
   "id": "55606ace",
   "metadata": {},
   "outputs": [],
   "source": [
    "def map_party(row):\n",
    "    return party_code_mapping.get((row['Year'], row['Partyname']), row['Partyname'])\n",
    "\n",
    "df_elec_cph_long['Partyname'] = df_elec_cph_long.apply(map_party, axis=1)\n",
    "\n",
    "df_elec_cph_long['Wing'] = df_elec_cph_long['Partyname'].apply(\n",
    "    lambda x: 'Left' if x in wing['Left'] else ('Right' if x in wing['Right'] else ''))"
   ]
  },
  {
   "cell_type": "markdown",
   "id": "c313a29e",
   "metadata": {},
   "source": [
    "##### 2.1.3 Sociodemographic Data\n",
    "The third dataset we will import is the **sociodemographic data**. This dataset contains information about the population in Denmark. The first step is to filter the dataset to only include the constituencies in the Copenhagen constituency using the defined map. \n",
    "\n",
    "As the data is structured in wide format with 11374 columns, we will split the data into sub dataframe and into long format, each corresponding to a specific characteristic. "
   ]
  },
  {
   "cell_type": "code",
   "execution_count": 73,
   "id": "582d04a2",
   "metadata": {},
   "outputs": [
    {
     "name": "stdout",
     "output_type": "stream",
     "text": [
      "Population data shape: (12, 11374)\n"
     ]
    }
   ],
   "source": [
    "# Load the population data\n",
    "df_population = pd.read_csv(\"Data/raw/Befolkning.csv\", sep=';', low_memory=False, decimal=',', na_values='-')\n",
    "df_population.columns = df_population.columns.str.replace(' ', '', regex=True)\n",
    "\n",
    "# Filter the population data to only keep the relevant constituencies\n",
    "df_population_cph = df_population[df_population['KredsNr'].isin([str(k) for k in constituency_id_to_name.keys()])]\n",
    "df_population_cph.loc[:, 'KredsNr'] = df_population_cph['KredsNr'].astype(int)\n",
    "\n",
    "print(f\"Population data shape: {df_population_cph.shape}\")"
   ]
  },
  {
   "cell_type": "markdown",
   "id": "75bbccd7",
   "metadata": {},
   "source": [
    "The dataset contains several columns that consist entirely of `NaN` values. These columns will therefore be dropped.\n",
    "\n",
    "In addition, some rows contain missing values. Upon inspection, these `NaN` entries appear to correspond to cases where the count is effectively zero—indicating that no individuals in that particular category were present in the given constituency. \n",
    "\n",
    "For example, a column like  \n",
    "`FV2015-Antalpersoneropgjortefterstatsborgerskabkønogaldersgrupper_Kvinder10-14år_09.Nordamerika`  \n",
    "represents the number of girls aged 10–14 with North American citizenship in a specific constituency in 2015. If the value is missing (`NaN`), here we take it to mean that no such individuals were registered in the data. In such cases, we will treat `NaN` as `0`.\n",
    "\n"
   ]
  },
  {
   "cell_type": "code",
   "execution_count": 74,
   "id": "15d260bb",
   "metadata": {},
   "outputs": [
    {
     "name": "stdout",
     "output_type": "stream",
     "text": [
      "Population data shape after dropping empty columns: (12, 5824)\n"
     ]
    }
   ],
   "source": [
    "# Drop columns with all NaN values\n",
    "df_population_cph = df_population_cph.dropna(axis=1, how='all')\n",
    "print(f\"Population data shape after dropping empty columns: {df_population_cph.shape}\")"
   ]
  },
  {
   "cell_type": "code",
   "execution_count": 75,
   "id": "09916f3b",
   "metadata": {},
   "outputs": [],
   "source": [
    "# Replace NaN values with 0 & convert to numeric\n",
    "df_population_cph.fillna(0, inplace=True) \n",
    "df_population_cph = df_population_cph.apply(pd.to_numeric, errors='coerce')"
   ]
  },
  {
   "cell_type": "markdown",
   "id": "7ab3ef66",
   "metadata": {},
   "source": [
    "Since the population data extracted from Danmarks Statistik is aggregated by election year, we map the `year` column to refer to the year of the population inventory. Here, we define the mapping as follows:"
   ]
  },
  {
   "cell_type": "code",
   "execution_count": 76,
   "id": "20f2f183",
   "metadata": {},
   "outputs": [],
   "source": [
    "year_replacements = {\n",
    "    '2007': '2004',\n",
    "    '2011': '2009',\n",
    "    '2015': '2014',\n",
    "    '2019': '2019'}"
   ]
  },
  {
   "cell_type": "markdown",
   "id": "e4acc517",
   "metadata": {},
   "source": [
    "After cleaning the data we divide this huge dataframe into sub-dataframes as defined previously."
   ]
  },
  {
   "cell_type": "markdown",
   "id": "fe77153d",
   "metadata": {},
   "source": [
    "**Demographics**\n",
    "\n",
    "Includes age, gender and citizenship."
   ]
  },
  {
   "cell_type": "code",
   "execution_count": 77,
   "id": "4fb48bd8",
   "metadata": {},
   "outputs": [
    {
     "name": "stdout",
     "output_type": "stream",
     "text": [
      "Population demographics data shape: (18432, 7)\n"
     ]
    }
   ],
   "source": [
    "# Extract the demographic columns\n",
    "demographics_cols = [\n",
    "    col for col in df_population_cph.columns\n",
    "    if col.startswith(\"FV\") and \"Antalpersoneropgjortefter\" in col]\n",
    "\n",
    "# Melt the DataFrame\n",
    "df_demo_long = df_population_cph.melt(\n",
    "    id_vars=['Gruppe', 'KredsNr'],\n",
    "    value_vars=demographics_cols,\n",
    "    var_name='RawColumn',\n",
    "    value_name='Count')\n",
    "\n",
    "# Extract the fields using regex: FV<year>-Antalpersoner..._<Gender><Age>_<CitizenshipCode>.<CitizenshipName>\n",
    "df_demo_long[['Year', 'GenderAge', 'Citizenship']] = df_demo_long['RawColumn'].str.extract(\n",
    "    r'FV(\\d{4})-Antalpersoner.*?_(\\w+\\d+-?\\d*år)_(?:\\d+\\.)?(.+)$')\n",
    "\n",
    "# Separate Gender and Age\n",
    "df_demo_long[['Gender', 'Age']] = df_demo_long['GenderAge'].str.extract(r'(\\D+)(\\d+-?\\d*år)')\n",
    "\n",
    "# Reorder and clean\n",
    "df_demo_long = df_demo_long.drop(columns=['RawColumn', 'GenderAge'])\n",
    "df_demo_long = df_demo_long[['Gruppe', 'KredsNr', 'Year', 'Gender', 'Age', 'Citizenship', 'Count']]\n",
    "\n",
    "# remove år from Age\n",
    "df_demo_long['Age'] = df_demo_long['Age'].str.replace('år', '', regex=False)\n",
    "\n",
    "df_demo_long = df_demo_long[df_demo_long['Year'].isin(year_replacements.keys())].replace({'Year': year_replacements})\n",
    "\n",
    "print(f\"Population demographics data shape: {df_demo_long.shape}\")"
   ]
  },
  {
   "cell_type": "markdown",
   "id": "c7ff593a",
   "metadata": {},
   "source": [
    "**Origin**\n",
    "\n",
    "Includes first and second generation immigrants and their origin."
   ]
  },
  {
   "cell_type": "code",
   "execution_count": 78,
   "id": "2cbcf5da",
   "metadata": {},
   "outputs": [
    {
     "name": "stdout",
     "output_type": "stream",
     "text": [
      "Population origin data shape: (16872, 7)\n"
     ]
    }
   ],
   "source": [
    "# Filter relevant columns\n",
    "origin_cols = [\n",
    "    col for col in df_population_cph.columns\n",
    "    if \"Indvandrereogefterkommerefordeltefteroprindelsesland\" in col]\n",
    "\n",
    "# Melt to long format\n",
    "df_origin_long = df_population_cph.melt(\n",
    "    id_vars=['Gruppe', 'KredsNr'],\n",
    "    value_vars=origin_cols,\n",
    "    var_name='RawColumn',\n",
    "    value_name='Count')\n",
    "\n",
    "# Extract year, gender, age, origin\n",
    "df_origin_long[['Year', 'GenderAge', 'Origin']] = df_origin_long['RawColumn'].str.extract(\n",
    "    r'FV(\\d{4})-Indvandrereogefterkommerefordeltefteroprindelsesland_(\\D+\\d+-?\\d*år)_(?:\\d+\\.)?(.+)$')\n",
    "\n",
    "# Split gender and age\n",
    "df_origin_long[['Gender', 'Age']] = df_origin_long['GenderAge'].str.extract(r'(\\D+)(\\d+-?\\d*år)')\n",
    "\n",
    "# Clean up\n",
    "df_origin_long = df_origin_long.drop(columns=['RawColumn', 'GenderAge'])\n",
    "df_origin_long['Age'] = df_origin_long['Age'].str.replace('år', '', regex=False)\n",
    "\n",
    "# Map year replacements\n",
    "df_origin_long = df_origin_long[df_origin_long['Year'].isin(year_replacements.keys())].replace({'Year': year_replacements})\n",
    "\n",
    "# Apply the origin mapping\n",
    "origin_mapping = {\n",
    "    'Danmark': 'Denmark',\n",
    "    'Nordiskelande': 'Nordic countries',\n",
    "    'Tyrkiet': 'Turkey',\n",
    "    'TidligereJugoslavien': 'Former Yugoslavia',\n",
    "    'GamleEU-lande': 'Old EU countries',\n",
    "    'ØvrigegamleEU-lande': 'Old EU countries', \n",
    "    'NyeEU-lande': 'New EU countries',\n",
    "    'ØvrigeEuropa': 'Other European countries',\n",
    "    'Afrika': 'Africa',\n",
    "    'Nordamerika': 'North America',\n",
    "    'Syd-ogMellemamerika': 'South and Central America',\n",
    "    'Syd-ogMellemam.': 'South and Central America',\n",
    "    'AsienogOceanien': 'Asia and Oceania',\n",
    "    'Asienogoceanien': 'Asia and Oceania',\n",
    "    'Uoplyst': 'Unspecified/Stateless',\n",
    "    'Uoplyst/statsløse': 'Unspecified/Stateless',\n",
    "}\n",
    "df_origin_long['Origin'] = df_origin_long['Origin'].replace(origin_mapping)\n",
    "\n",
    "print(f\"Population origin data shape: {df_origin_long.shape}\")"
   ]
  },
  {
   "cell_type": "markdown",
   "id": "c8f8af0e",
   "metadata": {},
   "source": [
    "**Education**\n",
    "\n",
    "Includes the highest achieved educational level by age group."
   ]
  },
  {
   "cell_type": "code",
   "execution_count": 79,
   "id": "b8bc195c",
   "metadata": {},
   "outputs": [
    {
     "name": "stdout",
     "output_type": "stream",
     "text": [
      "Education data shape: (4416, 6)\n"
     ]
    }
   ],
   "source": [
    "# Extract the education columns\n",
    "educ_columns = [\n",
    "    col for col in df_population_cph.columns\n",
    "    if col.startswith(\"FV\") and \"Højstfuldførteerhvervsuddannelseogaldersgrupper\" in col]\n",
    "\n",
    "# Melt the DataFrame\n",
    "df_educ_long = df_population_cph.melt(\n",
    "    id_vars=['Gruppe', 'KredsNr'],\n",
    "    value_vars=educ_columns,\n",
    "    var_name='RawColumn',\n",
    "    value_name='Count')\n",
    "\n",
    "# Extract the fields using regex: FV<year>-Højstfuldførteer..._<Age>_<EducationLevel>\n",
    "df_educ_long[['Year', 'Age', 'EducationLevel']] = df_educ_long['RawColumn'].str.extract(\n",
    "    r'FV(\\d{4})-Højstfuldførteerhvervsuddannelseogaldersgrupper_(\\d{1,3}-?\\d*år)(?:_(?:\\d+\\.)?(.+))?$')\n",
    "\n",
    "# Remove 'år' from age\n",
    "df_educ_long['Age'] = df_educ_long['Age'].str.replace('år', '', regex=False)\n",
    "\n",
    "# Reorder and clean\n",
    "df_educ_long = df_educ_long.drop(columns=['RawColumn'])\n",
    "df_educ_long = df_educ_long[['Gruppe', 'KredsNr', 'Year', 'Age', 'EducationLevel', 'Count']]\n",
    "\n",
    "# Map year replacements\n",
    "df_educ_long = df_educ_long[df_educ_long['Year'].isin(year_replacements.keys())].replace({'Year': year_replacements})\n",
    "\n",
    "# Drop NaN values\n",
    "df_educ_long = df_educ_long.dropna(subset=['Year', 'Age', 'EducationLevel'])\n",
    "\n",
    "# Map the education levels to English\n",
    "education_mapping = {\n",
    "    'Grundskole': 'Primary School',\n",
    "    'Almengymnasial': 'General Upper Secondary',\n",
    "    'Erhvervsgymnaisal': 'Vocational Education',\n",
    "    'Erhvervsfaglig': 'Vocational Education',\n",
    "    'Kortvideregående': 'Short-cycle Higher Education',\n",
    "    'Mellemlangvideregående': \"Bachelor's Degree\",\n",
    "    'Langvideregående': \"Master's Degree\",\n",
    "    'Uoplyst': 'Unspecified'\n",
    "}\n",
    "df_educ_long['EducationLevel'] = df_educ_long['EducationLevel'].map(education_mapping)\n",
    "\n",
    "print(f\"Education data shape: {df_educ_long.shape}\")"
   ]
  },
  {
   "cell_type": "markdown",
   "id": "97a2a087",
   "metadata": {},
   "source": [
    "**Income support**\n",
    "\n",
    "Includes the income support type - if any - per residents received by the Danish Government. If a resident does not receive any income support the resident is noted in the date as 'No Received Benefits'."
   ]
  },
  {
   "cell_type": "code",
   "execution_count": 80,
   "id": "52d90b35",
   "metadata": {},
   "outputs": [
    {
     "name": "stdout",
     "output_type": "stream",
     "text": [
      "Support data shape: (432, 5)\n"
     ]
    }
   ],
   "source": [
    "# Extract the support columns\n",
    "support_cols = [\n",
    "    col for col in df_population_cph.columns\n",
    "    if col.startswith(\"FV\") and \"Personerefterforsørgelsestype\" in col]\n",
    "\n",
    "# Melt the DataFrame\n",
    "df_support_long = df_population_cph.melt(\n",
    "    id_vars=['Gruppe', 'KredsNr'],\n",
    "    value_vars=support_cols,\n",
    "    var_name='RawColumn',\n",
    "    value_name='Count')\n",
    "\n",
    "# Extract Year and SupportType\n",
    "df_support_long[['Year', 'SupportType']] = df_support_long['RawColumn'].str.extract(\n",
    "    r'FV(\\d{4})-Personerefterforsørgelsestype_\\d+\\.(.+)')\n",
    "\n",
    "# Clean up\n",
    "df_support_long = df_support_long.drop(columns='RawColumn')\n",
    "df_support_long = df_support_long[['Gruppe', 'KredsNr', 'Year', 'SupportType', 'Count']]\n",
    "\n",
    "# Map year replacements\n",
    "df_support_long = df_support_long[df_support_long['Year'].isin(year_replacements.keys())].replace({'Year': year_replacements})\n",
    "\n",
    "# Map the support types to English\n",
    "support_mapping = {\n",
    "    'Arbejdsløshedsdagpenge': 'Unemployment Benefits',\n",
    "    'LedighedsydelseogFleksjob': 'Unemployment Benefits',\n",
    "    'Aktivering': 'Activation Programs',\n",
    "    'Sygedagpenge': 'Health / Disability Support',\n",
    "    'Kontanthjælp': 'Social Assistance (Cash Benefits)',\n",
    "    'Revalidering': 'Health / Disability Support',\n",
    "    'Barselsdagpenge': 'Parental Leave Benefits',\n",
    "    'Førtidspension': 'Disability Pension',\n",
    "    'Efterløn': 'Early Retirement Pension',\n",
    "    'Folkepension': 'State Pension',\n",
    "    'Modtagerikkeydelser': 'No Received Benefits',\n",
    "    'Antalpersonerialt': 'Total Number of Persons'}\n",
    "df_support_long['SupportType'] = df_support_long['SupportType'].map(support_mapping)\n",
    "\n",
    "print(f\"Support data shape: {df_support_long.shape}\")"
   ]
  },
  {
   "cell_type": "markdown",
   "id": "fc00dd44",
   "metadata": {},
   "source": [
    "We use **Dansk Statistik** [3]  as a reference for mapping the income support time in reasonable categories."
   ]
  },
  {
   "cell_type": "markdown",
   "id": "1fb5839c",
   "metadata": {},
   "source": [
    "**Income**\n",
    "\n",
    "Includes the income in Danish kr. per household. It is not stated in the data the corresponding number of residents in a household and how many are in the workforce."
   ]
  },
  {
   "cell_type": "code",
   "execution_count": 81,
   "id": "7f37381a",
   "metadata": {},
   "outputs": [
    {
     "name": "stdout",
     "output_type": "stream",
     "text": [
      "Income data shape: (612, 5)\n"
     ]
    }
   ],
   "source": [
    "# Filter relevant income columns\n",
    "income_cols = [\n",
    "    col for col in df_population_cph.columns\n",
    "    if col.startswith(\"FV\") and \"Husstandsindkomsterfordeltpåafstemningsområder\" in col]\n",
    "\n",
    "# Melt\n",
    "df_income_long = df_population_cph.melt(\n",
    "    id_vars=['Gruppe', 'KredsNr'],\n",
    "    value_vars=income_cols,\n",
    "    var_name='RawColumn',\n",
    "    value_name='Value')\n",
    "\n",
    "# Extract Year + IncomeMetric\n",
    "df_income_long[['Year', 'IncomeMetric']] = df_income_long['RawColumn'].str.extract(\n",
    "    r'FV(\\d{4})-Husstandsindkomsterfordeltpåafstemningsområder_(.+)')\n",
    "\n",
    "# Clean up\n",
    "df_income_long = df_income_long.drop(columns='RawColumn')\n",
    "df_income_long = df_income_long[['Gruppe', 'KredsNr', 'Year', 'IncomeMetric', 'Value']]\n",
    "\n",
    "# Map year replacements\n",
    "df_income_long = df_income_long[df_income_long['Year'].isin(year_replacements.keys())].replace({'Year': year_replacements})\n",
    "\n",
    "# Define income brackets to keep\n",
    "income_brackets = [\n",
    "    'Under100.000kr.',\n",
    "    '100.000-149.999kr',\n",
    "    '150.000-199.999kr.',\n",
    "    '200.000-299.999kr.',\n",
    "    '300.000-399.999kr.',\n",
    "    '400.000-499.999kr.',\n",
    "    '500.000-749.999kr.',\n",
    "    '750.000kr.-']\n",
    "\n",
    "print(f\"Income data shape: {df_income_long.shape}\")"
   ]
  },
  {
   "cell_type": "markdown",
   "id": "5f4b2269",
   "metadata": {},
   "source": [
    "Our data shows around 350.000 households in the Copenhagen area. We check that this number of households is plausible and that we are not missing any data by comparing to the national average of people in a household:\n",
    "\n",
    "5.998.205 / 1.857.302 = 3.2295 persons pr household (march 2025) (reference: [4, 5])\n",
    "\n",
    "An urban area [6] like Copenhagen is likely to have smaller average household size than the national average."
   ]
  },
  {
   "cell_type": "markdown",
   "id": "54240fa5",
   "metadata": {},
   "source": [
    "**Living area size**\n",
    "\n",
    "Includes the living space area size per household."
   ]
  },
  {
   "cell_type": "code",
   "execution_count": 82,
   "id": "90915b1b",
   "metadata": {},
   "outputs": [
    {
     "name": "stdout",
     "output_type": "stream",
     "text": [
      "House size data shape: (624, 6)\n"
     ]
    }
   ],
   "source": [
    "housing_size_columns = [\n",
    "    col for col in df_population_cph.columns\n",
    "    if col.startswith(\"FV\") and \"boligstørrelse\" in col]\n",
    "\n",
    "# Melt to long format\n",
    "df_house_size_long = df_population_cph.melt(\n",
    "    id_vars=['Gruppe', 'KredsNr'],\n",
    "    value_vars=housing_size_columns,\n",
    "    var_name='RawColumn',\n",
    "    value_name='Count')\n",
    "\n",
    "# Extract year, aggregate level, and size category\n",
    "df_house_size_long[['Year', 'AggregateLevel', 'HouseSize']] = df_house_size_long['RawColumn'].str.extract(\n",
    "    r'FV(\\d{4})-Boligerogpersonerefterboligstørrelse_\\d+\\.(?:Antal)?(boliger|personer)_(.+)')\n",
    "\n",
    "df_house_size_long['AggregateLevel'] = df_house_size_long['AggregateLevel'].map({'boliger': 'Units', 'personer': 'Residents'})\n",
    "\n",
    "# Reorder columns\n",
    "df_house_size_long = df_house_size_long[['Gruppe', 'KredsNr', 'Year', 'AggregateLevel', 'HouseSize', 'Count']]\n",
    "\n",
    "# Drop columns with NaN values\n",
    "df_house_size_long = df_house_size_long.dropna(subset=['Year', 'AggregateLevel', 'HouseSize'])\n",
    "\n",
    "# Map year replacements\n",
    "df_house_size_long = df_house_size_long[df_house_size_long['Year'].isin(year_replacements.keys())].replace({'Year': year_replacements})\n",
    "\n",
    "print(f\"House size data shape: {df_house_size_long.shape}\")"
   ]
  },
  {
   "cell_type": "markdown",
   "id": "374cab9a",
   "metadata": {},
   "source": [
    "##### 2.2 Explorative Analysis"
   ]
  },
  {
   "cell_type": "markdown",
   "id": "f795b13f",
   "metadata": {},
   "source": [
    "**Election Data**\n",
    "\n",
    "We begin by examining the election data, focusing on two key metrics: voter turnout and the vote share of left- and right-wing blocs across the last six election years in Copenhagen."
   ]
  },
  {
   "cell_type": "code",
   "execution_count": 84,
   "id": "5cd5134c",
   "metadata": {},
   "outputs": [],
   "source": [
    "# Total number of people who actually voted, per year\n",
    "df_voter_turnout = df_elec_cph_long.query(\"Partyname == 'Afgivnestemmer'\").groupby(['Year']).agg(TotalVotesCast=('Votes', 'sum')).reset_index()\n",
    "\n",
    "# Total number of people who were eligible to vote, per year\n",
    "df_voter_eligibility = df_elec_cph_long.query(\"Partyname == 'Stemmeberettigede'\").groupby(['Year']).agg(TotalEligibleVoters=('Votes', 'sum')).reset_index()\n",
    "\n",
    "# Voter turnout ratio = votes cast / eligible voters\n",
    "df_turnout_ratio = pd.DataFrame(df_voter_turnout['Year'].copy())\n",
    "df_turnout_ratio['Ratio'] = df_voter_turnout['TotalVotesCast'] / df_voter_eligibility['TotalEligibleVoters']"
   ]
  },
  {
   "cell_type": "code",
   "execution_count": 85,
   "id": "5e96fe22",
   "metadata": {},
   "outputs": [],
   "source": [
    "def plot_bar_dist_perc(values, percentage, html, color, y_axis_title, title):\n",
    "    values = [str(v) for v in values]\n",
    "    plot_df = pd.DataFrame({'Value': values, 'Percentage': percentage})\n",
    "    plot_df['Value'] = pd.Categorical(plot_df['Value'], categories=values, ordered=True)\n",
    "\n",
    "    fig = px.bar(plot_df, x='Value', y='Percentage', text='Percentage')\n",
    "\n",
    "    fig.update_traces(\n",
    "        texttemplate='%{text:.1f}%',\n",
    "        textposition='outside',\n",
    "        marker_color=color,\n",
    "        marker_line_color='black',\n",
    "        marker_line_width=1.5,\n",
    "        hovertemplate=(\n",
    "            \"Year: %{x}<br>\" +\n",
    "            (\"Percentage: %{y:.2f}%\"  +\n",
    "            \"<extra></extra>\"))\n",
    "        )\n",
    "\n",
    "    fig.update_layout(\n",
    "        title=title,\n",
    "        title_x=0.5,\n",
    "        uniformtext_minsize=8,\n",
    "        uniformtext_mode='hide',\n",
    "        hovermode=\"x unified\",\n",
    "        plot_bgcolor='rgba(0,0,0,0)',\n",
    "        yaxis_title=y_axis_title,\n",
    "        xaxis_title=\"Election Year\",\n",
    "    )\n",
    "\n",
    "    fig.update_xaxes(showline=True, linewidth=1, linecolor='lightgrey',\n",
    "                     showgrid=True, gridwidth=1, gridcolor='lightgrey')\n",
    "    fig.update_yaxes(showline=True, linewidth=1, linecolor='lightgrey',\n",
    "                     showgrid=True, gridwidth=1, gridcolor='lightgrey')\n",
    "\n",
    "    fig.write_html(html)\n",
    "    fig.show()"
   ]
  },
  {
   "cell_type": "code",
   "execution_count": 86,
   "id": "b68964a1",
   "metadata": {},
   "outputs": [
    {
     "data": {
      "text/html": [
       "<iframe\n",
       "    scrolling=\"no\"\n",
       "    width=\"100%\"\n",
       "    height=\"545px\"\n",
       "    src=\"iframe_figures/figure_86.html\"\n",
       "    frameborder=\"0\"\n",
       "    allowfullscreen\n",
       "></iframe>\n"
      ]
     },
     "metadata": {},
     "output_type": "display_data"
    }
   ],
   "source": [
    "plot_bar_dist_perc(values = df_turnout_ratio['Year'].values, \n",
    "              percentage = df_turnout_ratio['Ratio'].values * 100, \n",
    "              color = theme_colors[2],\n",
    "              y_axis_title = \"Voter Turnout (%)\",\n",
    "              title = \"Voter Turnout Percentage in Copenhagen Constituencies (2005-2022)\",              \n",
    "              html = 'html_plots/vote_turnout.html')"
   ]
  },
  {
   "cell_type": "markdown",
   "id": "e0bfdd09",
   "metadata": {},
   "source": [
    "For voter turnout, we observe that participation has remained relatively stable over the years, with a slight increase in 2007 and 2011. In the last three elections, the overall turnout has hovered around 84%.\n",
    "\n",
    "Next, we examine the vote share of the left- and right-wing blocs in Copenhagen across the last six elections."
   ]
  },
  {
   "cell_type": "code",
   "execution_count": 91,
   "id": "0ddafa48",
   "metadata": {},
   "outputs": [],
   "source": [
    "# Filter the data to only include the parties\n",
    "df_elec_cph_parties = df_elec_cph_long[df_elec_cph_long['Partyname'].isin(parties)].reset_index(drop=True)\n",
    "\n",
    "# Get total voters per year\n",
    "df_total_voters = df_elec_cph_parties.groupby('Year')['Votes'].sum().reset_index()\n",
    "df_total_voters = df_total_voters.rename(columns={'Votes': 'TotalVotes'})\n",
    "\n",
    "# Get vote sum per wing per year\n",
    "df_wing_sum = df_elec_cph_parties.groupby(['Year', 'Wing'])['Votes'].sum().reset_index()\n",
    "\n",
    "# Merge and compute ratio\n",
    "df_wing_ratio = pd.merge(df_wing_sum, df_total_voters, on='Year')\n",
    "df_wing_ratio['WingRatio'] = df_wing_ratio['Votes'] / df_wing_ratio['TotalVotes']"
   ]
  },
  {
   "cell_type": "code",
   "execution_count": 94,
   "id": "2234c9b6",
   "metadata": {},
   "outputs": [],
   "source": [
    "def plot_stacked_bar_dist(years, counts, legend, values, html, color_map, show_percentage, y_axis_title, title):\n",
    "    df = pd.DataFrame({'Year': years, f'{legend}': counts, 'Value': values})\n",
    "    df['Year'] = df['Year'].astype(str)\n",
    "    df[f'{legend}'] = df[f'{legend}'].astype(str)\n",
    "\n",
    "    if show_percentage:\n",
    "        df['Percentage'] = df.groupby('Year')['Value'].transform(lambda x: x / x.sum() * 100)\n",
    "        y_col = 'Percentage'\n",
    "        text_format = '%{text:.1f}%'\n",
    "    else:\n",
    "        y_col = 'Value'\n",
    "        text_format = '%{text:.0f}'\n",
    "\n",
    "    if isinstance(color_map, list):\n",
    "        fig = px.bar(\n",
    "            df,\n",
    "            x='Year',\n",
    "            y=y_col,\n",
    "            color=f'{legend}',\n",
    "            text=y_col,\n",
    "            barmode='stack',\n",
    "            color_discrete_sequence=color_map  \n",
    "        )\n",
    "    else:\n",
    "        fig = px.bar(\n",
    "            df,\n",
    "            x='Year',\n",
    "            y=y_col,\n",
    "            color=f'{legend}',\n",
    "            text=y_col,\n",
    "            barmode='stack',\n",
    "            color_discrete_map=color_map  \n",
    "        )\n",
    "        \n",
    "    fig.update_traces(\n",
    "        texttemplate=text_format,\n",
    "        textposition='inside',\n",
    "        marker_line_color='lightgrey',\n",
    "        marker_line_width=1.5, \n",
    "        hovertemplate=(\n",
    "            \"Year: %{x}<br>\" +\n",
    "            (\"Percentage: %{y:.2f}%\" if show_percentage else \"Count: %{y:.0f}\") +\n",
    "            \"<extra></extra>\")\n",
    "        )\n",
    "\n",
    "    fig.update_layout(\n",
    "        title=title,\n",
    "        title_x=0.5,\n",
    "        uniformtext_minsize=8,\n",
    "        uniformtext_mode='hide',\n",
    "        hovermode=\"x unified\",\n",
    "        plot_bgcolor='rgba(0,0,0,0)',\n",
    "        yaxis_title=y_axis_title,\n",
    "        xaxis_title=\"Election Year\"\n",
    "    )\n",
    "\n",
    "    fig.update_xaxes(showline=True, linewidth=1, linecolor='lightgrey',\n",
    "                     showgrid=True, gridwidth=1, gridcolor='lightgrey')\n",
    "    fig.update_yaxes(showline=True, linewidth=1, linecolor='lightgrey',\n",
    "                     showgrid=True, gridwidth=1, gridcolor='lightgrey')\n",
    "\n",
    "    fig.write_html(html)\n",
    "    fig.show()"
   ]
  },
  {
   "cell_type": "code",
   "execution_count": null,
   "id": "5b4025c8",
   "metadata": {},
   "outputs": [
    {
     "data": {
      "text/html": [
       "<iframe\n",
       "    scrolling=\"no\"\n",
       "    width=\"100%\"\n",
       "    height=\"545px\"\n",
       "    src=\"iframe_figures/figure_95.html\"\n",
       "    frameborder=\"0\"\n",
       "    allowfullscreen\n",
       "></iframe>\n"
      ]
     },
     "metadata": {},
     "output_type": "display_data"
    }
   ],
   "source": [
    "plot_stacked_bar_dist(\n",
    "    years=df_wing_ratio['Year'],\n",
    "    counts=df_wing_ratio['Wing'],\n",
    "    legend='Wing',\n",
    "    values=df_wing_ratio['Votes'],\n",
    "    html=\"html_plots/wing_share_votes.html\",\n",
    "    color_map=wing_colors,\n",
    "    show_percentage=True,\n",
    "    y_axis_title=\"Vote Share (%)\",\n",
    "    title=\"Vote Share by Wing (2005–2022) in Copenhagen Constituencies\"\n",
    ")"
   ]
  },
  {
   "cell_type": "markdown",
   "id": "482f8597",
   "metadata": {},
   "source": [
    "We observe a clear trend: the left-wing bloc has consistently received a higher share of votes compared to the right-wing bloc in Copenhagen. This trend strengthened over the years, peaking at 71.6% in 2019 before declining to 65% in 2022. The slight drop in 2022 can be attributed, in part, to the growing appeal of forming a centrist government during that election [7]. "
   ]
  },
  {
   "cell_type": "markdown",
   "id": "d57098fc",
   "metadata": {},
   "source": [
    "**Demographics**\n",
    "\n",
    "In this section, we take a closer look at the demographic data, visualizing the population distribution by gender and age group across the last four population inventories to examine how the population has changed over time."
   ]
  },
  {
   "cell_type": "code",
   "execution_count": 99,
   "id": "65bfef18",
   "metadata": {},
   "outputs": [
    {
     "data": {
      "image/png": "[encoded data removed]",
      "text/plain": [
       "<Figure size 1800x1100 with 4 Axes>"
      ]
     },
     "metadata": {},
     "output_type": "display_data"
    }
   ],
   "source": [
    "gender_translation = {'Kvinder': 'Women', 'Mænd': 'Men'}\n",
    "df_demo_long['Gender'] = df_demo_long['Gender'].replace(gender_translation)\n",
    "plot_population_pyramids(\n",
    "    df_demo_long, \n",
    "    colors=(theme_colors[3], theme_colors[5]),\n",
    "    suptitle=\"Population Pyramids by Year (2004-2019)\")"
   ]
  },
  {
   "cell_type": "markdown",
   "id": "6ac3da27",
   "metadata": {},
   "source": [
    "It is particularly noteworthy how the *20–24*, *25–29*, and *30–34* age groups have grown over the years — a trend that becomes especially pronounced in the 2014 population inventory and continues to increase in 2019. This rise reflects a broader pattern: Copenhagen attract young adults, students, and early-career professionals. [10]\n",
    "\n",
    "Interestingly, the increase in the *30–34* age group suggests that more people are choosing to stay in the city even as they move into later stages of adulthood. Where residents in this age bracket might previously have left Copenhagen to start families elsewhere. [10]\n",
    "\n",
    "Meanwhile, the gender distribution is relatively stable over time, with equal distribution across most age groups. The only notable exception is among those aged *70-* and older, where women make up a larger share — a difference likely explained by women’s higher average life expectancy. [9]"
   ]
  },
  {
   "cell_type": "markdown",
   "id": "b7d4f6fc",
   "metadata": {},
   "source": [
    "**Population counts trends per constituency**"
   ]
  },
  {
   "cell_type": "code",
   "execution_count": 101,
   "id": "dbef4258",
   "metadata": {},
   "outputs": [
    {
     "ename": "NameError",
     "evalue": "name 'line_plot_by_year' is not defined",
     "output_type": "error",
     "traceback": [
      "\u001b[1;31m---------------------------------------------------------------------------\u001b[0m",
      "\u001b[1;31mNameError\u001b[0m                                 Traceback (most recent call last)",
      "Cell \u001b[1;32mIn[101], line 5\u001b[0m\n\u001b[0;32m      2\u001b[0m pop_by_kreds_year \u001b[38;5;241m=\u001b[39m df_demo_long\u001b[38;5;241m.\u001b[39mgroupby([\u001b[38;5;124m'\u001b[39m\u001b[38;5;124mKredsNr\u001b[39m\u001b[38;5;124m'\u001b[39m, \u001b[38;5;124m'\u001b[39m\u001b[38;5;124mYear\u001b[39m\u001b[38;5;124m'\u001b[39m])[\u001b[38;5;124m'\u001b[39m\u001b[38;5;124mCount\u001b[39m\u001b[38;5;124m'\u001b[39m]\u001b[38;5;241m.\u001b[39msum()\u001b[38;5;241m.\u001b[39mreset_index()\n\u001b[0;32m      3\u001b[0m pop_by_kreds_year[\u001b[38;5;124m'\u001b[39m\u001b[38;5;124mKredsNr\u001b[39m\u001b[38;5;124m'\u001b[39m] \u001b[38;5;241m=\u001b[39m pop_by_kreds_year[\u001b[38;5;124m'\u001b[39m\u001b[38;5;124mKredsNr\u001b[39m\u001b[38;5;124m'\u001b[39m]\u001b[38;5;241m.\u001b[39mreplace(constituency_id_to_name)\n\u001b[1;32m----> 5\u001b[0m line_plot_by_year(\n\u001b[0;32m      6\u001b[0m     df\u001b[38;5;241m=\u001b[39mpop_by_kreds_year,\n\u001b[0;32m      7\u001b[0m     x\u001b[38;5;241m=\u001b[39m\u001b[38;5;124m'\u001b[39m\u001b[38;5;124mYear\u001b[39m\u001b[38;5;124m'\u001b[39m,\n\u001b[0;32m      8\u001b[0m     y\u001b[38;5;241m=\u001b[39m\u001b[38;5;124m'\u001b[39m\u001b[38;5;124mCount\u001b[39m\u001b[38;5;124m'\u001b[39m,\n\u001b[0;32m      9\u001b[0m     cat\u001b[38;5;241m=\u001b[39m\u001b[38;5;124m'\u001b[39m\u001b[38;5;124mKredsNr\u001b[39m\u001b[38;5;124m'\u001b[39m,\n\u001b[0;32m     10\u001b[0m     title\u001b[38;5;241m=\u001b[39m\u001b[38;5;124m\"\u001b[39m\u001b[38;5;124mPopulation Development in Each Constituency (Count Based)\u001b[39m\u001b[38;5;124m\"\u001b[39m,\n\u001b[0;32m     11\u001b[0m     x_title\u001b[38;5;241m=\u001b[39m\u001b[38;5;124m\"\u001b[39m\u001b[38;5;124mYear\u001b[39m\u001b[38;5;124m\"\u001b[39m,\n\u001b[0;32m     12\u001b[0m     y_title\u001b[38;5;241m=\u001b[39m\u001b[38;5;124m\"\u001b[39m\u001b[38;5;124mPopulation Count\u001b[39m\u001b[38;5;124m\"\u001b[39m,\n\u001b[0;32m     13\u001b[0m     color_map\u001b[38;5;241m=\u001b[39mconst_colors, \n\u001b[0;32m     14\u001b[0m     html\u001b[38;5;241m=\u001b[39m\u001b[38;5;124m'\u001b[39m\u001b[38;5;124mhtml_plots/population_count_by_constituency.html\u001b[39m\u001b[38;5;124m'\u001b[39m\n\u001b[0;32m     15\u001b[0m )\n",
      "\u001b[1;31mNameError\u001b[0m: name 'line_plot_by_year' is not defined"
     ]
    }
   ],
   "source": [
    "# Aggregate and map district names\n",
    "pop_by_kreds_year = df_demo_long.groupby(['KredsNr', 'Year'])['Count'].sum().reset_index()\n",
    "pop_by_kreds_year['KredsNr'] = pop_by_kreds_year['KredsNr'].replace(constituency_id_to_name)\n",
    "\n",
    "line_plot_by_year(\n",
    "    df=pop_by_kreds_year,\n",
    "    x='Year',\n",
    "    y='Count',\n",
    "    cat='KredsNr',\n",
    "    title=\"Population Development in Each Constituency (Count Based)\",\n",
    "    x_title=\"Year\",\n",
    "    y_title=\"Population Count\",\n",
    "    color_map=const_colors, \n",
    "    html='html_plots/population_count_by_constituency.html'\n",
    ")\n"
   ]
  },
  {
   "cell_type": "markdown",
   "id": "78b472ea",
   "metadata": {},
   "source": [
    "We observe a clear trend: the population in Copenhagen has been steadily increasing over the years, with some constituencies experiencing more pronounced growth than others — particularly *Sundbyvester* and *Vesterbro*. In contrast, areas like *Tårnby* and *Slots* have seen relatively little growth. Overall, the data suggests that more people are moving to the city. "
   ]
  },
  {
   "cell_type": "markdown",
   "id": "80c48bae",
   "metadata": {},
   "source": [
    "**Income Support type**\n",
    "\n",
    "Now, we turn our attention to income support types in the Copenhagen area. We examine the different types of income support and how their distribution has changed over time — considering both the absolute number of recipients and the proportion of the population receiving each type of support."
   ]
  },
  {
   "cell_type": "code",
   "execution_count": 26,
   "id": "154d3722",
   "metadata": {},
   "outputs": [],
   "source": [
    "# Create base summary\n",
    "df_support_summary = (\n",
    "    df_support_long.groupby(['SupportType', 'Year'])['Count']\n",
    "    .mean()\n",
    "    .reset_index())\n",
    "\n",
    "# Pivot to get Total Number of Persons per year\n",
    "df_totals = df_support_summary[df_support_summary['SupportType'] == 'Total Number of Persons']\n",
    "df_totals = df_totals[['Year', 'Count']].rename(columns={'Count': 'TotalCount'})\n",
    "\n",
    "# Merge total counts back to original summary\n",
    "df_ratios = df_support_summary.merge(df_totals, on='Year')\n",
    "\n",
    "# Filter out Total Number of Persons\n",
    "df_ratios = df_ratios[df_ratios['SupportType'] != 'Total Number of Persons'].copy()\n",
    "\n",
    "# Calculate ratio\n",
    "df_ratios['RatioToTotal'] = df_ratios['Count'] / df_ratios['TotalCount']\n",
    "df_ratios = df_ratios.sort_values(by=['Year', 'RatioToTotal'], ascending=False).reset_index(drop=True)\n",
    "df_ratios['RatioToTotal'] = df_ratios['RatioToTotal'].apply(lambda x: f\"{x:.2%}\")\n"
   ]
  },
  {
   "cell_type": "markdown",
   "id": "459bd6ed",
   "metadata": {},
   "source": [
    "We choose to provide the result in table format this time"
   ]
  },
  {
   "cell_type": "code",
   "execution_count": 27,
   "id": "23e449e8",
   "metadata": {},
   "outputs": [
    {
     "data": {
      "text/html": [
       "<table class=\"dataframe table table-striped\">\n",
       "  <thead>\n",
       "    <tr style=\"text-align: right;\">\n",
       "      <th></th>\n",
       "      <th>Year</th>\n",
       "      <th>SupportType</th>\n",
       "      <th>Count</th>\n",
       "      <th>TotalCount</th>\n",
       "      <th>RatioToTotal</th>\n",
       "    </tr>\n",
       "  </thead>\n",
       "  <tbody>\n",
       "    <tr>\n",
       "      <th>0</th>\n",
       "      <td>2019</td>\n",
       "      <td>No Received Benefits</td>\n",
       "      <td>45486.916667</td>\n",
       "      <td>66177.333333</td>\n",
       "      <td>68.73%</td>\n",
       "    </tr>\n",
       "    <tr>\n",
       "      <th>1</th>\n",
       "      <td>2019</td>\n",
       "      <td>State Pension</td>\n",
       "      <td>7323.666667</td>\n",
       "      <td>66177.333333</td>\n",
       "      <td>11.07%</td>\n",
       "    </tr>\n",
       "    <tr>\n",
       "      <th>2</th>\n",
       "      <td>2019</td>\n",
       "      <td>Parental Leave Benefits</td>\n",
       "      <td>2393.750000</td>\n",
       "      <td>66177.333333</td>\n",
       "      <td>3.62%</td>\n",
       "    </tr>\n",
       "    <tr>\n",
       "      <th>3</th>\n",
       "      <td>2019</td>\n",
       "      <td>Unemployment Benefits</td>\n",
       "      <td>2181.500000</td>\n",
       "      <td>66177.333333</td>\n",
       "      <td>3.30%</td>\n",
       "    </tr>\n",
       "    <tr>\n",
       "      <th>4</th>\n",
       "      <td>2019</td>\n",
       "      <td>Social Assistance (Cash Benefits)</td>\n",
       "      <td>1704.750000</td>\n",
       "      <td>66177.333333</td>\n",
       "      <td>2.58%</td>\n",
       "    </tr>\n",
       "    <tr>\n",
       "      <th>5</th>\n",
       "      <td>2019</td>\n",
       "      <td>Disability Pension</td>\n",
       "      <td>1675.750000</td>\n",
       "      <td>66177.333333</td>\n",
       "      <td>2.53%</td>\n",
       "    </tr>\n",
       "    <tr>\n",
       "      <th>6</th>\n",
       "      <td>2019</td>\n",
       "      <td>Health / Disability Support</td>\n",
       "      <td>1216.708333</td>\n",
       "      <td>66177.333333</td>\n",
       "      <td>1.84%</td>\n",
       "    </tr>\n",
       "    <tr>\n",
       "      <th>7</th>\n",
       "      <td>2019</td>\n",
       "      <td>Activation Programs</td>\n",
       "      <td>511.500000</td>\n",
       "      <td>66177.333333</td>\n",
       "      <td>0.77%</td>\n",
       "    </tr>\n",
       "    <tr>\n",
       "      <th>8</th>\n",
       "      <td>2019</td>\n",
       "      <td>Early Retirement Pension</td>\n",
       "      <td>284.583333</td>\n",
       "      <td>66177.333333</td>\n",
       "      <td>0.43%</td>\n",
       "    </tr>\n",
       "    <tr>\n",
       "      <th>9</th>\n",
       "      <td>2014</td>\n",
       "      <td>No Received Benefits</td>\n",
       "      <td>40759.083333</td>\n",
       "      <td>61664.750000</td>\n",
       "      <td>66.10%</td>\n",
       "    </tr>\n",
       "    <tr>\n",
       "      <th>10</th>\n",
       "      <td>2014</td>\n",
       "      <td>State Pension</td>\n",
       "      <td>7033.666667</td>\n",
       "      <td>61664.750000</td>\n",
       "      <td>11.41%</td>\n",
       "    </tr>\n",
       "    <tr>\n",
       "      <th>11</th>\n",
       "      <td>2014</td>\n",
       "      <td>Social Assistance (Cash Benefits)</td>\n",
       "      <td>2834.000000</td>\n",
       "      <td>61664.750000</td>\n",
       "      <td>4.60%</td>\n",
       "    </tr>\n",
       "    <tr>\n",
       "      <th>12</th>\n",
       "      <td>2014</td>\n",
       "      <td>Unemployment Benefits</td>\n",
       "      <td>2076.500000</td>\n",
       "      <td>61664.750000</td>\n",
       "      <td>3.37%</td>\n",
       "    </tr>\n",
       "    <tr>\n",
       "      <th>13</th>\n",
       "      <td>2014</td>\n",
       "      <td>Parental Leave Benefits</td>\n",
       "      <td>2040.083333</td>\n",
       "      <td>61664.750000</td>\n",
       "      <td>3.31%</td>\n",
       "    </tr>\n",
       "    <tr>\n",
       "      <th>14</th>\n",
       "      <td>2014</td>\n",
       "      <td>Disability Pension</td>\n",
       "      <td>1447.000000</td>\n",
       "      <td>61664.750000</td>\n",
       "      <td>2.35%</td>\n",
       "    </tr>\n",
       "    <tr>\n",
       "      <th>15</th>\n",
       "      <td>2014</td>\n",
       "      <td>Health / Disability Support</td>\n",
       "      <td>1067.166667</td>\n",
       "      <td>61664.750000</td>\n",
       "      <td>1.73%</td>\n",
       "    </tr>\n",
       "    <tr>\n",
       "      <th>16</th>\n",
       "      <td>2014</td>\n",
       "      <td>Activation Programs</td>\n",
       "      <td>702.416667</td>\n",
       "      <td>61664.750000</td>\n",
       "      <td>1.14%</td>\n",
       "    </tr>\n",
       "    <tr>\n",
       "      <th>17</th>\n",
       "      <td>2014</td>\n",
       "      <td>Early Retirement Pension</td>\n",
       "      <td>561.166667</td>\n",
       "      <td>61664.750000</td>\n",
       "      <td>0.91%</td>\n",
       "    </tr>\n",
       "    <tr>\n",
       "      <th>18</th>\n",
       "      <td>2009</td>\n",
       "      <td>No Received Benefits</td>\n",
       "      <td>36308.000000</td>\n",
       "      <td>56572.750000</td>\n",
       "      <td>64.18%</td>\n",
       "    </tr>\n",
       "    <tr>\n",
       "      <th>19</th>\n",
       "      <td>2009</td>\n",
       "      <td>State Pension</td>\n",
       "      <td>6484.666667</td>\n",
       "      <td>56572.750000</td>\n",
       "      <td>11.46%</td>\n",
       "    </tr>\n",
       "    <tr>\n",
       "      <th>20</th>\n",
       "      <td>2009</td>\n",
       "      <td>Social Assistance (Cash Benefits)</td>\n",
       "      <td>2014.250000</td>\n",
       "      <td>56572.750000</td>\n",
       "      <td>3.56%</td>\n",
       "    </tr>\n",
       "    <tr>\n",
       "      <th>21</th>\n",
       "      <td>2009</td>\n",
       "      <td>Parental Leave Benefits</td>\n",
       "      <td>1907.250000</td>\n",
       "      <td>56572.750000</td>\n",
       "      <td>3.37%</td>\n",
       "    </tr>\n",
       "    <tr>\n",
       "      <th>22</th>\n",
       "      <td>2009</td>\n",
       "      <td>Unemployment Benefits</td>\n",
       "      <td>1778.708333</td>\n",
       "      <td>56572.750000</td>\n",
       "      <td>3.14%</td>\n",
       "    </tr>\n",
       "    <tr>\n",
       "      <th>23</th>\n",
       "      <td>2009</td>\n",
       "      <td>Disability Pension</td>\n",
       "      <td>1736.166667</td>\n",
       "      <td>56572.750000</td>\n",
       "      <td>3.07%</td>\n",
       "    </tr>\n",
       "    <tr>\n",
       "      <th>24</th>\n",
       "      <td>2009</td>\n",
       "      <td>Health / Disability Support</td>\n",
       "      <td>1273.416667</td>\n",
       "      <td>56572.750000</td>\n",
       "      <td>2.25%</td>\n",
       "    </tr>\n",
       "    <tr>\n",
       "      <th>25</th>\n",
       "      <td>2009</td>\n",
       "      <td>Activation Programs</td>\n",
       "      <td>1219.750000</td>\n",
       "      <td>56572.750000</td>\n",
       "      <td>2.16%</td>\n",
       "    </tr>\n",
       "    <tr>\n",
       "      <th>26</th>\n",
       "      <td>2009</td>\n",
       "      <td>Early Retirement Pension</td>\n",
       "      <td>798.416667</td>\n",
       "      <td>56572.750000</td>\n",
       "      <td>1.41%</td>\n",
       "    </tr>\n",
       "  </tbody>\n",
       "</table>\n",
       "    <style>\n",
       "        .output_html {\n",
       "            max-height: 300px;\n",
       "            overflow-y: scroll;\n",
       "            display: block;\n",
       "        }\n",
       "    </style>\n",
       "    "
      ],
      "text/plain": [
       "<IPython.core.display.HTML object>"
      ]
     },
     "execution_count": 27,
     "metadata": {},
     "output_type": "execute_result"
    }
   ],
   "source": [
    "def render_scrollable_table(df, height=300):\n",
    "    return HTML(df.to_html(classes='table table-striped', border=0, max_rows=1000, escape=False) + f\"\"\"\n",
    "    <style>\n",
    "        .output_html {{\n",
    "            max-height: {height}px;\n",
    "            overflow-y: scroll;\n",
    "            display: block;\n",
    "        }}\n",
    "    </style>\n",
    "    \"\"\")\n",
    "\n",
    "render_scrollable_table(df_ratios[['Year', 'SupportType', 'Count', 'TotalCount', 'RatioToTotal']], height=300)\n"
   ]
  },
  {
   "cell_type": "markdown",
   "id": "b05492eb",
   "metadata": {},
   "source": [
    "The table displays both the number of recipients and the percentage of the population receiving each type of income support in 2009, 2014, and 2019. There are nine different types of income support listed, and the total population for each year is shown in the `TotalCount` row. As previously seen in the population pyramid, this total has increased from 2009 to 2019.\n",
    "\n",
    "The category `No Received Benefits` have ranged between 64% and 68% from 2009 to 2019, indicating that the majority of Copenhagen's population does not rely on income support.\n",
    "\n",
    "Among the types of support, `State Pension` stands out as the most common, remaining steady at around 11% over the years. \n",
    "\n",
    "Overall, there appears to be little change in the distribution of support types over the years, suggesting that the proportion of the population receiving income support has remained stable over the last decade.."
   ]
  },
  {
   "cell_type": "markdown",
   "id": "c5f0d7ae",
   "metadata": {},
   "source": [
    "**Income per household**\n",
    "\n",
    "Now, we look at the income per household in Copenhagen. We examine how the average income has changed over the years. "
   ]
  },
  {
   "cell_type": "code",
   "execution_count": 28,
   "id": "debd5f74",
   "metadata": {},
   "outputs": [],
   "source": [
    "df_income_filtered = df_income_long[df_income_long['IncomeMetric'].isin(income_brackets)].copy()\n",
    "\n",
    "# Apply income order\n",
    "df_income_filtered['IncomeMetric'] = pd.Categorical(df_income_filtered['IncomeMetric'], categories=income_brackets, ordered=True)\n",
    "\n",
    "# Aggregate by Year and Income Bracket\n",
    "df_income_grouped = df_income_filtered.groupby(['Year', 'IncomeMetric'], observed=True)['Value'].sum().reset_index()\n",
    "\n",
    "# Normalize counts to percentages per year\n",
    "df_income_grouped['Percentage'] = df_income_grouped.groupby('Year')['Value'].transform(lambda x: 100 * x / x.sum())\n"
   ]
  },
  {
   "cell_type": "code",
   "execution_count": 29,
   "id": "4f6314ab",
   "metadata": {},
   "outputs": [
    {
     "data": {
      "text/html": [
       "<iframe\n",
       "    scrolling=\"no\"\n",
       "    width=\"100%\"\n",
       "    height=\"545px\"\n",
       "    src=\"iframe_figures/figure_29.html\"\n",
       "    frameborder=\"0\"\n",
       "    allowfullscreen\n",
       "></iframe>\n"
      ]
     },
     "metadata": {},
     "output_type": "display_data"
    }
   ],
   "source": [
    "plot_grouped_percentage_bar(\n",
    "    df=df_income_grouped,\n",
    "    x_col='Year',\n",
    "    y_col='Percentage',\n",
    "    group_col='IncomeMetric',\n",
    "    color_sequence=expanded_theme_colors[1:],\n",
    "    category_order=income_brackets,\n",
    "    title='Income Per Household Over Time (2009–2019)', \n",
    "    html='html_plots/income_dist_over_time.html',\n",
    ")"
   ]
  },
  {
   "cell_type": "markdown",
   "id": "793f8828",
   "metadata": {},
   "source": [
    "It is interesting to see how average household income in Copenhagen has risen significantly over the past decade. In 2009, only 12.5% of households had an annual income of 750,000 DKK or more. By 2019, that figure had more than doubled to 27.8%, making it the largest income group — with a notable 8.6 percentage point lead over the second-highest group (500,000-749,999 DKK). At the same time, the share of households earning less than 149,999 DKK has dropped to just 6.6%, where in 2009 it was 19.5% reflecting a clear shift toward a more affluent urban population.\n",
    "\n",
    "This transformation is especially noteworthy when viewed alongside demographic trends — including the growing share of young adults in the city. \n",
    "\n",
    "The broader socioeconomic shift is further reflected in long-term changes among families. In the 1990s, one in three children in Copenhagen came from working-class households. That share has now been cut in half, while the proportion of children from upper-class and upper-middle-class families has tripled. As one report puts it, “Copenhagen is becoming less of a city that all families can afford to live in — and more of a city for the well-off” [8]. "
   ]
  },
  {
   "cell_type": "markdown",
   "id": "48b00eb6",
   "metadata": {},
   "source": [
    "<a id=\"3\"></a>\n",
    "## 3.  Data Analysis\n"
   ]
  },
  {
   "cell_type": "markdown",
   "id": "d3c07411",
   "metadata": {},
   "source": [
    "### 3.1 Voting Trends in Copenhagen\n",
    " \n",
    "> 🎵 *Election votes in each constituency*  \n",
    "> 🎵 *Six elections, twenty years*  \n",
    "> 🎵 *To track the shifts, the rise, the fears*\n",
    "\n",
    "The first step in our analysis is to explore the election data. We will investigate how voting patterns and trends in Copenhagen have changed over the past two decades. In the **Basic Statistics** section, we examined voter turnout in each election year and the share of votes for the political wings (left and right). This provided a useful overview of voting behavior in Copenhagen, revealing that turnout has remained relatively stable over the years, with noticeable increases in 2007 and 2011, generally hovering around 84%.\n",
    "\n",
    "Regarding wing shares, we observed that the left wing has consistently dominated elections in Copenhagen, with a slight upward trend over the years. However, the 2022 election marked a decline in the left-wing share, reflecting a shift in voter preference and the rise of the centrist party i.e. *Moderaterne*.\n",
    "\n",
    "In this section, we take a closer look at how voting behavior in Copenhagen has evolved across different constituencies over time."
   ]
  },
  {
   "cell_type": "markdown",
   "id": "60c09553",
   "metadata": {},
   "source": [
    "#### 3.1.1 Voter turnout across constituencies\n",
    "\n",
    "First, we take a closer look at voter turnout - this time broken down by constituency. We will analyze how turnout has changed over the years within each constituency to determine whether there are significant differences in voting behavior across the various areas of Copenhagen."
   ]
  },
  {
   "cell_type": "code",
   "execution_count": 30,
   "id": "2c5aaa67",
   "metadata": {},
   "outputs": [],
   "source": [
    "# Total number of people who actually voted, per year and constituency\n",
    "df_voter_turnout_const = df_elec_cph_long.query(\"Partyname == 'Afgivnestemmer'\").groupby(['Year', 'KredsNr']).agg(TotalVotesCast=('Votes', 'sum')).reset_index()\n",
    "\n",
    "# Total number of people who were eligible to vote, per year and constituency\n",
    "df_voter_eligibility_const = df_elec_cph_long.query(\"Partyname == 'Stemmeberettigede'\").groupby(['Year', 'KredsNr']).agg(TotalEligibleVoters=('Votes', 'sum')).reset_index()\n",
    "\n",
    "# Voter turnout ratio = votes cast / eligible voters\n",
    "df_turnout_ratio_const = pd.DataFrame(df_voter_turnout_const[['Year', 'KredsNr']].copy())\n",
    "df_turnout_ratio_const['Ratio'] = df_voter_turnout_const['TotalVotesCast'] / df_voter_eligibility_const['TotalEligibleVoters']\n",
    "\n",
    "# Add the overall turnout ratio of Copenhagen\n",
    "df_turnout_ratio['KredsNr'] = 0 \n",
    "df_turnout_ratio_const = pd.concat([df_turnout_ratio_const, df_turnout_ratio], ignore_index=True)"
   ]
  },
  {
   "cell_type": "code",
   "execution_count": 31,
   "id": "965accf4",
   "metadata": {},
   "outputs": [
    {
     "data": {
      "text/html": [
       "<iframe\n",
       "    scrolling=\"no\"\n",
       "    width=\"100%\"\n",
       "    height=\"545px\"\n",
       "    src=\"iframe_figures/figure_31.html\"\n",
       "    frameborder=\"0\"\n",
       "    allowfullscreen\n",
       "></iframe>\n"
      ]
     },
     "metadata": {},
     "output_type": "display_data"
    }
   ],
   "source": [
    "plot_bar_dist_per_const_multi(\n",
    "    years=df_turnout_ratio_const['Year'].values,\n",
    "    kreds_ids=df_turnout_ratio_const['KredsNr'].values,\n",
    "    values=df_turnout_ratio_const['Ratio'].values,\n",
    "    const_colors=const_colors,\n",
    "    html=\"html_plots/vote_turnout_const.html\",\n",
    "    constituency_id_to_name=constituency_id_to_name,\n",
    "    show_percentage=True,\n",
    "    title=\"Voter Turnout in Copenhagen Constituencies (2005–2022)\", \n",
    "    y_axis_title=\"Voter Turnout (%)\"\n",
    ")"
   ]
  },
  {
   "cell_type": "markdown",
   "id": "0bf45751",
   "metadata": {},
   "source": [
    "The figure above shows voter turnout in each constituency for election years over the past two decades. We observe that the *Bispebjerg* constituency consistently has the lowest turnout across all elections, while *Falkoner* consistently has the highest. These findings become particularly interesting when we later examine population data to identify potential patterns that might explain the differences in voting behavior across constituencies.\n",
    "\n",
    "When comparing constituency-level turnout to the overall average turnout in Copenhagen, we find that *Bispebjerg*, *Valby*, *Sundbyvest*, *Sundbyøster*, and *Brønshøj* all fall below the Copenhagen average over the election years. This suggests that these areas exhibit lower voter engagement compared to the rest of Copenhagen.\n"
   ]
  },
  {
   "cell_type": "markdown",
   "id": "da3f32f8",
   "metadata": {},
   "source": [
    "#### 3.1.2 Wing share across constituencies\n",
    "\n",
    "> 🎵 *In Copenhagen’s twelve domains* \\\n",
    "> 🎵 *Did left-wing rise? Did right-wing wane?*\n",
    "\n",
    "Next, we examine the share of votes for left- and right-wing parties in each constituency. This analysis helps us understand how the political landscape within Copenhagen has evolved over the years and whether certain areas have shifted in their political alignment."
   ]
  },
  {
   "cell_type": "code",
   "execution_count": 32,
   "id": "01c85262",
   "metadata": {},
   "outputs": [],
   "source": [
    "# Get total voters per year and constituency\n",
    "df_total_voters_const = df_elec_cph_parties.groupby(['Year', 'KredsNr'])['Votes'].sum().reset_index()\n",
    "df_total_voters_const = df_total_voters_const.rename(columns={'Votes': 'TotalVotes'})\n",
    "\n",
    "# Get vote sum per wing per year per constituency\n",
    "df_wing_sum_const = df_elec_cph_parties.groupby(['Year', 'Wing', 'KredsNr'])['Votes'].sum().reset_index()\n",
    "\n",
    "# Merge and compute wing ratio\n",
    "df_wing_const_ratio = pd.merge(df_wing_sum_const, df_total_voters_const, on=['Year', 'KredsNr'])\n",
    "df_wing_const_ratio['WingRatio'] = df_wing_const_ratio['Votes'] / df_wing_const_ratio['TotalVotes']"
   ]
  },
  {
   "cell_type": "code",
   "execution_count": 33,
   "id": "3f01cc93",
   "metadata": {},
   "outputs": [
    {
     "data": {
      "text/html": [
       "<iframe\n",
       "    scrolling=\"no\"\n",
       "    width=\"100%\"\n",
       "    height=\"545px\"\n",
       "    src=\"iframe_figures/figure_33.html\"\n",
       "    frameborder=\"0\"\n",
       "    allowfullscreen\n",
       "></iframe>\n"
      ]
     },
     "metadata": {},
     "output_type": "display_data"
    }
   ],
   "source": [
    "plot_stacked_bar_dist_per_const(\n",
    "    years=df_wing_const_ratio['Year'].values,\n",
    "    kreds_ids=df_wing_const_ratio['KredsNr'].values,\n",
    "    counts=df_wing_const_ratio['Wing'].values, \n",
    "    legend='Wing',            \n",
    "    values=df_wing_const_ratio['WingRatio'].values,\n",
    "    html=\"html_plots/wing_share_votes_const.html\",\n",
    "    color_map=wing_colors,       \n",
    "    const_order = const_order, \n",
    "    constituency_id_to_name=constituency_id_to_name,\n",
    "    show_percentage=True,\n",
    "    title=\"Wing Share across Constituency (2005-2022)\",\n",
    "    y_title=\"Wing Share (%)\"\n",
    ")\n"
   ]
  },
  {
   "cell_type": "markdown",
   "id": "cb691af4",
   "metadata": {},
   "source": [
    "The figure above shows the share of votes for left- and right-wing parties in each constituency across the election years of the past two decades.\n",
    "\n",
    "As previously noted, left-wing parties have historically dominated elections in Copenhagen, however, there are differences within the constituencies. Some constituencies are traditionally more right-wing oriented, particularly *Tårnby*, *Falkoner*, and *Slotskredsen*, and some traditonally very left wing oriented such as *Nørrebro*, *Bispebjerg* and *Vesterbro*. \n",
    "\n",
    "When looking at the trends over time, we however see that no matter the initial political position for the constituencies, we see a general gradual increase towards more left-wing votes over time. Meaning that the tradional left-wing constituencies have becomed more firm in the red polical beliefs, whereas the more tradtional right winged constituencies today show a more even split between left and right. \n",
    "\n",
    "An example of this is the constituency *Tårnby* first shifting to a left-wing majority in 2019 and 2022."
   ]
  },
  {
   "cell_type": "markdown",
   "id": "489848db",
   "metadata": {},
   "source": [
    "> 🎵 *We map the changes, district-wide* \\\n",
    "> 🎵 *To see where loyalties reside*\n",
    "\n",
    "Let us now visualize the political share from a spatial perspective. We will create a map of Copenhagen to illustrate the distribution of left- and right-wing support across constituencies for each election year over the past two decades.\n",
    "\n",
    "Each constituency will be color-coded based on the share of left-wing support, using a gradient that blends the traditional colors of the two blocs. A perfectly balanced split (50% left-wing, 50% right-wing) will appear as purple. If constituencies have full right-wing support they will be shown in pure blue, while those with full left-wing support will appear in pure red."
   ]
  },
  {
   "cell_type": "code",
   "execution_count": 34,
   "id": "0c5f4ca9",
   "metadata": {},
   "outputs": [],
   "source": [
    "df_wing_const_ratio['Votes (%)'] = df_wing_const_ratio['WingRatio'] * 100\n",
    "\n",
    "df_pivot_wing_freq = df_wing_const_ratio.pivot_table(\n",
    "    index=[\"Year\", \"KredsNr\"],\n",
    "    columns=\"Wing\",\n",
    "    values=\"Votes (%)\",\n",
    "    fill_value=0\n",
    ").reset_index()\n",
    "\n",
    "df_pivot_wing_freq[\"pct_left\"] = df_pivot_wing_freq[\"Left\"] / (df_pivot_wing_freq[\"Right\"] + df_pivot_wing_freq[\"Left\"])\n",
    "df_pivot_wing_freq[\"pct_right\"] = df_pivot_wing_freq[\"Right\"] / (df_pivot_wing_freq[\"Right\"] + df_pivot_wing_freq[\"Left\"])"
   ]
  },
  {
   "cell_type": "code",
   "execution_count": null,
   "id": "f0b3fdd0",
   "metadata": {},
   "outputs": [],
   "source": [
    "geojson_folder = \"Data/CopenhagenGeoData\"\n",
    "\n",
    "wing_cm = cm.LinearColormap(\n",
    "            colors=['#00739b','purple', '#d52729'],\n",
    "            vmin=0, vmax=1,\n",
    "            caption='Political orientation: Right-wing (blue) to Left-wing (red)',)\n",
    "\n",
    "cph_map = folium.Map(location=[55.6461, 12.5683], zoom_start=11.48, tiles=None, width='900px',height='600px')\n",
    "folium.TileLayer(\"cartodbpositron\", name=None, control=False).add_to(cph_map)\n",
    "\n",
    "for year in sorted(df_pivot_wing_freq[\"Year\"].unique()):\n",
    "    fg = folium.map.FeatureGroup(name=str(year), overlay=False, show=(year == sorted(df_pivot_wing_freq[\"Year\"].unique())[0]))\n",
    "\n",
    "\n",
    "    df_year = df_pivot_wing_freq[df_pivot_wing_freq[\"Year\"] == year]\n",
    "    \n",
    "    for _, row in df_year.iterrows():\n",
    "        kreds_nr   = row[\"KredsNr\"]\n",
    "        kreds_name = constituency_id_to_name.get(kreds_nr)\n",
    "\n",
    "        pct_right  = row[\"pct_right\"]\n",
    "        pct_left   = row[\"pct_left\"]\n",
    "        fill_color = wing_cm(pct_left)    \n",
    "\n",
    "        geojson_path = os.path.join(geojson_folder, f\"{kreds_name}.json\")\n",
    "        with open(geojson_path, encoding=\"utf-8\") as f:\n",
    "            geojson = json.load(f)\n",
    "\n",
    "        tooltip_html = f\"\"\"\n",
    "            <div style='background:white;color:black;padding:6px 8px;border-radius:0;text-align:center;'>\n",
    "            <b>{kreds_name}</b><br>{round(pct_left*100)} % left\n",
    "            </div>\n",
    "            \"\"\"\n",
    "        # build the feature\n",
    "        gj = folium.GeoJson(\n",
    "            data=geojson,\n",
    "            name=f\"{kreds_name}_{year}\",\n",
    "            style_function=lambda _, c=fill_color: {\n",
    "                \"fillColor\": c,\n",
    "                \"color\": \"black\",\n",
    "                \"weight\": 1,\n",
    "                \"fillOpacity\": 1,\n",
    "            },\n",
    "            tooltip = folium.Tooltip(tooltip_html, sticky=True, parse_html=True)\n",
    "        )\n",
    "        gj.add_to(fg)\n",
    "        \n",
    "    fg.add_to(cph_map)\n",
    "\n",
    "folium.LayerControl(collapsed=False).add_to(cph_map)\n",
    "\n",
    "\n",
    "class Legend(MacroElement):\n",
    "    def __init__(self, colormap, top='20px', left='15px'):\n",
    "        super().__init__()\n",
    "        self._name = 'Legend'\n",
    "        self.colormap = colormap         \n",
    "        self.top = top\n",
    "        self.left = left\n",
    "        self._template = Template(u\"\"\"\n",
    "        {% macro html(this, kwargs) %}\n",
    "        <div style=\"position: fixed;\n",
    "                    top: {{ this.top }};\n",
    "                    left: {{ this.left }};\n",
    "                    z-index:9999;\n",
    "                    background: none;\">\n",
    "            {{ this.colormap._repr_html_() | safe }}\n",
    "        </div>\n",
    "        {% endmacro %}\n",
    "        \"\"\")\n",
    "\n",
    "cph_map.add_child(Legend(wing_cm, top='10px', left='270px'))\n",
    "cph_map.save(\"html_plots/map_wing_share.html\")"
   ]
  },
  {
   "cell_type": "code",
   "execution_count": 36,
   "id": "40c2c545",
   "metadata": {},
   "outputs": [
    {
     "data": {
      "text/html": [
       "\n",
       "        <iframe\n",
       "            width=\"100%\"\n",
       "            height=\"600\"\n",
       "            src=\"html_plots/map_wing_share.html\"\n",
       "            frameborder=\"0\"\n",
       "            allowfullscreen\n",
       "            \n",
       "        ></iframe>\n",
       "        "
      ],
      "text/plain": [
       "<IPython.lib.display.IFrame at 0x11e089210>"
      ]
     },
     "execution_count": 36,
     "metadata": {},
     "output_type": "execute_result"
    }
   ],
   "source": [
    "IFrame(src=\"html_plots/map_wing_share.html\", width='100%', height=600)\n"
   ]
  },
  {
   "cell_type": "markdown",
   "id": "95f8aeb7",
   "metadata": {},
   "source": [
    "This map provides a clear visual representation of the political landscape in Copenhagen, allowing us to observe how support for left- and right-wing blocs have changed over the years.\n",
    "\n",
    "One key observation is how the *Tårnby* constituency has become more balanced over time. In 2005 and 2007, it displayed a darker purple color, indicating a more right-wing support (44% in 2005). In more recent years, however, the purple has shifted slightly toward red, suggesting a modest increase in left-wing support — although *Tårnby* still remains more balanced (52% in 2022) than most other constituencies.\n",
    "\n",
    "Overall, the map clearly shows which constituencies are predominantly left- or right-wing and how these dynamics have evolved. Constituencies like Falkoner and Slotskredsen appear more purple than others, reflecting a more even distribution between left- and right-wing parties. In contrast, Nørrebro and Bispebjerg are noticeably more red, indicating a strong left-wing dominance.\n",
    "\n",
    "When browsing through the election years, a broader trend becomes apparent: Copenhagen as a whole has shifted toward greater left-wing support over time. However, the 2022 election marks a slight reversal, with generally all constituencies appearing more purple compared to previous years, signaling a relative decline in left-wing dominance and hightlight the trend for the 2022 election that was characterized by the rise of centrist parties.\n",
    "\n",
    "TODO: Not only centrist parties, with overall theme for election that everyone stands together. SOURCE: insert"
   ]
  },
  {
   "cell_type": "markdown",
   "id": "165048b4",
   "metadata": {},
   "source": [
    "#### 3.1.3 Party support across constituencies\n",
    "\n",
    "> 🎵 *With parties shifting left and right* \\\n",
    "> 🎵 *Do neighborhoods still match the hype?*\n",
    "\n",
    "Now we take a closer look at the support for individual parties in each constituency. This will help us understand how support for different parties has changed over time in Copenhagen\n",
    "\n",
    "TODO: Jasmin omformuler\n",
    "\n",
    ", and whether shifts within the parties themselves have influenced their popularity across constituencies."
   ]
  },
  {
   "cell_type": "code",
   "execution_count": 37,
   "id": "614fea38",
   "metadata": {},
   "outputs": [],
   "source": [
    "# Drop the rows where the parties get 0 votes (meaning they are not in the election)\n",
    "df_elec_cph_parties = df_elec_cph_parties.drop(df_elec_cph_parties[df_elec_cph_parties['Votes'] == 0].index)\n",
    "\n",
    "# Total votes by Year & Party\n",
    "df_party_votes = (df_elec_cph_parties.groupby(['Year','Partyname'], as_index=False)['Votes'].sum())\n",
    "\n",
    "# Total votes per Year (for share calculation)\n",
    "df_year_total = (df_party_votes.groupby('Year', as_index=False)['Votes'].sum().rename(columns={'Votes':'YearTotal'}))\n",
    "\n",
    "# Calculate share\n",
    "df_party_votes = df_party_votes.merge(df_year_total, on='Year')\n",
    "df_party_votes['VoteShare'] = df_party_votes['Votes'] / df_party_votes['YearTotal']"
   ]
  },
  {
   "cell_type": "code",
   "execution_count": 38,
   "id": "8c71a6ff",
   "metadata": {},
   "outputs": [
    {
     "data": {
      "text/html": [
       "<iframe\n",
       "    scrolling=\"no\"\n",
       "    width=\"100%\"\n",
       "    height=\"545px\"\n",
       "    src=\"iframe_figures/figure_38.html\"\n",
       "    frameborder=\"0\"\n",
       "    allowfullscreen\n",
       "></iframe>\n"
      ]
     },
     "metadata": {},
     "output_type": "display_data"
    }
   ],
   "source": [
    "fig = px.line(df_party_votes,\n",
    "    x='Year',\n",
    "    y='VoteShare',\n",
    "    color='Partyname',\n",
    "    markers=True,\n",
    "    title='Vote Share per Party Over Time (2005-2022)',\n",
    "    labels={'VoteShare':'Vote Share (%)','Year':'Election Year'}, \n",
    "    color_discrete_map=party_colors)\n",
    "\n",
    "years = sorted(df_party_votes['Year'].unique())\n",
    "\n",
    "fig.update_xaxes(\n",
    "    tickmode='array',\n",
    "    tickvals=years,\n",
    "    ticktext=[str(y) for y in years])\n",
    "\n",
    "fig.update_layout(\n",
    "    title=dict(\n",
    "        text='Vote Share by Party Over Time (2005-2022)',\n",
    "        x=0.5, \n",
    "        font=dict(\n",
    "            family=\"Arial\",  \n",
    "            size=20,         \n",
    "            color=\"black\")),\n",
    "    font=dict(\n",
    "        family=\"Arial\",\n",
    "        size=12, \n",
    "        color=\"black\"),\n",
    "    yaxis_tickformat='.0%',\n",
    "    hovermode='x unified', \n",
    "    legend_title_text='Party',\n",
    "    legend=dict(\n",
    "            title_font_family=\"Arial\",\n",
    "            font=dict(size=12),\n",
    "            orientation=\"v\",  \n",
    "            traceorder=\"normal\"))\n",
    "\n",
    "fig.update_traces(\n",
    "    hovertemplate='%{fullData.name}: %{y:.1%}<extra></extra>')\n",
    "\n",
    "fig.write_html(\"html_plots/vote_share_per_party.html\")\n",
    "fig.show()"
   ]
  },
  {
   "cell_type": "markdown",
   "id": "5d3e0668",
   "metadata": {},
   "source": [
    "This figure shows the share of votes for each party across the election years over the past two decades: \n",
    "\n",
    "- We observe that the *Socialdemokratiet* party has consistently received the highest share of votes across all years. However, in 2019, they only received slightly more votes than *Enhedslisten*, which is perhaps not surprising, as the 2019 election was dominated by green transition issues.\n",
    "\n",
    "- It is particularly interesting to see how *Enhedslisten* has developed over the years, becoming one of the most popular parties in Copenhagen. In 2005, they received only 8.8% of the votes, but by 2019, they had doubled their share (TODO JASMIN number).\n",
    "\n",
    "- *Radikale Venstre* also shows an interesting pattern, with varying trends across the elections. In some years, such as 2005, 2011, and 2019, they were very popular and secured a significant share of the votes. It seems evident that their popularity peaks roughly every second election.\n",
    "\n",
    "- For the right-wing parties, *Venstre* stands out as the most popular. Their vote share ranged between 17.1% and 8.4% over the years. The further drop in 2022 can likely be explained by the emergence of the new party *Moderaterne*, founded in 2021 by former Venstre chairman Lars Løkke Rasmussen.\n",
    "\n",
    "- Finally, we notice the significant decline of *Dansk Folkeparti*. In 2005, they received 11.1% of the votes, peaking at 11.5% in 2015, but by 2022, they only secured 1.6%. This dramatic fall highlights their declining popularity, possibly influenced by the rise of new right-wing extremist parties or the shifting of *Socialdemokratiet* toward the right regarding the immigration policy. "
   ]
  },
  {
   "cell_type": "markdown",
   "id": "27a55740",
   "metadata": {},
   "source": [
    "Now, we will take a closer look at the support for individual parties in each constituency. This will help us better understand how party support has changed over the years across Copenhagen.\n",
    "\n",
    "For simplicity, we will focus only on the top parties; These are defined as the five parties that received the most votes in each constituency in each election year. By doing so, we can concentrate on the most relevant parties and their support trends. This approach means that for each constituency and each election year, we select the top five parties. The set of all these parties are used for the analysis."
   ]
  },
  {
   "cell_type": "code",
   "execution_count": 39,
   "id": "4b4aef7a",
   "metadata": {},
   "outputs": [
    {
     "name": "stdout",
     "output_type": "stream",
     "text": [
      "The top parties: \n",
      " ['A.Socialdemokratiet' 'B.DetRadikaleVenstre'\n",
      " 'C.DetKonservativeFolkeparti' 'F.SF-SocialistiskFolkeparti'\n",
      " 'O.DanskFolkeparti' 'V.Venstre,DanmarksLiberaleParti'\n",
      " 'Ø.Enhedslisten-DeRød-Grønne' 'I.LiberalAlliance' 'Å.Alternativet'\n",
      " 'M.Moderaterne']\n"
     ]
    }
   ],
   "source": [
    "# Calculate vote percentages per party, per year, per district\n",
    "df_party_freq = (\n",
    "    df_elec_cph_parties.groupby(['Year', 'Partyname', 'KredsNr'])['Votes'].sum()\n",
    "    / df_elec_cph_parties.groupby(['Year', 'KredsNr'])['Votes'].sum()\n",
    "    * 100\n",
    ").reset_index().rename(columns={'Votes': 'Votes (%)'}).round(2)\n",
    "\n",
    "# Filter top 5 parties per district per year\n",
    "top_parties_per_district_year = (\n",
    "    df_party_freq\n",
    "    .sort_values(['Year', 'KredsNr', 'Votes (%)'], ascending=[True, True, False])\n",
    "    .groupby(['Year', 'KredsNr'])\n",
    "    .head(5))\n",
    "\n",
    "df_top5_party_freq = df_party_freq[df_party_freq['Partyname'].isin(top_parties_per_district_year['Partyname'])].reset_index(drop=True)\n",
    "\n",
    "print(f\"The top parties: \\n {df_top5_party_freq['Partyname'].unique()}\")\n"
   ]
  },
  {
   "cell_type": "code",
   "execution_count": 40,
   "id": "c9c996d0",
   "metadata": {},
   "outputs": [
    {
     "data": {
      "text/html": [
       "<iframe\n",
       "    scrolling=\"no\"\n",
       "    width=\"100%\"\n",
       "    height=\"545px\"\n",
       "    src=\"iframe_figures/figure_40.html\"\n",
       "    frameborder=\"0\"\n",
       "    allowfullscreen\n",
       "></iframe>\n"
      ]
     },
     "metadata": {},
     "output_type": "display_data"
    }
   ],
   "source": [
    "df_top5_party_freq['Year'] = df_top5_party_freq['Year'].astype(str)\n",
    "\n",
    "const_names = const_order\n",
    "const_idxs = [constituency_name_to_id[name] for name in const_names]\n",
    "\n",
    "parties_sorted = (\n",
    "    df_top5_party_freq[df_top5_party_freq['Votes (%)'] > 0] \n",
    "    .groupby('Partyname')['Year'].min()                   \n",
    "    .astype(int)                                            \n",
    "    .sort_values())\n",
    "parties = parties_sorted.index.tolist()\n",
    "\n",
    "fig = go.Figure()\n",
    "\n",
    "n_parties = len(parties)\n",
    "n_traces_per_const = n_parties         \n",
    "\n",
    "for c_idx, (num, cname) in enumerate(zip(const_idxs, const_names)):\n",
    "    sub = df_top5_party_freq[df_top5_party_freq['KredsNr'] == num]\n",
    "\n",
    "    for party in parties:\n",
    "        tmp = (\n",
    "            sub[sub['Partyname'] == party]\n",
    "            .pivot(index='Year', columns='Partyname', values='Votes (%)')\n",
    "            .fillna(0)\n",
    "            .reset_index()\n",
    "        )\n",
    "\n",
    "        fig.add_trace(\n",
    "            go.Bar(\n",
    "                x=tmp['Year'],\n",
    "                y=tmp[party],\n",
    "                name=party,                     \n",
    "                marker_color=party_colors.get(party, \"#333333\"),\n",
    "                visible=(c_idx == 0),        \n",
    "                offsetgroup=party,\n",
    "                legendgroup=party,\n",
    "                text=tmp[party].round(1),                \n",
    "                textposition=\"inside\",                     \n",
    "                textfont=dict(color=\"white\", size=12),     \n",
    "                hovertemplate=(\n",
    "                    f\"<b>{cname}</b><br>\"\n",
    "                    \"Year: %{x}<br>\"\n",
    "                    f\"Party: {party}<br>\"\n",
    "                    \"Vote share: %{y:.1f}%<extra></extra>\"\n",
    "                )\n",
    "            )\n",
    "        )\n",
    "\n",
    "# ---------- dropdown buttons ---------- # \n",
    "buttons = []\n",
    "for c_idx, cname in enumerate(const_names):\n",
    "    vis = (\n",
    "        [False]*n_traces_per_const*c_idx +\n",
    "        [True]*n_traces_per_const +\n",
    "        [False]*n_traces_per_const*(len(const_names)-c_idx-1)\n",
    "    )\n",
    "    buttons.append(\n",
    "        dict(\n",
    "            label=cname,\n",
    "            method=\"update\",\n",
    "            args=[{\"visible\": vis},\n",
    "                {\"title.text\": f\"Party Vote Shares Across Elections in {cname}\"}])\n",
    "    )\n",
    "\n",
    "fig.update_layout(\n",
    "    title=dict(\n",
    "        text=f\"Party Vote Shares Across Elections in {const_names[0]}\",\n",
    "        x=0.5,               \n",
    "        xanchor=\"center\"      \n",
    "    ),\n",
    "    xaxis_title=\"Election Year\",\n",
    "    yaxis_title=\"Vote Share (%)\",\n",
    "    barmode=\"group\",\n",
    "    bargap=0.15,\n",
    "    bargroupgap=0.04,\n",
    "    font=dict(family=\"Arial\"),\n",
    "    updatemenus=[dict(\n",
    "        buttons=buttons,\n",
    "        direction=\"down\",\n",
    "        x=1.02, xanchor=\"left\",\n",
    "        y=1.2, yanchor=\"top\",\n",
    "        showactive=True\n",
    "    )],\n",
    "    legend=dict(title=\"Party\", font_size=12))\n",
    "\n",
    "fig.update_layout(\n",
    "    margin=dict(l=40, r=20, t=50, b=40))\n",
    "\n",
    "fig.write_html(\"html_plots/party_vote_share_const_dropdown.html\")\n",
    "fig.show()\n"
   ]
  },
  {
   "cell_type": "markdown",
   "id": "27870265",
   "metadata": {},
   "source": [
    "This figure allows us to explore the support for individual parties in each constituency over the past two decades.\n",
    "\n",
    "- First, we observe that there are a total of 10 different parties that have appeared among the top five most popular parties across the constituencies. For example, *Moderaterne* and *Liberal Alliance* are only present in the most recent election, as they are relatively new parties.\n",
    "\n",
    "- In the *Østerbro* constituency, we see that while *Socialdemokratiet* has generally been among the most popular parties, it has not always been the winning party. In both 2011 and 2019, *Radikale Venstre* received the most votes. A similar pattern is observed in *Indre By*, where *Radikale Venstre* was the most popular party in 2005, 2011, and 2019, while *Socialistisk Folkeparti* led in 2007.\n",
    "\n",
    "- In *Nørrebro*, we observe that *Enhedslisten* has been the most popular party since 2011. Interestingly, in 2015, *Alternativet* received more votes than *Socialdemokratiet*. In fact, *Socialdemokratiet* has never been the leading party in *Nørrebro*.\n",
    "\n",
    "- It is also noteworthy how the *Falkoner*, *Slotskredsen*, and *Tårnby* constituencies exhibit different voting behavior compared to the others. In these areas, several right-wing parties — such as *Venstre*, *Dansk Folkeparti*, *Liberal Alliance*, and *Konservative Folkeparti* — have been among the most popular."
   ]
  },
  {
   "cell_type": "markdown",
   "id": "69539bc6",
   "metadata": {},
   "source": [
    "Now let us visualize the winning party in each constituency for each election year in a map, this will easier give us an overview of the winning party in each constituency."
   ]
  },
  {
   "cell_type": "code",
   "execution_count": 41,
   "id": "e7f8dc20",
   "metadata": {},
   "outputs": [],
   "source": [
    "df_winning_party_const = df_party_freq.loc[\n",
    "    df_party_freq.groupby(['Year', 'KredsNr'])['Votes (%)'].idxmax()\n",
    "].reset_index(drop=True)\n",
    "\n",
    "geojson_folder = \"Data/CopenhagenGeoData\"\n",
    "\n",
    "m_winning_party = folium.Map(location=[55.6461, 12.5683], zoom_start=11.48, tiles=None, width='900px', height='600px')\n",
    "folium.TileLayer(\"cartodbpositron\", name=None, control=False).add_to(m_winning_party)\n",
    "\n",
    "# Loop over years\n",
    "for year in sorted(df_winning_party_const[\"Year\"].unique()):\n",
    "    fg = folium.map.FeatureGroup(name=str(year), overlay=False, show=(year == sorted(df_pivot_wing_freq[\"Year\"].unique())[0]))\n",
    "\n",
    "    df_year = df_winning_party_const[df_winning_party_const[\"Year\"] == year]\n",
    "    \n",
    "    for _, row in df_year.iterrows():\n",
    "        kreds_nr   = row[\"KredsNr\"]\n",
    "        kreds_name = constituency_id_to_name.get(kreds_nr)\n",
    "        party_name = row[\"Partyname\"]\n",
    "\n",
    "        # Get party color\n",
    "        fill_color = party_colors.get(party_name, \"#cccccc\")  # default grey if party not in dict\n",
    "\n",
    "        geojson_path = os.path.join(geojson_folder, f\"{kreds_name}.json\")\n",
    "        if not os.path.exists(geojson_path):\n",
    "            continue  # skip if geojson not found\n",
    "\n",
    "        with open(geojson_path, encoding=\"utf-8\") as f:\n",
    "            geojson = json.load(f)\n",
    "\n",
    "        tooltip_html = f\"\"\"\n",
    "            <div style='background:white;color:black;padding:6px 8px;border-radius:0;text-align:center;'>\n",
    "            <b>{kreds_name}</b><br>Winning party: {party_name}\n",
    "            <br>Votes: {row[\"Votes (%)\"]} %\n",
    "            </div>\n",
    "            \"\"\"\n",
    "\n",
    "        # build the feature\n",
    "        gj = folium.GeoJson(\n",
    "            data=geojson,\n",
    "            name=f\"{kreds_name}_{year}\",\n",
    "            style_function=lambda _, c=fill_color: {\n",
    "                \"fillColor\": c,\n",
    "                \"color\": \"black\",\n",
    "                \"weight\": 1,\n",
    "                \"fillOpacity\": 1,\n",
    "            },\n",
    "            tooltip=folium.Tooltip(tooltip_html, sticky=True, parse_html=True),\n",
    "        )\n",
    "        gj.add_to(fg)\n",
    "        \n",
    "    fg.add_to(m_winning_party)\n",
    "\n",
    "folium.LayerControl(collapsed=False).add_to(m_winning_party)\n",
    "\n",
    "m_winning_party.save(\"html_plots/map_winning_party.html\")"
   ]
  },
  {
   "cell_type": "code",
   "execution_count": 42,
   "id": "45ccb935",
   "metadata": {},
   "outputs": [
    {
     "data": {
      "text/html": [
       "\n",
       "        <iframe\n",
       "            width=\"100%\"\n",
       "            height=\"600\"\n",
       "            src=\"html_plots/map_winning_party.html\"\n",
       "            frameborder=\"0\"\n",
       "            allowfullscreen\n",
       "            \n",
       "        ></iframe>\n",
       "        "
      ],
      "text/plain": [
       "<IPython.lib.display.IFrame at 0x120bd00d0>"
      ]
     },
     "execution_count": 42,
     "metadata": {},
     "output_type": "execute_result"
    }
   ],
   "source": [
    "IFrame(src='html_plots/map_winning_party.html', width='100%', height=600)"
   ]
  },
  {
   "cell_type": "code",
   "execution_count": 43,
   "id": "73f2416b",
   "metadata": {},
   "outputs": [],
   "source": [
    "#TODO start with 2005 year Jasmin. Add disclaimer for the year that winning party can win with 0.1% eg 2011.\n",
    "#  Refer to earlier plot. IT DOES NOT mean that the majority votes a certain party. It is only the overall most receiving votes party that is listed. \n",
    "# I.e. Slots winning with only 18% of the overall number of votes in 2011"
   ]
  },
  {
   "cell_type": "markdown",
   "id": "1c765ab8",
   "metadata": {},
   "source": [
    "The map above shows the winning party in each constituency for each election year over the past two decades. The constituencies are colored based on the winning party, with different colors representing different parties.\n",
    "\n",
    "- In 2005, we see that *Socialdemokratiet* was the winning party in most constituencies, while *Radikale Venstre* won in a few constituencies, including *Nørrebro*, *Indre By*, and *Falkoner*. \n",
    "\n",
    "- In 2007, *Socialistisk Folkeparti* became the winning party in *Nørrebro*, *Indre By*, and *Vesterbro*, while *Socialdemokratiet* regained *Falkoner*. \n",
    "\n",
    "- In 2011, the distribution of winning parties became more diverse. Notably, *Venstre* won in *Tårnby* and *Slots*, while in central Copenhagen, both *Radikale Venstre* and *Enhedslisten* won in different constituencies.\n",
    "\n",
    "- In 2015, *Socialdemokratiet* dominated, winning most constituencies, with *Enhedslisten* securing *Nørrebro* and *Vesterbro*.\n",
    "\n",
    "- In 2019, *Radikale Venstre* won in *Indre By*, *Falkoner*, and *Østerbro*, where *Venstre* won *Slot*, and *Enhedslisten* won in *Nørrebro*, *Bispebjerg* and *Vesterbro*. \n",
    "\n",
    "- In the most recent election, 2022, *Socialdemokratiet* maintained dominance across most constituencies, while *Enhedslisten* won in several areas, including *Nørrebro*, *Bispebjerg*, *Indre By*, and *Vesterbro*.\n"
   ]
  },
  {
   "cell_type": "markdown",
   "id": "51df7017",
   "metadata": {},
   "source": [
    "### 3.2 Population trends and patterns\n",
    "\n",
    "\n",
    "> 🎵 *Did demographics play a role?*  \n",
    "> 🎵 *Did new arrivals change the poll?*  \n",
    "> 🎵 *We map the changes, district-wide,*  \n",
    "> 🎵 *To see where loyalties reside.*\n"
   ]
  },
  {
   "cell_type": "markdown",
   "id": "1d4dbfb4",
   "metadata": {},
   "source": [
    "After the deep dive into the voting patterns across each constituency, we will now do a deep dive into the demographics of each constituency in Copenhagen over the years. \n",
    "We will look into how the demographic measurres has changed over time (Each year that Danmarks Statistik has carried out the demographic statistics: 2004, 2009, 2014, 2019) for each constituency, and focus on both differences between neighboorhoods, evolvment over time, and potential differences in evolment over time for each neighboorhod.  \n",
    "\n",
    "The demographic measure we will explore are listed here in this respective order, of what we will look into first:\n",
    "\n",
    "* Age distribution\n",
    "* Highest achieved education\n",
    "* Non-Danish Origin\n",
    "* Income Support (social benefits)\n",
    "* Income per household\n",
    "* Housing situation"
   ]
  },
  {
   "cell_type": "markdown",
   "id": "ede79756",
   "metadata": {},
   "source": [
    "#### 3.2.1 Demographics data\n",
    "\n",
    "> 🎵 *Is Nørrebro all red and bold?*\n",
    "\n",
    "\n",
    "First, we explore the common distributional factors in a population. These data will help us understand if there is a major difference between the constituencies in demographics. We can hold the conclusions from this together with the elections data and see if the trends match.\n",
    "\n",
    "TODO: omformuler"
   ]
  },
  {
   "cell_type": "markdown",
   "id": "afe221b6",
   "metadata": {},
   "source": [
    "**Population demographics**\n",
    "\n",
    "... motivate"
   ]
  },
  {
   "cell_type": "code",
   "execution_count": 44,
   "id": "e891326c",
   "metadata": {},
   "outputs": [],
   "source": [
    "# Map the age groups to broader categories\n",
    "demo_population = df_demo_long.copy()\n",
    "\n",
    "age_groups = {\n",
    "    '0-4': '0-9',\n",
    "    '5-9': '0-9',\n",
    "    '10-14': '10-19',\n",
    "    '15-17': '10-19',\n",
    "    '18-19': '10-19',\n",
    "    '20-24': '20-29',\n",
    "    '25-29': '20-29',\n",
    "    '30-34': '30-39',\n",
    "    '35-39': '30-39',\n",
    "    '40-44': '40-49',\n",
    "    '45-49': '40-49',\n",
    "    '50-54': '50-59',\n",
    "    '55-59': '50-59',\n",
    "    '60-64': '60-69',\n",
    "    '65-69': '60-69',\n",
    "    '70-': '70+'}\n",
    "\n",
    "demo_population['Age_decades'] = demo_population['Age'].map(age_groups)"
   ]
  },
  {
   "cell_type": "code",
   "execution_count": 45,
   "id": "ef0a51df",
   "metadata": {},
   "outputs": [
    {
     "data": {
      "application/vnd.microsoft.datawrangler.viewer.v0+json": {
       "columns": [
        {
         "name": "index",
         "rawType": "int64",
         "type": "integer"
        },
        {
         "name": "Gruppe",
         "rawType": "int64",
         "type": "integer"
        },
        {
         "name": "KredsNr",
         "rawType": "int64",
         "type": "integer"
        },
        {
         "name": "Year",
         "rawType": "object",
         "type": "string"
        },
        {
         "name": "Gender",
         "rawType": "object",
         "type": "string"
        },
        {
         "name": "Age",
         "rawType": "object",
         "type": "string"
        },
        {
         "name": "Citizenship",
         "rawType": "object",
         "type": "string"
        },
        {
         "name": "Count",
         "rawType": "float64",
         "type": "float"
        },
        {
         "name": "Age_decades",
         "rawType": "object",
         "type": "string"
        }
       ],
       "conversionMethod": "pd.DataFrame",
       "ref": "5c24656f-57da-451f-82ec-1191cd7ac49d",
       "rows": [
        [
         "0",
         "101002",
         "1",
         "2014",
         "Women",
         "0-4",
         "Danmark",
         "2001.0",
         "0-9"
        ],
        [
         "1",
         "101009",
         "2",
         "2014",
         "Women",
         "0-4",
         "Danmark",
         "2172.0",
         "0-9"
        ],
        [
         "2",
         "101011",
         "3",
         "2014",
         "Women",
         "0-4",
         "Danmark",
         "1271.0",
         "0-9"
        ],
        [
         "3",
         "101019",
         "4",
         "2014",
         "Women",
         "0-4",
         "Danmark",
         "1539.0",
         "0-9"
        ],
        [
         "4",
         "101032",
         "7",
         "2014",
         "Women",
         "0-4",
         "Danmark",
         "2351.0",
         "0-9"
        ],
        [
         "5",
         "101046",
         "8",
         "2014",
         "Women",
         "0-4",
         "Danmark",
         "1629.0",
         "0-9"
        ],
        [
         "6",
         "101051",
         "9",
         "2014",
         "Women",
         "0-4",
         "Danmark",
         "1998.0",
         "0-9"
        ],
        [
         "7",
         "101058",
         "5",
         "2014",
         "Women",
         "0-4",
         "Danmark",
         "2266.0",
         "0-9"
        ],
        [
         "8",
         "101059",
         "6",
         "2014",
         "Women",
         "0-4",
         "Danmark",
         "1315.0",
         "0-9"
        ],
        [
         "9",
         "147004",
         "10",
         "2014",
         "Women",
         "0-4",
         "Danmark",
         "1635.0",
         "0-9"
        ],
        [
         "10",
         "147006",
         "11",
         "2014",
         "Women",
         "0-4",
         "Danmark",
         "1398.0",
         "0-9"
        ],
        [
         "11",
         "185006",
         "12",
         "2014",
         "Women",
         "0-4",
         "Danmark",
         "1418.0",
         "0-9"
        ],
        [
         "12",
         "101002",
         "1",
         "2014",
         "Women",
         "0-4",
         "Nordiskelande",
         "19.0",
         "0-9"
        ],
        [
         "13",
         "101009",
         "2",
         "2014",
         "Women",
         "0-4",
         "Nordiskelande",
         "36.0",
         "0-9"
        ],
        [
         "14",
         "101011",
         "3",
         "2014",
         "Women",
         "0-4",
         "Nordiskelande",
         "16.0",
         "0-9"
        ],
        [
         "15",
         "101019",
         "4",
         "2014",
         "Women",
         "0-4",
         "Nordiskelande",
         "27.0",
         "0-9"
        ],
        [
         "16",
         "101032",
         "7",
         "2014",
         "Women",
         "0-4",
         "Nordiskelande",
         "15.0",
         "0-9"
        ],
        [
         "17",
         "101046",
         "8",
         "2014",
         "Women",
         "0-4",
         "Nordiskelande",
         "17.0",
         "0-9"
        ],
        [
         "18",
         "101051",
         "9",
         "2014",
         "Women",
         "0-4",
         "Nordiskelande",
         "36.0",
         "0-9"
        ],
        [
         "19",
         "101058",
         "5",
         "2014",
         "Women",
         "0-4",
         "Nordiskelande",
         "29.0",
         "0-9"
        ],
        [
         "20",
         "101059",
         "6",
         "2014",
         "Women",
         "0-4",
         "Nordiskelande",
         "9.0",
         "0-9"
        ],
        [
         "21",
         "147004",
         "10",
         "2014",
         "Women",
         "0-4",
         "Nordiskelande",
         "22.0",
         "0-9"
        ],
        [
         "22",
         "147006",
         "11",
         "2014",
         "Women",
         "0-4",
         "Nordiskelande",
         "11.0",
         "0-9"
        ],
        [
         "23",
         "185006",
         "12",
         "2014",
         "Women",
         "0-4",
         "Nordiskelande",
         "13.0",
         "0-9"
        ],
        [
         "24",
         "101002",
         "1",
         "2014",
         "Women",
         "0-4",
         "Tyrkiet",
         "1.0",
         "0-9"
        ],
        [
         "25",
         "101009",
         "2",
         "2014",
         "Women",
         "0-4",
         "Tyrkiet",
         "16.0",
         "0-9"
        ],
        [
         "26",
         "101011",
         "3",
         "2014",
         "Women",
         "0-4",
         "Tyrkiet",
         "1.0",
         "0-9"
        ],
        [
         "27",
         "101019",
         "4",
         "2014",
         "Women",
         "0-4",
         "Tyrkiet",
         "10.0",
         "0-9"
        ],
        [
         "28",
         "101032",
         "7",
         "2014",
         "Women",
         "0-4",
         "Tyrkiet",
         "20.0",
         "0-9"
        ],
        [
         "29",
         "101046",
         "8",
         "2014",
         "Women",
         "0-4",
         "Tyrkiet",
         "13.0",
         "0-9"
        ],
        [
         "30",
         "101051",
         "9",
         "2014",
         "Women",
         "0-4",
         "Tyrkiet",
         "2.0",
         "0-9"
        ],
        [
         "31",
         "101058",
         "5",
         "2014",
         "Women",
         "0-4",
         "Tyrkiet",
         "5.0",
         "0-9"
        ],
        [
         "32",
         "101059",
         "6",
         "2014",
         "Women",
         "0-4",
         "Tyrkiet",
         "7.0",
         "0-9"
        ],
        [
         "33",
         "147004",
         "10",
         "2014",
         "Women",
         "0-4",
         "Tyrkiet",
         "2.0",
         "0-9"
        ],
        [
         "34",
         "147006",
         "11",
         "2014",
         "Women",
         "0-4",
         "Tyrkiet",
         "1.0",
         "0-9"
        ],
        [
         "35",
         "185006",
         "12",
         "2014",
         "Women",
         "0-4",
         "Tyrkiet",
         "1.0",
         "0-9"
        ],
        [
         "36",
         "101002",
         "1",
         "2014",
         "Women",
         "0-4",
         "TidligereJugoslavien",
         "6.0",
         "0-9"
        ],
        [
         "37",
         "101009",
         "2",
         "2014",
         "Women",
         "0-4",
         "TidligereJugoslavien",
         "11.0",
         "0-9"
        ],
        [
         "38",
         "101011",
         "3",
         "2014",
         "Women",
         "0-4",
         "TidligereJugoslavien",
         "1.0",
         "0-9"
        ],
        [
         "39",
         "101019",
         "4",
         "2014",
         "Women",
         "0-4",
         "TidligereJugoslavien",
         "5.0",
         "0-9"
        ],
        [
         "40",
         "101032",
         "7",
         "2014",
         "Women",
         "0-4",
         "TidligereJugoslavien",
         "19.0",
         "0-9"
        ],
        [
         "41",
         "101046",
         "8",
         "2014",
         "Women",
         "0-4",
         "TidligereJugoslavien",
         "5.0",
         "0-9"
        ],
        [
         "42",
         "101051",
         "9",
         "2014",
         "Women",
         "0-4",
         "TidligereJugoslavien",
         "4.0",
         "0-9"
        ],
        [
         "43",
         "101058",
         "5",
         "2014",
         "Women",
         "0-4",
         "TidligereJugoslavien",
         "8.0",
         "0-9"
        ],
        [
         "44",
         "101059",
         "6",
         "2014",
         "Women",
         "0-4",
         "TidligereJugoslavien",
         "27.0",
         "0-9"
        ],
        [
         "45",
         "147004",
         "10",
         "2014",
         "Women",
         "0-4",
         "TidligereJugoslavien",
         "0.0",
         "0-9"
        ],
        [
         "46",
         "147006",
         "11",
         "2014",
         "Women",
         "0-4",
         "TidligereJugoslavien",
         "4.0",
         "0-9"
        ],
        [
         "47",
         "185006",
         "12",
         "2014",
         "Women",
         "0-4",
         "TidligereJugoslavien",
         "3.0",
         "0-9"
        ],
        [
         "48",
         "101002",
         "1",
         "2014",
         "Women",
         "0-4",
         "GamleEU-lande",
         "63.0",
         "0-9"
        ],
        [
         "49",
         "101009",
         "2",
         "2014",
         "Women",
         "0-4",
         "GamleEU-lande",
         "45.0",
         "0-9"
        ]
       ],
       "shape": {
        "columns": 8,
        "rows": 18432
       }
      },
      "text/html": [
       "<div>\n",
       "<style scoped>\n",
       "    .dataframe tbody tr th:only-of-type {\n",
       "        vertical-align: middle;\n",
       "    }\n",
       "\n",
       "    .dataframe tbody tr th {\n",
       "        vertical-align: top;\n",
       "    }\n",
       "\n",
       "    .dataframe thead th {\n",
       "        text-align: right;\n",
       "    }\n",
       "</style>\n",
       "<table border=\"1\" class=\"dataframe\">\n",
       "  <thead>\n",
       "    <tr style=\"text-align: right;\">\n",
       "      <th></th>\n",
       "      <th>Gruppe</th>\n",
       "      <th>KredsNr</th>\n",
       "      <th>Year</th>\n",
       "      <th>Gender</th>\n",
       "      <th>Age</th>\n",
       "      <th>Citizenship</th>\n",
       "      <th>Count</th>\n",
       "      <th>Age_decades</th>\n",
       "    </tr>\n",
       "  </thead>\n",
       "  <tbody>\n",
       "    <tr>\n",
       "      <th>0</th>\n",
       "      <td>101002</td>\n",
       "      <td>1</td>\n",
       "      <td>2014</td>\n",
       "      <td>Women</td>\n",
       "      <td>0-4</td>\n",
       "      <td>Danmark</td>\n",
       "      <td>2001.0</td>\n",
       "      <td>0-9</td>\n",
       "    </tr>\n",
       "    <tr>\n",
       "      <th>1</th>\n",
       "      <td>101009</td>\n",
       "      <td>2</td>\n",
       "      <td>2014</td>\n",
       "      <td>Women</td>\n",
       "      <td>0-4</td>\n",
       "      <td>Danmark</td>\n",
       "      <td>2172.0</td>\n",
       "      <td>0-9</td>\n",
       "    </tr>\n",
       "    <tr>\n",
       "      <th>2</th>\n",
       "      <td>101011</td>\n",
       "      <td>3</td>\n",
       "      <td>2014</td>\n",
       "      <td>Women</td>\n",
       "      <td>0-4</td>\n",
       "      <td>Danmark</td>\n",
       "      <td>1271.0</td>\n",
       "      <td>0-9</td>\n",
       "    </tr>\n",
       "    <tr>\n",
       "      <th>3</th>\n",
       "      <td>101019</td>\n",
       "      <td>4</td>\n",
       "      <td>2014</td>\n",
       "      <td>Women</td>\n",
       "      <td>0-4</td>\n",
       "      <td>Danmark</td>\n",
       "      <td>1539.0</td>\n",
       "      <td>0-9</td>\n",
       "    </tr>\n",
       "    <tr>\n",
       "      <th>4</th>\n",
       "      <td>101032</td>\n",
       "      <td>7</td>\n",
       "      <td>2014</td>\n",
       "      <td>Women</td>\n",
       "      <td>0-4</td>\n",
       "      <td>Danmark</td>\n",
       "      <td>2351.0</td>\n",
       "      <td>0-9</td>\n",
       "    </tr>\n",
       "    <tr>\n",
       "      <th>...</th>\n",
       "      <td>...</td>\n",
       "      <td>...</td>\n",
       "      <td>...</td>\n",
       "      <td>...</td>\n",
       "      <td>...</td>\n",
       "      <td>...</td>\n",
       "      <td>...</td>\n",
       "      <td>...</td>\n",
       "    </tr>\n",
       "    <tr>\n",
       "      <th>23035</th>\n",
       "      <td>101058</td>\n",
       "      <td>5</td>\n",
       "      <td>2019</td>\n",
       "      <td>Men</td>\n",
       "      <td>70-</td>\n",
       "      <td>Uoplyst</td>\n",
       "      <td>3.0</td>\n",
       "      <td>70+</td>\n",
       "    </tr>\n",
       "    <tr>\n",
       "      <th>23036</th>\n",
       "      <td>101059</td>\n",
       "      <td>6</td>\n",
       "      <td>2019</td>\n",
       "      <td>Men</td>\n",
       "      <td>70-</td>\n",
       "      <td>Uoplyst</td>\n",
       "      <td>0.0</td>\n",
       "      <td>70+</td>\n",
       "    </tr>\n",
       "    <tr>\n",
       "      <th>23037</th>\n",
       "      <td>147004</td>\n",
       "      <td>10</td>\n",
       "      <td>2019</td>\n",
       "      <td>Men</td>\n",
       "      <td>70-</td>\n",
       "      <td>Uoplyst</td>\n",
       "      <td>2.0</td>\n",
       "      <td>70+</td>\n",
       "    </tr>\n",
       "    <tr>\n",
       "      <th>23038</th>\n",
       "      <td>147006</td>\n",
       "      <td>11</td>\n",
       "      <td>2019</td>\n",
       "      <td>Men</td>\n",
       "      <td>70-</td>\n",
       "      <td>Uoplyst</td>\n",
       "      <td>3.0</td>\n",
       "      <td>70+</td>\n",
       "    </tr>\n",
       "    <tr>\n",
       "      <th>23039</th>\n",
       "      <td>185006</td>\n",
       "      <td>12</td>\n",
       "      <td>2019</td>\n",
       "      <td>Men</td>\n",
       "      <td>70-</td>\n",
       "      <td>Uoplyst</td>\n",
       "      <td>0.0</td>\n",
       "      <td>70+</td>\n",
       "    </tr>\n",
       "  </tbody>\n",
       "</table>\n",
       "<p>18432 rows × 8 columns</p>\n",
       "</div>"
      ],
      "text/plain": [
       "       Gruppe  KredsNr  Year Gender  Age Citizenship   Count Age_decades\n",
       "0      101002        1  2014  Women  0-4     Danmark  2001.0         0-9\n",
       "1      101009        2  2014  Women  0-4     Danmark  2172.0         0-9\n",
       "2      101011        3  2014  Women  0-4     Danmark  1271.0         0-9\n",
       "3      101019        4  2014  Women  0-4     Danmark  1539.0         0-9\n",
       "4      101032        7  2014  Women  0-4     Danmark  2351.0         0-9\n",
       "...       ...      ...   ...    ...  ...         ...     ...         ...\n",
       "23035  101058        5  2019    Men  70-     Uoplyst     3.0         70+\n",
       "23036  101059        6  2019    Men  70-     Uoplyst     0.0         70+\n",
       "23037  147004       10  2019    Men  70-     Uoplyst     2.0         70+\n",
       "23038  147006       11  2019    Men  70-     Uoplyst     3.0         70+\n",
       "23039  185006       12  2019    Men  70-     Uoplyst     0.0         70+\n",
       "\n",
       "[18432 rows x 8 columns]"
      ]
     },
     "execution_count": 45,
     "metadata": {},
     "output_type": "execute_result"
    }
   ],
   "source": [
    "demo_population"
   ]
  },
  {
   "cell_type": "code",
   "execution_count": 46,
   "id": "209956a4",
   "metadata": {},
   "outputs": [
    {
     "data": {
      "text/plain": [
       "{'0-4': '0-9',\n",
       " '5-9': '0-9',\n",
       " '10-14': '10-19',\n",
       " '15-17': '10-19',\n",
       " '18-19': '10-19',\n",
       " '20-24': '20-29',\n",
       " '25-29': '20-29',\n",
       " '30-34': '30-39',\n",
       " '35-39': '30-39',\n",
       " '40-44': '40-49',\n",
       " '45-49': '40-49',\n",
       " '50-54': '50-59',\n",
       " '55-59': '50-59',\n",
       " '60-64': '60-69',\n",
       " '65-69': '60-69',\n",
       " '70-': '70+'}"
      ]
     },
     "execution_count": 46,
     "metadata": {},
     "output_type": "execute_result"
    }
   ],
   "source": [
    "age_groups"
   ]
  },
  {
   "cell_type": "code",
   "execution_count": 47,
   "id": "a1048be0",
   "metadata": {},
   "outputs": [
    {
     "data": {
      "text/html": [
       "<iframe\n",
       "    scrolling=\"no\"\n",
       "    width=\"100%\"\n",
       "    height=\"545px\"\n",
       "    src=\"iframe_figures/figure_47.html\"\n",
       "    frameborder=\"0\"\n",
       "    allowfullscreen\n",
       "></iframe>\n"
      ]
     },
     "metadata": {},
     "output_type": "display_data"
    }
   ],
   "source": [
    "#TODO move to plot file + farver + rækkefølge af legend + mere x-axis spacing + constituency right + no box around legends + y axis legend \"Population (%)\" + align with Jasmin exisiting plots\n",
    "def plot_stacked_line_from_grouped_df(\n",
    "    df_grouped,\n",
    "    colors,\n",
    "    constituency_id_to_name,\n",
    "    show_percentage=False,\n",
    "    title=\"\",\n",
    "    y_axis_title=\"\",\n",
    "    group_name=\"\",\n",
    "    group_order=[],\n",
    "    html = \"\"\n",
    "):\n",
    "\n",
    "    column_names = df_grouped.columns.to_list()\n",
    "\n",
    "    # Prepare DataFrame\n",
    "    df = df_grouped.copy()\n",
    "    df['KredsName'] = df['KredsNr'].map(constituency_id_to_name)\n",
    "    df['Year'] = df['Year'].astype(str)\n",
    "    df['Year'] = pd.Categorical(df['Year'], categories=sorted(df['Year'].unique()), ordered=True)\n",
    "\n",
    "    # Calculate percentage per year and kreds if needed\n",
    "    if show_percentage:\n",
    "        df['DisplayValue'] = df.groupby(['KredsName', 'Year'], observed=True)['Count'].transform(lambda x: x / x.sum() * 100)\n",
    "    else:\n",
    "        df['DisplayValue'] = df['Count']\n",
    "\n",
    "    # Define age group order explicitly\n",
    "    constituencies = df['KredsName'].dropna().unique()\n",
    "\n",
    "    fig = go.Figure()\n",
    "\n",
    "    # Add traces\n",
    "    for i, constituency in enumerate(constituencies):\n",
    "        for group in group_order:\n",
    "            sub = df[(df['KredsName'] == constituency) & (df[column_names[2]] == group)]\n",
    "            sub = sub.sort_values('Year')\n",
    "\n",
    "            fig.add_trace(go.Scatter(\n",
    "                x=sub['Year'],\n",
    "                y=sub['DisplayValue'],\n",
    "                mode='lines',\n",
    "                stackgroup='one',\n",
    "                name=f\"{group}\",\n",
    "                legendgroup=group,\n",
    "                showlegend=True,\n",
    "                line=dict(color=colors.get(group)),\n",
    "                fillcolor=colors.get(group),\n",
    "                line_shape=\"linear\",\n",
    "                visible=(i == 0),\n",
    "                hovertemplate=(\n",
    "                    f\"<b>{group}</b><br>Year: %{{x}}<br>\"\n",
    "                    f\"{'%' if show_percentage else 'Count'}: %{{y:.1f}}<extra></extra>\")\n",
    "            ))\n",
    "\n",
    "\n",
    "    # Dropdown buttons\n",
    "    buttons = []\n",
    "    for i, constituency in enumerate(constituencies):\n",
    "        visibility = []\n",
    "        for j in range(len(constituencies)):\n",
    "            visibility.extend([(j == i)] * len(group_order))\n",
    "        buttons.append(dict(\n",
    "            label=constituency,\n",
    "            method='update',\n",
    "            args=[{\"visible\": visibility}, {\"title\": {\"text\": f\"{title} - {constituency}\", \"x\": 0.5, \"xanchor\": \"center\"}}]\n",
    "\n",
    "        ))\n",
    "\n",
    "    # Layout\n",
    "    fig.update_layout(\n",
    "        updatemenus=[dict(\n",
    "            buttons=buttons,\n",
    "            direction=\"down\",\n",
    "            showactive=True,\n",
    "            x=0.0, xanchor=\"left\",\n",
    "            y=1.1, yanchor=\"top\"\n",
    "        )],\n",
    "        title=dict(text=f\"{title} - {constituencies[0]}\", x=0.5),\n",
    "        xaxis_title=\"Year of Data Collection\",\n",
    "        yaxis_title=y_axis_title if not show_percentage else \"Percentage\",\n",
    "        xaxis=dict(type='category'),\n",
    "        hovermode=\"x unified\",\n",
    "        plot_bgcolor='rgba(0,0,0,0)',\n",
    "        font=dict(family=\"Arial\", size=12),\n",
    "        legend_title_text=group_name,\n",
    "        legend=dict(orientation=\"v\", bordercolor=\"Black\", borderwidth=1),\n",
    "        #legend_tracegroupgap=0  # removes gaps\n",
    "    )\n",
    "\n",
    "    for trace in fig.data:\n",
    "        trace.legendgroup = trace.name\n",
    "\n",
    "    fig.update_xaxes(showline=True, linewidth=1, linecolor='lightgrey',\n",
    "                     showgrid=True, gridwidth=1, gridcolor='lightgrey')\n",
    "    fig.update_yaxes(showline=True, linewidth=1, linecolor='lightgrey',\n",
    "                     showgrid=True, gridwidth=1, gridcolor='lightgrey')\n",
    "    fig.write_html(html)\n",
    "    fig.show()\n",
    "\n",
    "# Group by district, year, and educationLevel type\n",
    "demo_by_kreds_year_age = demo_population.groupby(['KredsNr', 'Year', 'Age_decades'])['Count'].sum().reset_index()\n",
    "\n",
    "plot_stacked_line_from_grouped_df(\n",
    "    df_grouped=demo_by_kreds_year_age,\n",
    "    colors = dict(zip(age_groups, expanded_theme_colors[:len(age_groups)])),\n",
    "    constituency_id_to_name=constituency_id_to_name,\n",
    "    show_percentage=True,\n",
    "    title=\"Age Distribution per Year\",\n",
    "    y_axis_title=\"Population Count\",\n",
    "    group_name = \"Age Group\",\n",
    "    group_order = [\"0-9\", \"10-19\", \"20-29\", \"30-39\", \"40-49\", \"50-59\", \"60-69\", \"70+\"],\n",
    "    html = 'html_plots/age_stacked_line_plot.html'\n",
    ")"
   ]
  },
  {
   "cell_type": "markdown",
   "id": "c8c7a9a9",
   "metadata": {},
   "source": [
    "**Education**\n",
    "\n",
    ".. motivate"
   ]
  },
  {
   "cell_type": "code",
   "execution_count": 48,
   "id": "17b08945",
   "metadata": {},
   "outputs": [],
   "source": [
    "\n",
    "\n",
    "# Drop 'unspecified' education level\n",
    "df_educ_long = df_educ_long[~(df_educ_long['EducationLevel'] == 'Unspecified')]\n",
    "\n",
    "\n",
    "# Copy the DataFrame\n",
    "educ_population = df_educ_long.copy()\n",
    "\n",
    "# Group by district, year, and educationLevel type\n",
    "educ_by_kreds_year_educationLevel = educ_population.groupby(['KredsNr', 'Year', 'EducationLevel'])['Count'].sum().reset_index()\n"
   ]
  },
  {
   "cell_type": "code",
   "execution_count": 49,
   "id": "3df43e85",
   "metadata": {},
   "outputs": [
    {
     "data": {
      "text/html": [
       "<iframe\n",
       "    scrolling=\"no\"\n",
       "    width=\"100%\"\n",
       "    height=\"545px\"\n",
       "    src=\"iframe_figures/figure_49.html\"\n",
       "    frameborder=\"0\"\n",
       "    allowfullscreen\n",
       "></iframe>\n"
      ]
     },
     "metadata": {},
     "output_type": "display_data"
    }
   ],
   "source": [
    "plot_stacked_line_from_grouped_df(\n",
    "    df_grouped=educ_by_kreds_year_educationLevel,\n",
    "    colors=dict(zip(age_groups, expanded_theme_colors[:len(age_groups)])),\n",
    "    constituency_id_to_name=constituency_id_to_name,\n",
    "    show_percentage=True,\n",
    "    title=\"Highest Achieved Education Distribution per Year\",\n",
    "    y_axis_title=\"Population Count\",\n",
    "    group_name = \"Education Level\",\n",
    "    group_order = ['Primary School', 'General Upper Secondary', 'Vocational Education', 'Short-cycle Higher Education', 'Medium-cycle Higher Education', 'Long-cycle Higher Education'],\n",
    "    html = 'html_plots/education_stacked_line_plot.html'\n",
    ")"
   ]
  },
  {
   "cell_type": "markdown",
   "id": "8d67aa13",
   "metadata": {},
   "source": [
    "**Origin**"
   ]
  },
  {
   "cell_type": "code",
   "execution_count": null,
   "id": "7ecf0531",
   "metadata": {},
   "outputs": [],
   "source": []
  },
  {
   "cell_type": "code",
   "execution_count": null,
   "id": "1dcc4d70",
   "metadata": {},
   "outputs": [],
   "source": []
  },
  {
   "cell_type": "code",
   "execution_count": null,
   "id": "fd3223d3",
   "metadata": {},
   "outputs": [],
   "source": []
  },
  {
   "cell_type": "markdown",
   "id": "cf4af007",
   "metadata": {},
   "source": [
    "#### 3.2.2 Socioeconomic factors\n",
    "\n",
    "  \n",
    "> 🎵 *Does Frederiksberg stay rich and cold?*  \n",
    "\n",
    "\n",
    "Now we will dive deeper into the factors that differentiate the population and which might have an influence in the oppinions and major policy priorities in the population. We seek to investigate if there is a connection between party and income factor as has been suggested in various [sources](https://www.kristeligt-dagblad.dk/danmark/betyder-indkomsten-noget-stemmeafgivningen) and which appears to be a common myth. We suspect that this data will give us insights into whether the common stereotypes are true and whether there are other unnoticed trends for the constituencies."
   ]
  },
  {
   "cell_type": "markdown",
   "id": "d00e8fbf",
   "metadata": {},
   "source": [
    "**Income Support**\n",
    "\n",
    "Insights into to how the population across the constituencies change for how the distribution of supports on income will give insights into how the population is different on another level than demographic counts."
   ]
  },
  {
   "cell_type": "code",
   "execution_count": 50,
   "id": "c183c4d5",
   "metadata": {},
   "outputs": [
    {
     "name": "stdout",
     "output_type": "stream",
     "text": [
      "'No Benefits' ratio by year:\n",
      "    Year  SupportRatio\n",
      "4   2009      0.641793\n",
      "13  2014      0.660979\n",
      "22  2019      0.687349\n"
     ]
    }
   ],
   "source": [
    "#### Support analysis\n",
    "df_support_long = df_support_long[~df_support_long['Year'].isin(['2005', '2022'])]\n",
    "df_support_long['Year'] = df_support_long['Year'].replace(year_replacements)\n",
    "\n",
    "# Group and aggregate\n",
    "df_total_pers = df_support_long.query(\"SupportType=='Total Number of Persons'\").groupby('Year')['Count'].sum().reset_index()\n",
    "df_total_pers = df_total_pers.rename(columns={'Count': 'TotalPersons'})\n",
    "\n",
    "df_support_count = df_support_long.query(\"SupportType!='Total Number of Persons'\").groupby(['Year', 'SupportType'])['Count'].sum().reset_index()\n",
    "\n",
    "df_support_ratio = pd.merge(df_support_count, df_total_pers, on='Year')\n",
    "df_support_ratio['SupportRatio'] = df_support_ratio['Count'] / df_support_ratio['TotalPersons']\n",
    "\n",
    "# Exclude \"No Received Benefits\"\n",
    "df_support_filtered = df_support_ratio[df_support_ratio['SupportType'] != 'No Received Benefits']\n",
    "df_no_benefits = df_support_ratio[df_support_ratio['SupportType'] == 'No Received Benefits']\n",
    "print(\"'No Benefits' ratio by year:\")\n",
    "print(df_no_benefits[['Year', 'SupportRatio']])\n"
   ]
  },
  {
   "cell_type": "code",
   "execution_count": 51,
   "id": "441b88c7",
   "metadata": {},
   "outputs": [
    {
     "data": {
      "image/png": "[encoded data removed]",
      "text/plain": [
       "<Figure size 1600x1200 with 12 Axes>"
      ]
     },
     "metadata": {},
     "output_type": "display_data"
    }
   ],
   "source": [
    "sns.set_theme(style=\"whitegrid\", font=\"Arial\")\n",
    "\n",
    "# Prepare and normalize data\n",
    "exclude_no_benefits = True\n",
    "df = df_support_long[df_support_long['SupportType'] != 'Total Number of Persons'].copy()\n",
    "df['District'] = df['KredsNr'].map(constituency_id_to_name)\n",
    "\n",
    "grouped = df.groupby(['Year', 'SupportType', 'District'], observed=True)['Count'].sum().reset_index()\n",
    "totals = grouped.groupby(['Year', 'District'], observed=True)['Count'].sum().reset_index(name='Total')\n",
    "grouped = grouped.merge(totals, on=['Year', 'District'])\n",
    "grouped['Percentage'] = grouped['Count'] / grouped['Total'] * 100\n",
    "\n",
    "if exclude_no_benefits:\n",
    "    grouped = grouped[grouped['SupportType'] != 'No Received Benefits']\n",
    "\n",
    "support_types = grouped['SupportType'].unique()\n",
    "palette = dict(zip(support_types, expanded_theme_colors[:len(support_types)]))\n",
    "\n",
    "# Plot\n",
    "districts = grouped['District'].unique()\n",
    "fig, axes = plt.subplots(4, 3, figsize=(16, 12), sharey=True)\n",
    "axes = axes.flatten()\n",
    "\n",
    "for idx, district in enumerate(districts):\n",
    "    ax = axes[idx]\n",
    "    df_d = grouped[grouped['District'] == district]\n",
    "    sns.barplot(\n",
    "        data=df_d, x='Year', y='Percentage', hue='SupportType',\n",
    "        order=sorted(df_d['Year'].unique()), hue_order=support_types,\n",
    "        errorbar=None, palette=palette, ax=ax\n",
    "    )\n",
    "    ax.set_title(district, fontsize=12)\n",
    "    ax.set_xlabel('')\n",
    "    ax.set_ylabel('Percentage', fontsize=12)\n",
    "    ax.tick_params(labelsize=12)\n",
    "    ax.legend_.remove()\n",
    "\n",
    "for j in range(idx + 1, len(axes)):\n",
    "    fig.delaxes(axes[j])\n",
    "\n",
    "fig.suptitle('Support Type Distribution per District', fontsize=20, fontname='Arial')\n",
    "plt.tight_layout(rect=[0, 0, 1, 0.96])\n",
    "plt.legend(title='Support Type', bbox_to_anchor=(1.05, 1), loc='upper left', fontsize=12, title_fontsize=12)\n",
    "plt.show()\n",
    "\n",
    "#TODO: y axis (%) + colors"
   ]
  },
  {
   "cell_type": "markdown",
   "id": "6516f1c5",
   "metadata": {},
   "source": [
    "This plot we keep in the exaplainer analysis. We notice that there is no difference over time. (write the numbers std dev. small). However, we are still interested in seing the difference by constituency and how those vary.\n",
    "\n",
    "Hold together with that there is around 10k people moving into the different district over the years. It means with this plot that the people that move into the different district have the same need for support. \n"
   ]
  },
  {
   "cell_type": "markdown",
   "id": "45df0f38",
   "metadata": {},
   "source": [
    "This figure shows how there is a difference in which districts that receive what kind of support. \n",
    "\n",
    "* Tårnby, Falkoner and Slots has the highest relative percentages of state pension. This aligns well with an older population in these constituencies.\n",
    "*   Tårnby also has a relatively high percentage of people on Early Retirement Pension.\n",
    "* The Unemployment Benefits are highest in Nørrebro, Vesterbro, Sundbyøster and Bispebjerg.\n",
    "\n",
    "It should be noted that SU (study support) does not appear in these plots.\n",
    "\n",
    "The 'No Received Benefits' which technically is a support type is used to normalize the other support types within each year. For all constituencies this variable is by far the most common."
   ]
  },
  {
   "cell_type": "markdown",
   "id": "4c9ce4a1",
   "metadata": {},
   "source": [
    "**Income**\n",
    "\n",
    "..."
   ]
  },
  {
   "cell_type": "code",
   "execution_count": 52,
   "id": "5823d687",
   "metadata": {},
   "outputs": [
    {
     "data": {
      "text/plain": [
       "['Under100.000kr.',\n",
       " '100.000-149.999kr',\n",
       " '150.000-199.999kr.',\n",
       " '200.000-299.999kr.',\n",
       " '300.000-399.999kr.',\n",
       " '400.000-499.999kr.',\n",
       " '500.000-749.999kr.',\n",
       " '750.000kr.-']"
      ]
     },
     "execution_count": 52,
     "metadata": {},
     "output_type": "execute_result"
    }
   ],
   "source": [
    "income_brackets"
   ]
  },
  {
   "cell_type": "code",
   "execution_count": 53,
   "id": "1ab55682",
   "metadata": {},
   "outputs": [
    {
     "name": "stderr",
     "output_type": "stream",
     "text": [
      "/var/folders/gq/83_83r9n6zbddrn0rsglnqj00000gn/T/ipykernel_62530/2926765767.py:2: FutureWarning:\n",
      "\n",
      "The default of observed=False is deprecated and will be changed to True in a future version of pandas. Pass observed=False to retain current behavior or observed=True to adopt the future default and silence this warning.\n",
      "\n"
     ]
    },
    {
     "data": {
      "text/html": [
       "<iframe\n",
       "    scrolling=\"no\"\n",
       "    width=\"100%\"\n",
       "    height=\"545px\"\n",
       "    src=\"iframe_figures/figure_53.html\"\n",
       "    frameborder=\"0\"\n",
       "    allowfullscreen\n",
       "></iframe>\n"
      ]
     },
     "metadata": {},
     "output_type": "display_data"
    }
   ],
   "source": [
    "\n",
    "\n",
    "# Group by district, year, and educationLevel type\n",
    "income_by_kreds_year = df_income_filtered.groupby(['KredsNr', 'Year', 'IncomeMetric'])['Value'].sum().reset_index()\n",
    "income_by_kreds_year.columns = ['KredsNr', 'Year', 'IncomeMetric', 'Count']\n",
    "\n",
    "plot_stacked_line_from_grouped_df(\n",
    "    df_grouped=income_by_kreds_year,\n",
    "    colors=dict(zip(income_brackets, expanded_theme_colors[:len(income_brackets)])),\n",
    "    constituency_id_to_name=constituency_id_to_name,\n",
    "    show_percentage=True,\n",
    "    title=\"Income per Household per Year\",\n",
    "    y_axis_title=\"Population Count\",\n",
    "    group_name = \"Income Level\",\n",
    "    group_order = income_brackets,\n",
    "    html = 'html_plots/Income_stacked_line_plot.html'\n",
    ")"
   ]
  },
  {
   "cell_type": "code",
   "execution_count": 54,
   "id": "71a6608f",
   "metadata": {},
   "outputs": [],
   "source": [
    "# Map district names\n",
    "df_income_filtered['District'] = df_income_filtered['KredsNr'].map(constituency_id_to_name)\n",
    "\n",
    "# Aggregate counts (sum) per Year, IncomeMetric, District\n",
    "df_grouped = df_income_filtered.groupby(['Year', 'IncomeMetric', 'District'], observed=True)['Value'].sum().reset_index()\n",
    "\n",
    "# Normalize to percentages within each district and year\n",
    "df_grouped['Percentage'] = df_grouped.groupby(['Year', 'District'])['Value'].transform(lambda x: 100 * x / x.sum())\n"
   ]
  },
  {
   "cell_type": "code",
   "execution_count": null,
   "id": "e47e5dd3",
   "metadata": {},
   "outputs": [],
   "source": [
    "\n",
    "\n"
   ]
  },
  {
   "cell_type": "code",
   "execution_count": 55,
   "id": "fc2c5a63",
   "metadata": {},
   "outputs": [
    {
     "data": {
      "image/png": "[encoded data removed]",
      "text/plain": [
       "<Figure size 1600x1200 with 12 Axes>"
      ]
     },
     "metadata": {},
     "output_type": "display_data"
    }
   ],
   "source": [
    "# Plot setup (static, seaborn)\n",
    "sns.set_theme(style=\"whitegrid\", font=\"Arial\")\n",
    "\n",
    "districts = df_grouped['District'].unique()\n",
    "cols = 3\n",
    "rows = 4\n",
    "fig, axes = plt.subplots(rows, cols, figsize=(16, rows * 3), sharey=True)\n",
    "axes = axes.flatten()\n",
    "\n",
    "# Apply custom colors\n",
    "palette = dict(zip(income_brackets, expanded_theme_colors[:len(income_brackets)]))\n",
    "\n",
    "# Plot per district\n",
    "for idx, district in enumerate(districts):\n",
    "    ax = axes[idx]\n",
    "    df_district = df_grouped[df_grouped['District'] == district]\n",
    "    sns.barplot(\n",
    "        data=df_district,\n",
    "        x='Year',\n",
    "        y='Percentage',\n",
    "        hue='IncomeMetric',\n",
    "        order=sorted(df_district['Year'].unique()),\n",
    "        hue_order=income_brackets,\n",
    "        errorbar=None,\n",
    "        palette=palette,\n",
    "        ax=ax\n",
    "    )\n",
    "    ax.set_title(district, fontsize=12)\n",
    "    ax.set_xlabel('')\n",
    "    ax.set_ylabel('Percentage', fontsize=12)\n",
    "    ax.tick_params(axis='both', labelsize=12)\n",
    "    ax.legend_.remove()\n",
    "\n",
    "\n",
    "# Main title and legend\n",
    "fig.suptitle('Income Distribution per District', fontsize=20, fontname='Arial')\n",
    "plt.tight_layout(rect=[0, 0, 1, 0.96])\n",
    "plt.legend(title='Income Bracket', bbox_to_anchor=(1.05, 1), loc='upper left', fontsize=12, title_fontsize=12)\n",
    "plt.show()\n"
   ]
  },
  {
   "cell_type": "markdown",
   "id": "c17a8244",
   "metadata": {},
   "source": [
    "**Housing Size**"
   ]
  },
  {
   "cell_type": "code",
   "execution_count": 56,
   "id": "7369f5f1",
   "metadata": {},
   "outputs": [],
   "source": [
    "# Copy and clean\n",
    "df = df_house_size_long.copy()\n",
    "df = df[~df['Year'].isin(['2005', '2022'])]\n",
    "df['Year'] = df['Year'].replace(year_replacements)\n",
    "\n",
    "# Drop unwanted category\n",
    "df = df[df['HouseSize'] != 'Oplystareal'].copy()\n",
    "\n",
    "# Order categories\n",
    "house_size_order = ['0-39m2', '40-79m2', '80-119m2', '120-159m2', '160-199m2', '200+m2']\n",
    "df['HouseSize'] = pd.Categorical(df['HouseSize'], categories=house_size_order, ordered=True)\n",
    "\n",
    "# Add district names\n",
    "df['KredsName'] = df['KredsNr'].map(constituency_id_to_name)\n",
    "\n",
    "# Group and normalize\n",
    "df_grouped = df.groupby(['KredsNr', 'Year', 'HouseSize'], observed=True)['Count'].sum().reset_index()\n",
    "\n",
    "# Optional: ensure string type for Year\n",
    "df_grouped['Year'] = df_grouped['Year'].astype(str)\n"
   ]
  },
  {
   "cell_type": "code",
   "execution_count": 57,
   "id": "6d55141c",
   "metadata": {},
   "outputs": [],
   "source": [
    "def plot_stacked_line_from_grouped_df(\n",
    "    df_grouped,\n",
    "    colors,\n",
    "    constituency_id_to_name,\n",
    "    show_percentage=False,\n",
    "    title=\"\",\n",
    "    y_axis_title=\"\",\n",
    "    group_name=\"\",\n",
    "    group_order=[]\n",
    "):\n",
    "\n",
    "    column_names = df_grouped.columns.to_list()\n",
    "\n",
    "    # Prepare DataFrame\n",
    "    df = df_grouped.copy()\n",
    "    df['KredsName'] = df['KredsNr'].map(constituency_id_to_name)\n",
    "    df['Year'] = df['Year'].astype(str)\n",
    "    df['Year'] = pd.Categorical(df['Year'], categories=sorted(df['Year'].unique()), ordered=True)\n",
    "\n",
    "    # Calculate percentage per year and kreds if needed\n",
    "    if show_percentage:\n",
    "        df['DisplayValue'] = df.groupby(['KredsName', 'Year'])['Count'].transform(lambda x: x / x.sum() * 100)\n",
    "    else:\n",
    "        df['DisplayValue'] = df['Count']\n",
    "\n",
    "    # Define age group order explicitly\n",
    "    constituencies = df['KredsName'].dropna().unique()\n",
    "\n",
    "    fig = go.Figure()\n",
    "\n",
    "    # Add traces\n",
    "    for i, constituency in enumerate(constituencies):\n",
    "        for group in group_order:\n",
    "            sub = df[(df['KredsName'] == constituency) & (df[column_names[2]] == group)]\n",
    "            sub = sub.sort_values('Year')\n",
    "\n",
    "            fig.add_trace(go.Scatter(\n",
    "                x=sub['Year'],\n",
    "                y=sub['DisplayValue'],\n",
    "                mode='lines',\n",
    "                stackgroup='one',\n",
    "                name=group,\n",
    "                marker=dict(color=const_colors.get(group)),\n",
    "                line_shape=\"linear\",\n",
    "                visible=(i == 0),\n",
    "                hovertemplate=(\n",
    "                    f\"<b>{group}</b><br>Year: %{{x}}<br>\"\n",
    "                    f\"{'%' if show_percentage else 'Count'}: %{{y:.1f}}<extra></extra>\")\n",
    "            ))\n",
    "\n",
    "    # Dropdown buttons\n",
    "    buttons = []\n",
    "    for i, constituency in enumerate(constituencies):\n",
    "        visibility = []\n",
    "        for j in range(len(constituencies)):\n",
    "            visibility.extend([(j == i)] * len(group_order))\n",
    "        buttons.append(dict(\n",
    "            label=constituency,\n",
    "            method='update',\n",
    "            args=[{\"visible\": visibility},\n",
    "                  {\"title\": f\"{title} - {constituency}\"}]\n",
    "        ))\n",
    "\n",
    "    # Layout\n",
    "    fig.update_layout(\n",
    "        updatemenus=[dict(\n",
    "            buttons=buttons,\n",
    "            direction=\"down\",\n",
    "            showactive=True,\n",
    "            x=0.0, xanchor=\"left\",\n",
    "            y=1.1, yanchor=\"top\"\n",
    "        )],\n",
    "        title=dict(text=f\"{title} - {constituencies[0]}\", x=0.5),\n",
    "        xaxis_title=\"Year of Data Collection\",\n",
    "        yaxis_title=y_axis_title if not show_percentage else \"Percentage\",\n",
    "        xaxis=dict(type='category'),\n",
    "        hovermode=\"x unified\",\n",
    "        plot_bgcolor='rgba(0,0,0,0)',\n",
    "        font=dict(family=\"Arial\", size=12),\n",
    "        legend_title_text=group_name,\n",
    "        legend=dict(orientation=\"v\", bordercolor=\"Black\", borderwidth=1)\n",
    "    )\n",
    "\n",
    "    fig.update_xaxes(showline=True, linewidth=1, linecolor='lightgrey',\n",
    "                     showgrid=True, gridwidth=1, gridcolor='lightgrey')\n",
    "    fig.update_yaxes(showline=True, linewidth=1, linecolor='lightgrey',\n",
    "                     showgrid=True, gridwidth=1, gridcolor='lightgrey')\n",
    "\n",
    "    fig.show()"
   ]
  },
  {
   "cell_type": "code",
   "execution_count": 58,
   "id": "d7c9c047",
   "metadata": {},
   "outputs": [
    {
     "name": "stderr",
     "output_type": "stream",
     "text": [
      "/var/folders/gq/83_83r9n6zbddrn0rsglnqj00000gn/T/ipykernel_62530/3479239587.py:22: FutureWarning:\n",
      "\n",
      "The default of observed=False is deprecated and will be changed to True in a future version of pandas. Pass observed=False to retain current behavior or observed=True to adopt the future default and silence this warning.\n",
      "\n"
     ]
    },
    {
     "data": {
      "text/html": [
       "<iframe\n",
       "    scrolling=\"no\"\n",
       "    width=\"100%\"\n",
       "    height=\"545px\"\n",
       "    src=\"iframe_figures/figure_58.html\"\n",
       "    frameborder=\"0\"\n",
       "    allowfullscreen\n",
       "></iframe>\n"
      ]
     },
     "metadata": {},
     "output_type": "display_data"
    }
   ],
   "source": [
    "plot_stacked_line_from_grouped_df(\n",
    "    df_grouped=df_grouped,\n",
    "    colors=dict(zip(age_groups, expanded_theme_colors[:len(age_groups)])), \n",
    "    constituency_id_to_name=constituency_id_to_name,\n",
    "    show_percentage=True,\n",
    "    title=\"Housing Size Distribution per District\",\n",
    "    y_axis_title=\"Percentage\",\n",
    "    group_name=\"House Size\",\n",
    "    group_order=house_size_order\n",
    ")\n"
   ]
  },
  {
   "cell_type": "code",
   "execution_count": 59,
   "id": "a5691a16",
   "metadata": {},
   "outputs": [
    {
     "name": "stdout",
     "output_type": "stream",
     "text": [
      "Dropped due to 'Oplystareal': 0.0 (0.000%)\n"
     ]
    },
    {
     "data": {
      "image/png": "[encoded data removed]",
      "text/plain": [
       "<Figure size 1600x1200 with 12 Axes>"
      ]
     },
     "metadata": {},
     "output_type": "display_data"
    }
   ],
   "source": [
    "### Housing size\n",
    "\n",
    "df_house_size_long = df_house_size_long.copy()\n",
    "\n",
    "df_house_size_long = df_house_size_long[~df_house_size_long['Year'].isin(['2005', '2022'])]\n",
    "df_house_size_long['Year'] = df_house_size_long['Year'].replace(year_replacements)\n",
    "\n",
    "sns.set_theme(style=\"whitegrid\", font=\"Arial\")\n",
    "\n",
    "# Drop 'Oplystareal' and report how much is dropped\n",
    "dropped = df_house_size_long[df_house_size_long['HouseSize'] == 'Oplystareal']['Count'].sum()\n",
    "total = df_house_size_long['Count'].sum()\n",
    "print(f\"Dropped due to 'Oplystareal': {dropped:,} ({dropped / total * 100:.3f}%)\")\n",
    "\n",
    "# Filter and categorize\n",
    "df_filtered = df_house_size_long[df_house_size_long['HouseSize'] != 'Oplystareal'].copy()\n",
    "order = ['0-39m2', '40-79m2', '80-119m2', '120-159m2', '160-199m2', '200+m2']\n",
    "df_filtered['HouseSize'] = pd.Categorical(df_filtered['HouseSize'], categories=order, ordered=True)\n",
    "df_filtered['District'] = df_filtered['KredsNr'].map(constituency_id_to_name)\n",
    "\n",
    "# Group and normalize\n",
    "df_grouped = df_filtered.groupby(['Year', 'HouseSize', 'District'], observed=True)['Count'].sum().reset_index()\n",
    "totals = df_grouped.groupby(['Year', 'District'], observed=True)['Count'].sum().reset_index(name='Total')\n",
    "df_grouped = df_grouped.merge(totals, on=['Year', 'District'])\n",
    "df_grouped['Percentage'] = df_grouped['Count'] / df_grouped['Total'] * 100\n",
    "\n",
    "# Plot\n",
    "palette = dict(zip(order, expanded_theme_colors[:len(order)]))\n",
    "districts = df_grouped['District'].unique()\n",
    "fig, axes = plt.subplots(4, 3, figsize=(16, 12), sharey=True)\n",
    "axes = axes.flatten()\n",
    "\n",
    "for idx, district in enumerate(districts):\n",
    "    ax = axes[idx]\n",
    "    df_d = df_grouped[df_grouped['District'] == district]\n",
    "    sns.barplot(\n",
    "        data=df_d, x='Year', y='Percentage', hue='HouseSize',\n",
    "        order=sorted(df_d['Year'].unique()), hue_order=order,\n",
    "        errorbar=None, palette=palette, ax=ax\n",
    "    )\n",
    "    ax.set_title(district, fontsize=12)\n",
    "    ax.set_xlabel('')\n",
    "    ax.set_ylabel('Percentage', fontsize=12)\n",
    "    ax.tick_params(labelsize=12)\n",
    "    ax.legend_.remove()\n",
    "\n",
    "for j in range(idx + 1, len(axes)):\n",
    "    fig.delaxes(axes[j])\n",
    "\n",
    "fig.suptitle('Living Size Distribution per District', fontsize=20, fontname='Arial')\n",
    "plt.tight_layout(rect=[0, 0, 1, 0.96])\n",
    "plt.legend(title='Living Size', bbox_to_anchor=(1.05, 1), loc='upper left', fontsize=12, title_fontsize=12)\n",
    "plt.show()"
   ]
  },
  {
   "cell_type": "markdown",
   "id": "b6acf1bc",
   "metadata": {},
   "source": [
    "This plot shows the differences in which living size is the most common from district to district. \n",
    "* Falkoner, Indre, Slots, Sundbyvester and Tårnby has more larger sized living spaces.\n",
    "* Bispebjerg, Brønshøj, Nørrebro, Sundbyøster, Vesterbro and Valby has more smaller.\n",
    "\n",
    "This account for all types of houses, i.e. appartments, houses, studios etc."
   ]
  },
  {
   "cell_type": "markdown",
   "id": "a94c7467",
   "metadata": {},
   "source": [
    "<a id=\"4\"></a>\n",
    "## 4. Genre\n",
    "\n",
    "\n",
    "> 🎵 *A magazine style sets the tone*  \n",
    "> 🎵 *With tabs and charts we’ve built and shown*  \n",
    "> 🎵 *We guide the path, but not alone—*  \n",
    "> 🎵 *Readers explore with clicks their own*\n",
    "\n",
    "This section explains the choice of genre and the tools and why these exactly are useful for telling the data story."
   ]
  },
  {
   "cell_type": "markdown",
   "id": "d3e76605",
   "metadata": {},
   "source": [
    "____\n",
    "\n",
    "\n",
    "**Which genre of data story did you use?**\n",
    "\n",
    "We used and focused on the **magazine style** presented in *Segal and Heer*. This was chosen because we wanted to present and guide the reader through the information in a structured way, while still including **elements of reader interaction**. This allows the reader to take charge and potentially learn more. We include different **tabs** that we suggest an order for, along with **interactive plots**.\n",
    "\n",
    "---\n",
    "\n",
    "**Which tools did you use from each of the 3 categories of Visual Narrative (Figure 7, Segal and Heer)? Why?**\n",
    "\n",
    "##### 1. Visual Structuring\n",
    "\n",
    "- **Consistent Visual Platform**  \n",
    "  We maintain the same layout throughout our website. While the main color, headers, text, and plots change between sections, the overall structure remains familiar to guide the reader.\n",
    "\n",
    "- **\"Checklist\" Progress Tracker**  \n",
    "  Implemented via **tabs** that help users navigate between sections. These tabs serve a similar function to a checklist, helping readers keep track of which topics they’ve explored.\n",
    "\n",
    "##### 2. Highlighting\n",
    "\n",
    "- **Feature Distinction**  \n",
    "  We use consistent **color coding** to distinguish key demographic and election variables. Comparable variables use aligned colors to highlight differences and guide reader focus.\n",
    "\n",
    "- **Zooming**  \n",
    "  (If included) In the election progression plot over time and across districts, users can **tick different years** and **zoom in** on the map of Copenhagen to explore trends more closely.\n",
    "\n",
    "##### 3. Transition Guidance\n",
    "\n",
    "- We do **not** explicitly use tools from this category *on* the website.  \n",
    "  However, we apply these in the **video for Assignment A**, including:\n",
    "  - **Familiar Objects** (districts and animated/drawn politician figures which we also used in the video Assignment A)\n",
    "  - **Animated Transitions** (zooming, sliding bars, animated text)\n",
    "\n",
    "- Possibly, we use **Object Continuity** on the website:\n",
    "  - The **same layout** across tabs\n",
    "  - Similar **heading visuals** (but not plots)\n",
    "\n",
    "---\n",
    "\n",
    "**Which tools did you use from each of the 3 categories of Narrative Structure (Figure 7, Segal and Heer)? Why?**\n",
    "\n",
    "##### 1. Ordering\n",
    "\n",
    "- **User-Directed Path (Somewhat)**  \n",
    "  Readers can explore the story in their own order via tabs.\n",
    "\n",
    "- **Linear Path (Mixed)**  \n",
    "  We suggest a logical flow through **tab ordering** and layout.\n",
    "\n",
    "##### 2. Interactivity\n",
    "\n",
    "- **Hover Highlighting / Details**  \n",
    "  On bar plots, readers get more information by hovering.\n",
    "\n",
    "- **Filtering / Selection**  \n",
    "  Plots allow filtering by year or variable.\n",
    "\n",
    "- **Navigation Buttons**  \n",
    "  Implemented as **tabs** for moving between sections.\n",
    "\n",
    "- **Explicit Instruction (Somewhat)**  \n",
    "  We guide users with suggestions on how to filter or which tabs to read first, while still allowing freedom.\n",
    "\n",
    "##### 3. Messaging\n",
    "\n",
    "- **Headlines**  \n",
    "  Used in each section to introduce the topic.\n",
    "\n",
    "- **Annotations**  \n",
    "  Included directly on plots to emphasize key points.\n",
    "\n",
    "- **Introductory Text**  \n",
    "  On the homepage, accompanied by our video from Assignment A, setting the context and motivation.\n",
    "\n",
    "- **Summary / Synthesis**\n",
    "  We conclude on one district but encourage the reader to explore and draw their own conclusions from the visual tools provided. We make a short synthesis on the website.\n",
    "\n",
    "\n",
    "----"
   ]
  },
  {
   "cell_type": "markdown",
   "id": "ce8eee93",
   "metadata": {},
   "source": [
    "<a id=\"5\"></a>\n",
    "\n",
    "## 5. Visualizations\n",
    "\n",
    "The visualizations that we have chosen for the website and how they contribute to telling the story with maximal insights."
   ]
  },
  {
   "cell_type": "markdown",
   "id": "79bb1cc4",
   "metadata": {},
   "source": [
    "<a id=\"6\"></a>\n",
    "\n",
    "## 6. Discussion"
   ]
  },
  {
   "cell_type": "markdown",
   "id": "5e2163dd",
   "metadata": {},
   "source": [
    "<a id=\"7\"></a>\n",
    "\n",
    "## 7. Contributions"
   ]
  },
  {
   "cell_type": "markdown",
   "id": "2cd55e50",
   "metadata": {},
   "source": [
    "| Section                    | Contributor(s)              |\n",
    "|----------------------------|-----------------------------|\n",
    "| Motivation                 | Smilla                      |\n",
    "| Basic Statistics           | Jasmin                      |\n",
    "| Data Analysis: Elections   | Jasmin                      |\n",
    "| Data Analysis: Demographics| Johanne & Smilla            |\n",
    "| Genre                      | Johanne                     |\n",
    "| Visualizations             | Smilla                      |\n",
    "| Discussion                 | All                         |\n"
   ]
  },
  {
   "cell_type": "markdown",
   "id": "843f93b2",
   "metadata": {},
   "source": [
    "<a id=\"8\"></a>\n",
    "\n",
    "## 8. References"
   ]
  },
  {
   "cell_type": "markdown",
   "id": "6b7a5ed8",
   "metadata": {},
   "source": [
    "1. Den Danske Valgdatabase. (n.d.). *Valgresultater og valgdata*. Retrieved from [https://valgdatabase.dst.dk](https://valgdatabase.dst.dk)\n",
    "\n",
    "2. Dataforsyningen. (n.d.). *Geodata for Danish Constituencies*. Retrieved from [https://dataforsyningen.dk](https://dataforsyningen.dk)\n",
    "\n",
    "3. Danmarks Statistik. (n.d.). *Population and Income Data*. Retrieved from [https://www.dst.dk/da/Statistik/emner/oekonomi/offentlig-oekonomi/sociale-udgifter]((https://www.dst.dk/da/Statistik/emner/oekonomi/offentlig-oekonomi/sociale-udgifter))\n",
    "\n",
    "4. Danmarks Statistik. (n.d.). *Population figures*. Retrieved from [https://www.dst.dk/en/Statistik/emner/borgere/befolkning/befolkningstal](https://www.dst.dk/en/Statistik/emner/borgere/befolkning/befolkningstal)\n",
    "\n",
    "5. Danmarks Statistik. (n.d.). *Households and families*. Retrieved from [https://www.dst.dk/en/Statistik/emner/borgere/husstande-familier-og-boern/husstande-og-familier](https://www.dst.dk/en/Statistik/emner/borgere/husstande-familier-og-boern/husstande-og-familier)\n",
    "\n",
    "6. Københavns Kommune. (n.d.). *Nøgletalsanalyser og statistik*. Retrieved from [https://www.kk.dk/om-kommunen/fakta-og-statistik/noegletalsanalyser](https://www.kk.dk/om-kommunen/fakta-og-statistik/noegletalsanalyser)\n",
    "\n",
    "7. Danmarkshistorien. (2022). Folketingsvalget 2022. Retrieved from https://danmarkshistorien.lex.dk/Folketingsvalget_2022\n",
    "\n",
    "8. AE Rådet. (2021). *Velstillede børnefamilier indtager København*. Retrieved from [https://www.ae.dk/files/dokumenter/analyse/ae_velstillede-boernefamilier-indtager-koebenhavn_0.pdf](https://www.ae.dk/files/dokumenter/analyse/ae_velstillede-boernefamilier-indtager-koebenhavn_0.pdf)\n",
    "\n",
    "9. Syddansk Universitet. (2018). *Selv under de værste livsforhold klarer kvinder sig bedre end mænd*. Retrieved from https://www.sdu.dk/da/forskning/ebb/nyt_epi/kvinder_klarer_sig_bedre_end_maend \n",
    "\n",
    "10. Berlingske. (2014). *En kæmpe plan for fremtidens København er på vej. Her er fire vigtige ting, du skal vide*. Retrieved from https://www.berlingske.dk/indland/en-kaempe-plan-for-fremtidens-koebenhavn-er-paa-vej-her-er-fire-vigtige"
   ]
  },
  {
   "cell_type": "markdown",
   "id": "86ba6e18",
   "metadata": {},
   "source": []
  }
 ],
 "metadata": {
  "kernelspec": {
   "display_name": "env_ds",
   "language": "python",
   "name": "python3"
  },
  "language_info": {
   "codemirror_mode": {
    "name": "ipython",
    "version": 3
   },
   "file_extension": ".py",
   "mimetype": "text/x-python",
   "name": "python",
   "nbconvert_exporter": "python",
   "pygments_lexer": "ipython3",
   "version": "3.11.8"
  }
 },
 "nbformat": 4,
 "nbformat_minor": 5
}
