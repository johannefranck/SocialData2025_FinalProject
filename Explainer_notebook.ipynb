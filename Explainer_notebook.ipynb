{
 "cells": [
  {
   "cell_type": "markdown",
   "id": "017892d6",
   "metadata": {},
   "source": [
    "# Final Project\n",
    "\n",
    "Jasmin Thari, Johanne Franck & Smilla Due"
   ]
  },
  {
   "cell_type": "markdown",
   "id": "7450bf57",
   "metadata": {},
   "source": []
  },
  {
   "cell_type": "code",
   "execution_count": null,
   "id": "8dfae8ba",
   "metadata": {},
   "outputs": [],
   "source": []
  },
  {
   "cell_type": "code",
   "execution_count": null,
   "id": "ebf014d4",
   "metadata": {},
   "outputs": [],
   "source": []
  },
  {
   "cell_type": "code",
   "execution_count": null,
   "id": "9d098faa",
   "metadata": {},
   "outputs": [],
   "source": []
  }
 ],
 "metadata": {
  "language_info": {
   "name": "python"
  }
 },
 "nbformat": 4,
 "nbformat_minor": 5
}
