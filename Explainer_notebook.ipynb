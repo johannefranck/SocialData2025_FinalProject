{
 "cells": [
  {
   "cell_type": "markdown",
   "id": "017892d6",
   "metadata": {},
   "source": [
    "# The Explainer Notebook\n",
    "\n",
    "<h1 align=\"center\">20 Years of Change: Voting Trends in Copenhagen’s National Elections</h1>\n",
    "\n",
    "<div align=\"center\">\n",
    "\n",
    "Jasmin Thari (s204155), Johanne Franck () & Smilla Due ()\n",
    "\n",
    "</div>\n"
   ]
  },
  {
   "cell_type": "markdown",
   "id": "47adaf09",
   "metadata": {},
   "source": [
    "### Structure of this Notebook\n",
    "\n",
    "This notebook consists of eight parts: [Motivation](#1), [Basic Statistics](#2), [Data Analysis](#3), [Genre](#4), [Visualizations](#5), [Discussion](#6), [Contributions](#7), and [References](#8).\n",
    "\n",
    "In the first part, **Motivation**, we describe the project's goals and provide an overview of the dataset used.\n",
    "\n",
    "In the second part, **Basic Statistics**, we give an overview of the dataset and its collection process. This section also includes a detailed explanation of the data cleaning procedures. Additionally, we present key dataset statistics and plots from our exploratory data analysis.\n",
    "\n",
    "In the third part, **Data Analysis**, we describe our analytical approach and the insights derived from the data.\n",
    "\n",
    "In the fourth part, **Genre**, we explain the genre chosen for our data story and outline the specific elements included in our data story.\n",
    "\n",
    "In the fifth part, **Visualizations**, we present the visualizations created to support our data story. We explain the purpose of each visualization and how it contributes to the overall narrative.\n",
    "\n",
    "In the sixth part, **Discussion**, we discuss the implications of our findings and how they relate to the broader context of voting trends in Copenhagen’s national elections. We also discuss the limitations of our analysis.\n",
    "\n",
    "Finally, in the **Contributions** section, we detail the roles and responsibilities of each group member in the project.\n",
    "\n",
    "\n",
    "### Table of Contents\n",
    "1. [Motivation](#1)  \n",
    "2. [Basic Statistics](#2)  \n",
    "3. [Data Analysis](#3)  \n",
    "4. [Genre](#4)  \n",
    "5. [Visualizations](#5)  \n",
    "6. [Discussion](#6)  \n",
    "7. [Contributions](#7)  \n",
    "8. [References](#8)\n",
    "\n",
    "---\n"
   ]
  },
  {
   "cell_type": "markdown",
   "id": "022a981c",
   "metadata": {},
   "source": [
    "<a id=\"1\"></a>\n",
    "## 1.  Motivation\n",
    "\n",
    "<!-- What is your dataset?\n",
    "Why did you choose this/these particular dataset(s)?\n",
    "What was your goal for the end user's experience? -->\n",
    "\n",
    "### 1.1 Motivation and goal\n",
    "\n",
    "\n",
    "### 1.2 Data\n",
    "\n",
    "The data used in this study was obtained from **[Den Danske Valgdatabase](https://valgdatabase.dst.dk/)**, powered by *Danmarks Statistik*. This comprehensive database contains election data from Denmark spanning back to 1979. It includes data from various types of elections including:\n",
    "\n",
    "- National parliamentary elections (*folketingsvalg*)  \n",
    "- European Parliament elections (*europaparlamentsvalg*)  \n",
    "- Referendums (*folkeafstemninger*)  \n",
    "- Municipal and regional elections (*kommunalvalg* and *regionsrådsvalg*)  \n",
    "- Parliamentary elections in Greenland and the Faroe Islands  \n",
    "\n",
    "For the purpose of this project, we have chosen to focus specifically on **national elections in the Copenhagen constituency** over the past two decades. This includes the elections held in the years:  \n",
    "**2001, 2005, 2007, 2011, 2015, and 2019** — resulting in a total of six elections.\n",
    "\n",
    "The extracted election data includes:\n",
    "\n",
    "- Total number of votes cast  \n",
    "- Number of votes per political party across constituencies  \n",
    "\n",
    "We filtered the dataset to include only constituencies within the **Copenhagen constituency (Københavns Storkreds)**. These constituencies are:\n",
    "\n",
    "1. Østerbrokredsen  \n",
    "2. Sundbyvesterkredsen  \n",
    "3. Indre Bykredsen  \n",
    "4. Sundbyøsterkredsen  \n",
    "5. Nørrebrokredsen  \n",
    "6. Bispebjergkredsen  \n",
    "7. Brønshøjkredsen  \n",
    "8. Valbykredsen  \n",
    "9. Vesterbrokredsen  \n",
    "10. Falkonerkredsen  \n",
    "11. Slotskredsen  \n",
    "12. Tårnbykredsen  \n",
    "\n",
    "In addition to election data, **demographic and socioeconomic data** about the population of Copenhagen is also extracted. This supplementary data helps us better understand voting patterns in the context of population characteristics. The additional data categories include:\n",
    "\n",
    "- **Demographic**: Gender, age, and ethnicity  \n",
    "- **Socioeconomic**: Income, education level, and employment status  \n",
    "- **Housing**: Type of housing, housing size, and housing prices  \n",
    "\n",
    "In total, this resulted in **six `.csv` files**, which will be imported, cleaned, and explained in detail in the following sections.\n"
   ]
  },
  {
   "cell_type": "markdown",
   "id": "cb027631",
   "metadata": {},
   "source": [
    "**Libaries**\n",
    "\n",
    "The libraries used for this project are presented and imported below."
   ]
  },
  {
   "cell_type": "code",
   "execution_count": null,
   "id": "60fadfc0",
   "metadata": {},
   "outputs": [],
   "source": [
    "import os\n",
    "import json\n",
    "from functools import partial\n",
    "\n",
    "import pandas as pd\n",
    "import numpy as np\n",
    "import geopandas as gpd\n",
    "\n",
    "import matplotlib.pyplot as plt\n",
    "import seaborn as sns\n",
    "from matplotlib.colors import to_hex\n",
    "import matplotlib.patches as mpatches\n",
    "\n",
    "\n",
    "from shapely.geometry import shape\n",
    "import folium\n",
    "from folium import FeatureGroup\n",
    "from folium.plugins import TimestampedGeoJson\n",
    "\n",
    "\n",
    "import ipywidgets as widgets\n",
    "from IPython.display import display, clear_output\n",
    "\n",
    "# Pandas settings\n",
    "pd.set_option('future.no_silent_downcasting', True)"
   ]
  },
  {
   "cell_type": "markdown",
   "id": "7c6079e9",
   "metadata": {},
   "source": [
    "<a id=\"2\"></a>\n",
    "## 2.  Basic Statistics\n",
    "\n",
    "This section is dividide into two parts: **2.1 Data Cleaning** and **2.2 Explorative Analysis**. In the first part, we load the data, clean it, and provide explanations of the cleaning process. In the second part, we present some basic statistics and visualizations of the data."
   ]
  },
  {
   "cell_type": "markdown",
   "id": "d64e797a",
   "metadata": {},
   "source": [
    "### 2.1 Data Cleaning\n",
    "\n",
    "In this section, we load and clean the data. Overall, we work with three different datasets:\n",
    "\n",
    "1. **Geographical data**: Contains geographic information at the constituency level. We use this dataset to filter the other datasets so that only constituencies within the Copenhagen area are included. \n",
    "\n",
    "2. **Election data**: Contains the number of votes received by each political party in each constituency, for each election year.\n",
    "\n",
    "3. **Population data**: Contains information about the population at the constituency level. This data is used to analyze voting patterns in relation to various population characteristics. To make the analysis more manageable, we divide this dataset into the following subsets:\n",
    "   - **Demographic data**: Includes information such as *gender*, *age*, and *citizenship*.\n",
    "   - **Origin**: Includes data on *immigrants and descendants*. \n",
    "   - **Socioeconomic data**: Covers *employment status* and *branch of work*.\n",
    "   - **Education data**: Covers *educational level*.\n",
    "   - **Income support**: Includes data on *income support*.\n",
    "   - **Income data**: Contains information on *income*.\n",
    "   - **Ownership**: Covers types of *ownership of housing*. \n",
    "   - **Housing type**: Specifies the *type of housing* people live in.\n",
    "   - **Housing size**: Contains data on *the size of house*.\n",
    "\n",
    "Both the election data and population data are initially in **wide format**, meaning each row represents a constituency and each column represents a variable. We convert the datasets into **long format** using the `melt` function. In long format, each row represents a single observation (e.g., a specific value for a variable in a constituency and year), making it easier to filter, group, and analyze the data."
   ]
  },
  {
   "cell_type": "markdown",
   "id": "d75b2d9e",
   "metadata": {},
   "source": [
    "##### 2.1.1 Geography data\n",
    "The first dataset we will import is the **geography data**. This dataset contains information about the geographical areas in Copenhagen, including the names of the constituencies and their corresponding codes. This dataset is essential for linking the election data and population data to the geographical areas in Copenhagen.\n",
    "\n",
    "The first step is to filter the dataset to only include the constituencies in the Copenhagen constituency. Next, we create a mapping between the constituency names and their corresponding codes. This mapping will be used throughout the notebook. "
   ]
  },
  {
   "cell_type": "code",
   "execution_count": 68,
   "id": "235ffc1a",
   "metadata": {},
   "outputs": [
    {
     "name": "stdout",
     "output_type": "stream",
     "text": [
      "Geography data shape: (13, 4)\n"
     ]
    }
   ],
   "source": [
    "# Load the data\n",
    "df_geo = pd.read_csv('Data/raw/Geografi.csv', sep=';', decimal=',', na_values='-')\n",
    "df_geo.columns = df_geo.columns.str.replace(' ', '', regex=True)\n",
    "\n",
    "# Filter the data to only keep Copenhagen Constituencies \n",
    "df_geo_cph = df_geo.query(\"Storkredsnavn=='Københavns Storkreds'\").drop_duplicates()\n",
    "df_geo_cph['KredsNr'] = df_geo_cph['KredsNr'].astype(int)\n",
    "\n",
    "# Keep only the necessary columns\n",
    "df_geo_cph = df_geo_cph[['KredsNr', 'Kredsnavn','KommuneNr','Kommunenavn']]\n",
    "\n",
    "# Replace Utterslev with Bispebjerg\n",
    "df_geo_cph['Kredsnavn'] = df_geo_cph['Kredsnavn'].replace({'6. Utterslev':'6. Bispebjerg'})\n",
    "\n",
    "# Drop duplicates\n",
    "df_geo_cph = df_geo_cph.drop_duplicates(subset=['KredsNr', 'Kredsnavn','KommuneNr','Kommunenavn'])\n",
    "\n",
    "print(\"Geography data shape:\", df_geo_cph.shape)"
   ]
  },
  {
   "cell_type": "code",
   "execution_count": 70,
   "id": "3a8b0e99",
   "metadata": {},
   "outputs": [],
   "source": [
    "# Split the 'Kredsnavn' column into two parts: ID and Name\n",
    "constituency_split = df_geo_cph['Kredsnavn'].drop_duplicates().str.split('.', n=1, expand=True)\n",
    "constituency_split.columns = ['ConstituencyID', 'ConstituencyName']\n",
    "\n",
    "# Convert ID column to integers and strip whitespace from the names\n",
    "constituency_split['ConstituencyID'] = constituency_split['ConstituencyID'].astype(int)\n",
    "constituency_split['ConstituencyName'] = constituency_split['ConstituencyName'].str.strip()\n",
    "\n",
    "# Create a mapping from ID to Name\n",
    "constituency_id_to_name = dict(zip(constituency_split['ConstituencyID'], constituency_split['ConstituencyName']))\n",
    "\n",
    "# Create a reverse mapping from Name to ID\n",
    "constituency_name_to_id = {name: id_ for id_, name in constituency_id_to_name.items()}"
   ]
  },
  {
   "cell_type": "markdown",
   "id": "be30491a",
   "metadata": {},
   "source": [
    "##### 2.1.2 Election data\n",
    "The second dataset we will import is the **election data**. This dataset is structured in wide format, where each row correspond to a constituency and each column corresponds to a political party per year, resulting in 172 columns. As this is a very inconvenient format, we will reshape the dataset to long format. \n",
    "\n",
    "First, we will filter the data to only include the constituencies in the Copenhagen constituency using the defined map. Next, we will reshape the dataset to long format, where each row corresponds to a constituency-year-party combination."
   ]
  },
  {
   "cell_type": "code",
   "execution_count": 71,
   "id": "837e8aed",
   "metadata": {},
   "outputs": [
    {
     "name": "stdout",
     "output_type": "stream",
     "text": [
      "Election data shape: (12, 172)\n"
     ]
    }
   ],
   "source": [
    "# Load the election data\n",
    "df_election = pd.read_csv('Data/raw/Valgdata.csv', sep=';' , decimal=',', na_values='-')\n",
    "df_election.columns = df_election.columns.str.replace(' ', '', regex=True)\n",
    "\n",
    "# Filter the election data to only keep the relevant constituencies\n",
    "df_elec_cph = df_election[df_election['KredsNr'].isin([str(k) for k in constituency_id_to_name.keys()])]\n",
    "df_elec_cph.loc[:, 'KredsNr'] = df_elec_cph['KredsNr'].astype(int)\n",
    "\n",
    "print(\"Election data shape:\", df_elec_cph.shape)"
   ]
  },
  {
   "cell_type": "code",
   "execution_count": 72,
   "id": "c0ab3c82",
   "metadata": {},
   "outputs": [
    {
     "name": "stdout",
     "output_type": "stream",
     "text": [
      "Election data long format shape: (2016, 4)\n"
     ]
    }
   ],
   "source": [
    "# Select vote cols (start with \"FV\")\n",
    "vote_columns = [col for col in df_elec_cph.columns if col.startswith(\"FV\")]\n",
    "\n",
    "# Melt the dataframe to long format\n",
    "df_elec_cph_long = df_elec_cph.melt(\n",
    "    id_vars=['KredsNr'],\n",
    "    value_vars=vote_columns,\n",
    "    var_name='YearParty',\n",
    "    value_name='Votes')\n",
    "\n",
    "# Split the 'YearParty' column into 'Year' and 'Party'\n",
    "df_elec_cph_long[['Year', 'Partyname']] = df_elec_cph_long['YearParty'].str.extract(r'FV(\\d{4})-(.+)')\n",
    "\n",
    "# Drop columns and reorder\n",
    "df_elec_cph_long = df_elec_cph_long.drop(columns='YearParty')\n",
    "df_elec_cph_long = df_elec_cph_long[['KredsNr', 'Year', 'Partyname', 'Votes']]\n",
    "\n",
    "# Replace NaN values in Votes with 0\n",
    "df_elec_cph_long['Votes'] = df_elec_cph_long['Votes'].fillna(0)\n",
    "\n",
    "# Convert 'Year' and KredsNr to integer\n",
    "df_elec_cph_long['Year'] = df_elec_cph_long['Year'].astype(int)\n",
    "df_elec_cph_long['KredsNr'] = df_elec_cph_long['KredsNr'].astype(int)\n",
    "\n",
    "print(\"Election data long format shape:\", df_elec_cph_long.shape)"
   ]
  },
  {
   "cell_type": "markdown",
   "id": "4fdda869",
   "metadata": {},
   "source": [
    "In the column `party_name`, we have the all parties represented in the elections - besides that we also have the total number of votes cast, blank votes, the number of invalid votes and eligible voters. However, for the main part of the analysis, we are interested in the political parties, and we also want to divide the votes into *left* and *right* wing. Therefore, we will create a new column `Wing` that indicates whether the party is left or right."
   ]
  },
  {
   "cell_type": "code",
   "execution_count": 74,
   "id": "9654cfee",
   "metadata": {},
   "outputs": [],
   "source": [
    "# All parties in the dataset\n",
    "parties = ['A.Socialdemokratiet','B.DetRadikaleVenstre', 'C.DetKonservativeFolkeparti','D.Centrum-Demokraterne', 'F.SF-SocialistiskFolkeparti',\n",
    "           'I.LiberalAlliance', 'K.Kristendemokraterne', 'O.DanskFolkeparti','M.Minoritetspartiet', 'V.Venstre,DanmarksLiberaleParti',\n",
    "           'Y.NyAlliance', 'Ø.Enhedslisten-DeRød-Grønne','Q.FrieGrønne,DanmarksNyeVenstrefløjsparti','Å.Alternativet',   'P.StramKurs', \n",
    "           'Æ.Danmarksdemokraterne-IngerStøjberg', 'E.KlausRiskærPedersen']\n",
    "\n",
    "wing = {\n",
    "    \"left\": ['A.Socialdemokratiet',\n",
    "             'F.SF-SocialistiskFolkeparti',\n",
    "             'Ø.Enhedslisten-DeRød-Grønne',\n",
    "             'Q.FrieGrønne,DanmarksNyeVenstrefløjsparti',\n",
    "             'Å.Alternativet',\n",
    "             'B.DetRadikaleVenstre',\n",
    "             'D.Centrum-Demokraterne',\n",
    "             'M.Minoritetspartiet'],\n",
    "    \"right\": ['C.DetKonservativeFolkeparti',\n",
    "              'V.Venstre,DanmarksLiberaleParti',\n",
    "              'I.LiberalAlliance',\n",
    "              'O.DanskFolkeparti',\n",
    "              'Æ.Danmarksdemokraterne-IngerStøjberg',\n",
    "              'P.StramKurs',\n",
    "              'K.Kristendemokraterne',\n",
    "              'Y.NyAlliance',\n",
    "              'E.KlausRiskærPedersen']}"
   ]
  },
  {
   "cell_type": "code",
   "execution_count": 75,
   "id": "55606ace",
   "metadata": {},
   "outputs": [],
   "source": [
    "df_elec_cph_long['Wing'] = df_elec_cph_long['Partyname'].apply(\n",
    "    lambda x: 'left' if x in wing['left'] else ('right' if x in wing['right'] else ''))"
   ]
  },
  {
   "cell_type": "markdown",
   "id": "c313a29e",
   "metadata": {},
   "source": [
    "##### 2.1.3 Population Data\n",
    "The third dataset we will import is the **population data**. This dataset contains information about the population in Denmark. The first step is to filter the dataset to only include the constituencies in the Copenhagen constituency using the defined map. \n",
    "\n",
    "As the data is structured in wide format with 11374 columns, we will split the data into sub dataframe and into long format, each corresponding to a specific characteristic. "
   ]
  },
  {
   "cell_type": "code",
   "execution_count": 76,
   "id": "582d04a2",
   "metadata": {},
   "outputs": [
    {
     "name": "stdout",
     "output_type": "stream",
     "text": [
      "Population data shape: (12, 11374)\n"
     ]
    }
   ],
   "source": [
    "# Load the population data\n",
    "df_population = pd.read_csv(\"Data/raw/Befolkning.csv\", sep=';', low_memory=False, decimal=',', na_values='-')\n",
    "df_population.columns = df_population.columns.str.replace(' ', '', regex=True)\n",
    "\n",
    "# Filter the population data to only keep the relevant constituencies\n",
    "df_population_cph = df_population[df_population['KredsNr'].isin([str(k) for k in constituency_id_to_name.keys()])]\n",
    "df_population_cph.loc[:, 'KredsNr'] = df_population_cph['KredsNr'].astype(int)\n",
    "\n",
    "print(f\"Population data shape: {df_population_cph.shape}\")"
   ]
  },
  {
   "cell_type": "markdown",
   "id": "75bbccd7",
   "metadata": {},
   "source": [
    "The dataset contains several columns that consist entirely of `NaN` values. These columns will therefore be dropped.\n",
    "\n",
    "In addition, some rows contain missing values. Upon inspection, these `NaN` entries appear to correspond to cases where the count is effectively zero—indicating that no individuals in that particular category were present in the given constituency. \n",
    "\n",
    "For example, a column like  \n",
    "`FV2015-Antalpersoneropgjortefterstatsborgerskabkønogaldersgrupper_Kvinder10-14år_09.Nordamerika`  \n",
    "represents the number of girls aged 10–14 with North American citizenship in a specific constituency. If the value is missing (`NaN`), it likely means that no such individuals were registered in the data. In such cases, we will treat `NaN` as `0`.\n",
    "\n"
   ]
  },
  {
   "cell_type": "code",
   "execution_count": 77,
   "id": "15d260bb",
   "metadata": {},
   "outputs": [
    {
     "name": "stdout",
     "output_type": "stream",
     "text": [
      "Population data shape after dropping empty columns: (12, 5824)\n"
     ]
    }
   ],
   "source": [
    "# Drop columns with all NaN values\n",
    "df_population_cph = df_population_cph.dropna(axis=1, how='all')\n",
    "print(f\"Population data shape after dropping empty columns: {df_population_cph.shape}\")"
   ]
  },
  {
   "cell_type": "code",
   "execution_count": 78,
   "id": "09916f3b",
   "metadata": {},
   "outputs": [],
   "source": [
    "# Replace NaN values with 0 & convert to numeric\n",
    "df_population_cph.fillna(0, inplace=True) \n",
    "df_population_cph = df_population_cph.apply(pd.to_numeric, errors='coerce')"
   ]
  },
  {
   "cell_type": "markdown",
   "id": "fe77153d",
   "metadata": {},
   "source": [
    "**Deomographics**"
   ]
  },
  {
   "cell_type": "code",
   "execution_count": null,
   "id": "4fb48bd8",
   "metadata": {},
   "outputs": [
    {
     "name": "stdout",
     "output_type": "stream",
     "text": [
      "Population demographics data shape: (27648, 7)\n"
     ]
    }
   ],
   "source": [
    "# Extract the demographic columns\n",
    "demographics_cols = [\n",
    "    col for col in df_population_cph.columns\n",
    "    if col.startswith(\"FV\") and \"Antalpersoneropgjortefter\" in col]\n",
    "\n",
    "# Melt the DataFrame\n",
    "df_demo_long = df_population_cph.melt(\n",
    "    id_vars=['Gruppe', 'KredsNr'],\n",
    "    value_vars=demographics_cols,\n",
    "    var_name='RawColumn',\n",
    "    value_name='Count')\n",
    "\n",
    "# Extract the fields using regex: FV<year>-Antalpersoner..._<Gender><Age>_<CitizenshipCode>.<CitizenshipName>\n",
    "df_demo_long[['Year', 'GenderAge', 'Citizenship']] = df_demo_long['RawColumn'].str.extract(\n",
    "    r'FV(\\d{4})-Antalpersoner.*?_(\\w+\\d+-?\\d*år)_(?:\\d+\\.)?(.+)$')\n",
    "\n",
    "# Separate Gender and Age\n",
    "df_demo_long[['Gender', 'Age']] = df_demo_long['GenderAge'].str.extract(r'(\\D+)(\\d+-?\\d*år)')\n",
    "\n",
    "# Reorder and clean\n",
    "df_demo_long = df_demo_long.drop(columns=['RawColumn', 'GenderAge'])\n",
    "df_demo_long = df_demo_long[['Gruppe', 'KredsNr', 'Year', 'Gender', 'Age', 'Citizenship', 'Count']]\n",
    "\n",
    "print(f\"Population demographics data shape: {df_demo_long.shape}\")"
   ]
  },
  {
   "cell_type": "markdown",
   "id": "8ece1164",
   "metadata": {},
   "source": [
    "Since there are repeated or inconsistent values in the Citizenship column, we define a mapping to standardize and convert them into a more readable and consistent format. The mapping is as follows:"
   ]
  },
  {
   "cell_type": "code",
   "execution_count": 82,
   "id": "f02e7c5c",
   "metadata": {},
   "outputs": [],
   "source": [
    "citizenship_map_en = {\n",
    "    'Danmark': 'Denmark',\n",
    "    'Nordiskelande': 'Nordic countries',\n",
    "    'Tyrkiet': 'Turkey',\n",
    "    'TidligereJugoslavien': 'Former Yugoslavia',\n",
    "    'GamleEU-lande': 'Old EU countries',\n",
    "    'ØvrigegamleEU-lande': 'Old EU countries', \n",
    "    'NyeEU-lande': 'New EU countries',\n",
    "    'ØvrigeEuropa': 'Other European countries',\n",
    "    'Afrika': 'Africa',\n",
    "    'Nordamerika': 'North America',\n",
    "    'Syd-ogMellemamerika': 'South and Central America',\n",
    "    'Syd-ogMellemam.': 'South and Central America',\n",
    "    'AsienogOceanien': 'Asia and Oceania',\n",
    "    'Asienogoceanien': 'Asia and Oceania',\n",
    "    'Uoplyst': 'Unspecified/Stateless',\n",
    "    'Uoplyst/statsløse': 'Unspecified/Stateless',\n",
    "}\n",
    "\n",
    "df_demo_long['Citizenship'] = df_demo_long['Citizenship'].replace(citizenship_map_en)"
   ]
  },
  {
   "cell_type": "markdown",
   "id": "c7ff593a",
   "metadata": {},
   "source": [
    "**Origin**"
   ]
  },
  {
   "cell_type": "code",
   "execution_count": 86,
   "id": "2cbcf5da",
   "metadata": {},
   "outputs": [
    {
     "name": "stdout",
     "output_type": "stream",
     "text": [
      "Population origin data shape: (25296, 7)\n"
     ]
    }
   ],
   "source": [
    "# Filter relevant columns\n",
    "origin_cols = [\n",
    "    col for col in df_population_cph.columns\n",
    "    if \"Indvandrereogefterkommerefordeltefteroprindelsesland\" in col]\n",
    "\n",
    "# Melt to long format\n",
    "df_origin_long = df_population_cph.melt(\n",
    "    id_vars=['Gruppe', 'KredsNr'],\n",
    "    value_vars=origin_cols,\n",
    "    var_name='RawColumn',\n",
    "    value_name='Count')\n",
    "\n",
    "# Extract year, gender, age, origin\n",
    "df_origin_long[['Year', 'GenderAge', 'Origin']] = df_origin_long['RawColumn'].str.extract(\n",
    "    r'FV(\\d{4})-Indvandrereogefterkommerefordeltefteroprindelsesland_(\\D+\\d+-?\\d*år)_(?:\\d+\\.)?(.+)$')\n",
    "\n",
    "# Split gender and age\n",
    "df_origin_long[['Gender', 'Age']] = df_origin_long['GenderAge'].str.extract(r'(\\D+)(\\d+-?\\d*år)')\n",
    "\n",
    "# Clean up\n",
    "df_origin_long = df_origin_long.drop(columns=['RawColumn', 'GenderAge'])\n",
    "df_origin_long['Age'] = df_origin_long['Age'].str.replace('år', '', regex=False)\n",
    "\n",
    "# Apply the citizenship mapping\n",
    "df_origin_long['Origin'] = df_origin_long['Origin'].replace(citizenship_map_en)\n",
    "\n",
    "print(f\"Population origin data shape: {df_origin_long.shape}\")"
   ]
  },
  {
   "cell_type": "markdown",
   "id": "e59bfffa",
   "metadata": {},
   "source": [
    "**Socio-economic**"
   ]
  },
  {
   "cell_type": "code",
   "execution_count": 89,
   "id": "edc22518",
   "metadata": {},
   "outputs": [
    {
     "name": "stdout",
     "output_type": "stream",
     "text": [
      "Socioeconomic data shape: (5760, 6)\n"
     ]
    }
   ],
   "source": [
    "# Extract the socioeconomic columns\n",
    "socioeconomic_cols = [\n",
    "    col for col in df_population_cph.columns\n",
    "    if col.startswith(\"FV\") and \"Socio-økonomiskstatusogbrancherfordeltpåafstemningsområder\" in col]\n",
    "\n",
    "# Melt to long format\n",
    "df_socio_long = df_population_cph.melt(\n",
    "    id_vars=['Gruppe', 'KredsNr'],\n",
    "    value_vars=socioeconomic_cols,\n",
    "    var_name='RawColumn',\n",
    "    value_name='Count')\n",
    "\n",
    "# Extract Year, Employment Group, and Industry\n",
    "df_socio_long[['Year', 'EmploymentGroup', 'Industry']] = df_socio_long['RawColumn'].str.extract(\n",
    "    r'FV(\\d{4})-Socio-økonomiskstatusogbrancherfordeltpåafstemningsområder_\\d+\\.(.+?)_(.+)')\n",
    "\n",
    "# Clean up columns\n",
    "df_socio_long = df_socio_long.drop(columns=['RawColumn'])\n",
    "df_socio_long = df_socio_long[['Gruppe', 'KredsNr', 'Year', 'EmploymentGroup', 'Industry', 'Count']]\n",
    "\n",
    "print(f\"Socioeconomic data shape: {df_socio_long.shape}\")"
   ]
  },
  {
   "cell_type": "markdown",
   "id": "309f5a08",
   "metadata": {},
   "source": [
    "**Education**"
   ]
  },
  {
   "cell_type": "code",
   "execution_count": 92,
   "id": "0cdbbf2d",
   "metadata": {},
   "outputs": [
    {
     "name": "stdout",
     "output_type": "stream",
     "text": [
      "Education data shape: (6624, 6)\n"
     ]
    }
   ],
   "source": [
    "# Extract the education columns\n",
    "educ_columns = [\n",
    "    col for col in df_population_cph.columns\n",
    "    if col.startswith(\"FV\") and \"Højstfuldførteerhvervsuddannelseogaldersgrupper\" in col]\n",
    "\n",
    "# Melt the DataFrame\n",
    "df_educ_long = df_population_cph.melt(\n",
    "    id_vars=['Gruppe', 'KredsNr'],\n",
    "    value_vars=educ_columns,\n",
    "    var_name='RawColumn',\n",
    "    value_name='Count')\n",
    "\n",
    "# Extract the fields using regex: FV<year>-Højstfuldførteer..._<Age>_<EducationLevel>\n",
    "df_educ_long[['Year', 'Age', 'EducationLevel']] = df_educ_long['RawColumn'].str.extract(\n",
    "    r'FV(\\d{4})-Højstfuldførteerhvervsuddannelseogaldersgrupper_(\\d{1,3}-?\\d*år)(?:_(?:\\d+\\.)?(.+))?$')\n",
    "\n",
    "# Remove 'år' from age\n",
    "df_educ_long['Age'] = df_educ_long['Age'].str.replace('år', '', regex=False)\n",
    "\n",
    "# Reorder and clean\n",
    "df_educ_long = df_educ_long.drop(columns=['RawColumn'])\n",
    "df_educ_long = df_educ_long[['Gruppe', 'KredsNr', 'Year', 'Age', 'EducationLevel', 'Count']]\n",
    "\n",
    "# Drop NaN values\n",
    "df_educ_long = df_educ_long.dropna(subset=['Year', 'Age', 'EducationLevel'])\n",
    "\n",
    "print(f\"Education data shape: {df_educ_long.shape}\")"
   ]
  },
  {
   "cell_type": "markdown",
   "id": "97a2a087",
   "metadata": {},
   "source": [
    "**Type of income support**"
   ]
  },
  {
   "cell_type": "code",
   "execution_count": 93,
   "id": "52d90b35",
   "metadata": {},
   "outputs": [
    {
     "name": "stdout",
     "output_type": "stream",
     "text": [
      "Support data shape: (576, 5)\n"
     ]
    }
   ],
   "source": [
    "# Extract the support columns\n",
    "support_cols = [\n",
    "    col for col in df_population_cph.columns\n",
    "    if col.startswith(\"FV\") and \"Personerefterforsørgelsestype\" in col]\n",
    "\n",
    "# Melt the DataFrame\n",
    "df_support_long = df_population_cph.melt(\n",
    "    id_vars=['Gruppe', 'KredsNr'],\n",
    "    value_vars=support_cols,\n",
    "    var_name='RawColumn',\n",
    "    value_name='Count')\n",
    "\n",
    "# Extract Year and SupportType\n",
    "df_support_long[['Year', 'SupportType']] = df_support_long['RawColumn'].str.extract(\n",
    "    r'FV(\\d{4})-Personerefterforsørgelsestype_\\d+\\.(.+)')\n",
    "\n",
    "# Clean up\n",
    "df_support_long = df_support_long.drop(columns='RawColumn')\n",
    "df_support_long = df_support_long[['Gruppe', 'KredsNr', 'Year', 'SupportType', 'Count']]\n",
    "\n",
    "print(f\"Support data shape: {df_support_long.shape}\")"
   ]
  },
  {
   "cell_type": "markdown",
   "id": "1fb5839c",
   "metadata": {},
   "source": [
    "**Income**"
   ]
  },
  {
   "cell_type": "code",
   "execution_count": null,
   "id": "7f37381a",
   "metadata": {},
   "outputs": [
    {
     "name": "stdout",
     "output_type": "stream",
     "text": [
      "Income data shape: (816, 5)\n"
     ]
    }
   ],
   "source": [
    "# Filter relevant income columns\n",
    "income_cols = [\n",
    "    col for col in df_population_cph.columns\n",
    "    if col.startswith(\"FV\") and \"Husstandsindkomsterfordeltpåafstemningsområder\" in col]\n",
    "\n",
    "# Melt\n",
    "df_income_long = df_population_cph.melt(\n",
    "    id_vars=['Gruppe', 'KredsNr'],\n",
    "    value_vars=income_cols,\n",
    "    var_name='RawColumn',\n",
    "    value_name='Value')\n",
    "\n",
    "# Extract Year + IncomeMetric\n",
    "df_income_long[['Year', 'IncomeMetric']] = df_income_long['RawColumn'].str.extract(\n",
    "    r'FV(\\d{4})-Husstandsindkomsterfordeltpåafstemningsområder_(.+)')\n",
    "\n",
    "# Clean up\n",
    "df_income_long = df_income_long.drop(columns='RawColumn')\n",
    "df_income_long = df_income_long[['Gruppe', 'KredsNr', 'Year', 'IncomeMetric', 'Value']]\n",
    "\n",
    "print(f\"Income data shape: {df_income_long.shape}\")"
   ]
  },
  {
   "cell_type": "markdown",
   "id": "46b02449",
   "metadata": {},
   "source": [
    "**Ownership type**"
   ]
  },
  {
   "cell_type": "code",
   "execution_count": 98,
   "id": "20999fea",
   "metadata": {},
   "outputs": [
    {
     "name": "stdout",
     "output_type": "stream",
     "text": [
      "Ownership data shape: (432, 6)\n"
     ]
    }
   ],
   "source": [
    "# Identify relevant boligtype columns\n",
    "ownership_cols = [\n",
    "    col for col in df_population_cph.columns\n",
    "    if col.startswith(\"FV\") and \"Ejerforhold\" in col]\n",
    "\n",
    "# Melt the DataFrame\n",
    "df_ownership_type_long = df_population_cph.melt(\n",
    "    id_vars=['Gruppe', 'KredsNr'],\n",
    "    value_vars=ownership_cols,\n",
    "    var_name='RawColumn',\n",
    "    value_name='Count')\n",
    "\n",
    "# Extract: year, aggregate level (boliger/personer), housing type\n",
    "df_ownership_type_long[['Year', 'AggregateLevel', 'OwnershipType']] = df_ownership_type_long['RawColumn'].str.extract(\n",
    "    r'FV(\\d{4})-Ejerforhold_Antal_(boliger|personer)_\\d+\\.(.+)')\n",
    "\n",
    "df_ownership_type_long['AggregateLevel'] = df_ownership_type_long['AggregateLevel'].map({'boliger': 'Units', 'personer': 'Residents'})\n",
    "\n",
    "# Reorder columns\n",
    "df_ownership_type_long = df_ownership_type_long[['Gruppe', 'KredsNr', 'Year', 'AggregateLevel', 'OwnershipType', 'Count']]\n",
    "\n",
    "# Drop columns with NaN values\n",
    "df_ownership_type_long = df_ownership_type_long.dropna(subset=['Year', 'AggregateLevel', 'OwnershipType'])\n",
    "\n",
    "print(f\"Ownership data shape: {df_ownership_type_long.shape}\")\n"
   ]
  },
  {
   "cell_type": "markdown",
   "id": "f397c241",
   "metadata": {},
   "source": [
    "**Housing type**"
   ]
  },
  {
   "cell_type": "code",
   "execution_count": 102,
   "id": "f30f93fd",
   "metadata": {},
   "outputs": [
    {
     "name": "stdout",
     "output_type": "stream",
     "text": [
      "Housing data shape: (432, 6)\n"
     ]
    }
   ],
   "source": [
    "# Identify relevant boligtype columns\n",
    "housing_type_cols = [\n",
    "    col for col in df_population_cph.columns\n",
    "    if col.startswith(\"FV\") and \"Boligtype\" in col]\n",
    "\n",
    "# Melt the DataFrame\n",
    "df_housing_type_long = df_population_cph.melt(\n",
    "    id_vars=['Gruppe', 'KredsNr'],\n",
    "    value_vars=housing_type_cols,\n",
    "    var_name='RawColumn',\n",
    "    value_name='Count')\n",
    "\n",
    "# Extract: year, aggregate level (boliger/personer), housing type\n",
    "df_housing_type_long[['Year', 'AggregateLevel', 'HousingType']] = df_housing_type_long['RawColumn'].str.extract(\n",
    "    r'FV(\\d{4})-Boligtype_Antal_(boliger|personer)_\\d+\\.(.+)')\n",
    "\n",
    "df_housing_type_long['AggregateLevel'] = df_housing_type_long['AggregateLevel'].map({'boliger': 'Units', 'personer': 'Residents'})\n",
    "\n",
    "# Reorder columns \n",
    "df_housing_type_long = df_housing_type_long[['Gruppe', 'KredsNr', 'Year', 'AggregateLevel', 'HousingType', 'Count']]\n",
    "\n",
    "# Drop columns with NaN values\n",
    "df_housing_type_long = df_housing_type_long.dropna(subset=['Year', 'AggregateLevel', 'HousingType'])\n",
    "\n",
    "print(f\"Housing data shape: {df_housing_type_long.shape}\")\n"
   ]
  },
  {
   "cell_type": "markdown",
   "id": "54240fa5",
   "metadata": {},
   "source": [
    "**Housing size**"
   ]
  },
  {
   "cell_type": "code",
   "execution_count": 105,
   "id": "90915b1b",
   "metadata": {},
   "outputs": [
    {
     "name": "stdout",
     "output_type": "stream",
     "text": [
      "House size data shape: (936, 6)\n"
     ]
    }
   ],
   "source": [
    "hoursing_size_columns = [\n",
    "    col for col in df_population_cph.columns\n",
    "    if col.startswith(\"FV\") and \"boligstørrelse\" in col]\n",
    "\n",
    "# Melt to long format\n",
    "df_house_size_long = df_population_cph.melt(\n",
    "    id_vars=['Gruppe', 'KredsNr'],\n",
    "    value_vars=hoursing_size_columns,\n",
    "    var_name='RawColumn',\n",
    "    value_name='Count')\n",
    "\n",
    "# Extract year, aggregate level, and size category\n",
    "df_house_size_long[['Year', 'AggregateLevel', 'HourseSize']] = df_house_size_long['RawColumn'].str.extract(\n",
    "    r'FV(\\d{4})-Boligerogpersonerefterboligstørrelse_\\d+\\.(?:Antal)?(boliger|personer)_(.+)')\n",
    "\n",
    "df_house_size_long['AggregateLevel'] = df_house_size_long['AggregateLevel'].map({'boliger': 'Units', 'personer': 'Residents'})\n",
    "\n",
    "# Reorder columns\n",
    "df_house_size_long = df_house_size_long[['Gruppe', 'KredsNr', 'Year', 'AggregateLevel', 'HourseSize', 'Count']]\n",
    "\n",
    "# Drop columns with NaN values\n",
    "df_house_size_long = df_house_size_long.dropna(subset=['Year', 'AggregateLevel', 'HourseSize'])\n",
    "\n",
    "print(f\"House size data shape: {df_house_size_long.shape}\")"
   ]
  },
  {
   "cell_type": "markdown",
   "id": "374cab9a",
   "metadata": {},
   "source": [
    "##### 2.2 Explorative Analysis"
   ]
  }
 ],
 "metadata": {
  "kernelspec": {
   "display_name": "env_ds",
   "language": "python",
   "name": "python3"
  },
  "language_info": {
   "codemirror_mode": {
    "name": "ipython",
    "version": 3
   },
   "file_extension": ".py",
   "mimetype": "text/x-python",
   "name": "python",
   "nbconvert_exporter": "python",
   "pygments_lexer": "ipython3",
   "version": "3.11.8"
  }
 },
 "nbformat": 4,
 "nbformat_minor": 5
}
